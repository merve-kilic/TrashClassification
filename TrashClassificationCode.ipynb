{
  "cells": [
    {
      "cell_type": "markdown",
      "metadata": {
        "id": "Oad9kDDNzFEI"
      },
      "source": [
        "# Exploring Data Augmentation for Trash Classification\n",
        "### ECE 285: Final Project\n",
        "#### Merve Kilic\n",
        "#### A15978640"
      ]
    },
    {
      "cell_type": "markdown",
      "metadata": {
        "id": "5XM1zm-0SOVl"
      },
      "source": [
        "## Setup"
      ]
    },
    {
      "cell_type": "code",
      "execution_count": null,
      "metadata": {
        "colab": {
          "base_uri": "https://localhost:8080/"
        },
        "id": "jc8j5hImSNt6",
        "outputId": "048d4572-e4de-4d22-be79-5ef82218ec49"
      },
      "outputs": [
        {
          "output_type": "stream",
          "name": "stdout",
          "text": [
            "Drive already mounted at /content/drive; to attempt to forcibly remount, call drive.mount(\"/content/drive\", force_remount=True).\n"
          ]
        }
      ],
      "source": [
        "from google.colab import drive\n",
        "drive.mount('/content/drive')"
      ]
    },
    {
      "cell_type": "code",
      "execution_count": null,
      "metadata": {
        "id": "YBEtvr5mSQyj"
      },
      "outputs": [],
      "source": [
        "# Imports\n",
        "import pickle\n",
        "import os\n",
        "from PIL import Image\n",
        "import numpy as np\n",
        "from matplotlib import pyplot as plt\n",
        "import torch\n",
        "import torch.nn as nn\n",
        "import torch.optim as optim\n",
        "import torch.nn.functional as F\n",
        "from torch.utils.data import Dataset, DataLoader, random_split, TensorDataset\n",
        "import torchvision\n",
        "from torchvision import datasets, transforms, models\n",
        "from sklearn.model_selection import train_test_split\n",
        "import os"
      ]
    },
    {
      "cell_type": "code",
      "execution_count": null,
      "metadata": {
        "id": "uolyKaeNSQ0a"
      },
      "outputs": [],
      "source": [
        "path = os.getcwd()\n",
        "path = path + '/drive/MyDrive/ECE 285: Visual Learning/Project/'\n",
        "\n"
      ]
    },
    {
      "cell_type": "code",
      "execution_count": null,
      "metadata": {
        "colab": {
          "base_uri": "https://localhost:8080/"
        },
        "id": "7pBwkAog3y-Y",
        "outputId": "00cf3b85-acc6-4be8-ced4-a5288ccace06"
      },
      "outputs": [
        {
          "output_type": "stream",
          "name": "stdout",
          "text": [
            "cuda\n"
          ]
        }
      ],
      "source": [
        "device = torch.device('cuda') if torch.cuda.is_available() else torch.device('cpu')\n",
        "print(device)"
      ]
    },
    {
      "cell_type": "markdown",
      "metadata": {
        "id": "agqjkQkqQqZz"
      },
      "source": [
        "## Data Preprocessing"
      ]
    },
    {
      "cell_type": "code",
      "execution_count": null,
      "metadata": {
        "id": "1KipZQueUnvT"
      },
      "outputs": [],
      "source": [
        "path_data = path + 'dataset-resized/'\n",
        "categories = ['cardboard', 'glass', 'metal', 'paper', 'plastic', 'trash']\n",
        "num_classes = 6\n",
        "im_size = (384, 512, 3)"
      ]
    },
    {
      "cell_type": "code",
      "execution_count": null,
      "metadata": {
        "id": "WF8E0UshQ78z"
      },
      "outputs": [],
      "source": [
        "Img_File_Extensions = [\n",
        "    '.jpg',\n",
        "    '.JPG',\n",
        "    '.jpeg',\n",
        "    '.JPEG',\n",
        "    '.png',\n",
        "    '.PNG',\n",
        "    '.ppm',\n",
        "    '.PPM',\n",
        "    '.bmp',\n",
        "    '.BMP',\n",
        "    '.tiff',\n",
        "    '.TIFF',\n",
        "]\n",
        "\n",
        "\n",
        "def is_image(file):\n",
        "    return any(file.endswith(extension) for extension in Img_File_Extensions)\n",
        "\n",
        "class MyDataloader(torch.utils.data.Dataset):\n",
        "  def __init__(self,data_root,transforms=None):\n",
        "    self.files = []\n",
        "    self.root = data_root\n",
        "    all_files = os.listdir(data_root)\n",
        "    self.files = [i for i in all_files if is_image(i)]\n",
        "    self.transforms = transforms\n",
        "  def __len__(self):\n",
        "    return len(self.files)\n",
        "  def __getitem__(self,idx):\n",
        "    file = os.path.join(self.root,self.files[idx])\n",
        "    raw_im = np.array(Image.open(file))\n",
        "    m = np.nanmean(raw_im)\n",
        "    raw_im = np.nan_to_num(raw_im,nan=m)\n",
        "    return raw_im\n"
      ]
    },
    {
      "cell_type": "code",
      "execution_count": null,
      "metadata": {
        "colab": {
          "base_uri": "https://localhost:8080/"
        },
        "id": "HPFW3tDyWXrF",
        "outputId": "9780c204-b86a-4a28-839c-06ee4dd5387d"
      },
      "outputs": [
        {
          "name": "stdout",
          "output_type": "stream",
          "text": [
            "cardboard shape:  (403, 384, 512, 3)\n",
            "glass shape:  (501, 384, 512, 3)\n",
            "metal shape:  (410, 384, 512, 3)\n",
            "paper shape:  (594, 384, 512, 3)\n",
            "plastic shape:  (482, 384, 512, 3)\n",
            "trash shape:  (137, 384, 512, 3)\n"
          ]
        }
      ],
      "source": [
        "for cat in categories:\n",
        "  dataset = MyDataloader(path_data + cat)\n",
        "  n_samples = len(dataset)\n",
        "  data = np.zeros((n_samples, *im_size))\n",
        "  for i in range(n_samples):\n",
        "    data[i] = dataset.__getitem__(i)\n",
        "  print(cat, 'shape: ', data.shape)\n",
        "  with open(path + 'pickle/' + cat + '.pickle', 'wb') as handle:\n",
        "    pickle.dump(data, handle)"
      ]
    },
    {
      "cell_type": "code",
      "execution_count": null,
      "metadata": {
        "colab": {
          "base_uri": "https://localhost:8080/"
        },
        "id": "syyWI9bMZ3ss",
        "outputId": "547e2fd3-b6f9-4dda-a6b6-841c04d66791"
      },
      "outputs": [
        {
          "name": "stdout",
          "output_type": "stream",
          "text": [
            "Total samples: 2527\n"
          ]
        }
      ],
      "source": [
        "n_samples = 403 + 501 + 410 + 594 + 482 + 137\n",
        "print(f'Total samples: {n_samples}')"
      ]
    },
    {
      "cell_type": "code",
      "execution_count": null,
      "metadata": {
        "id": "f0RaUb_7ZVr1"
      },
      "outputs": [],
      "source": [
        "input_data = np.zeros((n_samples, *im_size))\n",
        "target_data = np.zeros((n_samples, 1))\n",
        "cur_i = 0\n",
        "for label, cat in enumerate(categories):\n",
        "  with open(path + 'pickle/' + cat + '.pickle', 'rb') as handle:\n",
        "    cur_data = pickle.load(handle)\n",
        "  cur_n = cur_data.shape[0]\n",
        "  input_data[cur_i:cur_i + cur_n, :, :, :] = cur_data\n",
        "  target_data[cur_i:cur_i + cur_n] = np.ones((cur_n,1)) * label\n",
        "  cur_i += cur_n\n",
        "\n",
        "with open(path + 'pickle/input_data.pickle', 'wb') as handle:\n",
        "  pickle.dump(input_data, handle)\n",
        "\n",
        "with open(path + 'pickle/target_data.pickle', 'wb') as handle:\n",
        "  pickle.dump(target_data, handle)"
      ]
    },
    {
      "cell_type": "code",
      "execution_count": null,
      "metadata": {
        "id": "REaKA8itGcd7"
      },
      "outputs": [],
      "source": [
        "# Load Data\n",
        "with open(path + 'pickle/input_data.pickle', 'rb') as handle:\n",
        "    input_data = pickle.load(handle)\n",
        "with open(path + 'pickle/target_data.pickle', 'rb') as handle:\n",
        "    target_data = pickle.load(handle)"
      ]
    },
    {
      "cell_type": "code",
      "execution_count": null,
      "metadata": {
        "id": "Rf0Johs48_bW"
      },
      "outputs": [],
      "source": [
        "class CustomDataset(Dataset):\n",
        "    def __init__(self, data, target, transform=None):\n",
        "        self.data = torch.from_numpy(data).float()\n",
        "        self.target = torch.from_numpy(target).float()\n",
        "        self.transform = transform\n",
        "\n",
        "    def __getitem__(self, index):\n",
        "        x = self.data[index]\n",
        "        y = self.target[index]\n",
        "\n",
        "        # Permute the image tensor dimensions\n",
        "        x = x.permute(2, 0, 1)\n",
        "\n",
        "        if self.transform:\n",
        "            x = self.transform(x)\n",
        "\n",
        "        return x, y\n",
        "\n",
        "    def __len__(self):\n",
        "        return len(self.data)\n",
        "\n",
        "Create the dataset\n",
        "train_dataset = CustomDataset(input_data, target_data)"
      ]
    },
    {
      "cell_type": "code",
      "execution_count": null,
      "metadata": {
        "id": "FdpofQZw4Qvi"
      },
      "outputs": [],
      "source": [
        "with open(path + 'pickle/train_dataset.pickle', 'wb') as handle:\n",
        "    pickle.dump(train_dataset, handle)"
      ]
    },
    {
      "cell_type": "markdown",
      "metadata": {
        "id": "MDHNRb6KQqbq"
      },
      "source": [
        "## Define Models"
      ]
    },
    {
      "cell_type": "markdown",
      "metadata": {
        "id": "nt7yQv-PRa3L"
      },
      "source": [
        "### ResNet\n",
        "- Pretrained with ImageNet dataset"
      ]
    },
    {
      "cell_type": "code",
      "execution_count": null,
      "metadata": {
        "id": "l4AsrtjaQ8pk"
      },
      "outputs": [],
      "source": [
        "# Define the encoder and the decoder\n",
        "class ResnetEncoder(nn.Module):\n",
        "    def __init__(self):\n",
        "        super(ResnetEncoder, self).__init__()\n",
        "        self.resnet = models.resnet50(pretrained=True)\n",
        "        # Remove the last layer (fc) from the pretrained ResNet\n",
        "        self.resnet = nn.Sequential(*list(self.resnet.children())[:-1])\n",
        "\n",
        "    def forward(self, x):\n",
        "        return self.resnet(x)\n",
        "\n",
        "class Decoder(nn.Module):\n",
        "    def __init__(self, num_classes):\n",
        "        super(Decoder, self).__init__()\n",
        "        self.conv1 = nn.Conv2d(2048, 1024, kernel_size=3, stride=1, padding=1)\n",
        "        self.bn1 = nn.BatchNorm2d(1024)\n",
        "        self.conv2 = nn.Conv2d(1024, 512, kernel_size=3, stride=1, padding=1)\n",
        "        self.bn2 = nn.BatchNorm2d(512)\n",
        "        self.conv3 = nn.Conv2d(512, 256, kernel_size=3, stride=1, padding=1)\n",
        "        self.bn3 = nn.BatchNorm2d(256)\n",
        "        self.conv4 = nn.Conv2d(256, 128, kernel_size=3, stride=1, padding=1)\n",
        "        self.bn4 = nn.BatchNorm2d(128)\n",
        "        self.pool = nn.AdaptiveAvgPool2d((1, 1))\n",
        "        self.fc = nn.Linear(128, num_classes)\n",
        "\n",
        "    def forward(self, x):\n",
        "        x = F.relu(self.bn1(self.conv1(x)))\n",
        "        x = F.relu(self.bn2(self.conv2(x)))\n",
        "        x = F.relu(self.bn3(self.conv3(x)))\n",
        "        x = F.relu(self.bn4(self.conv4(x)))\n",
        "        x = self.pool(x)\n",
        "        x = x.view(x.size(0), -1)\n",
        "        return self.fc(x)\n",
        "\n",
        "# Combine the encoder and decoder into a single model\n",
        "class ResNetModel(nn.Module):\n",
        "    def __init__(self, num_classes):\n",
        "        super(ResNetModel, self).__init__()\n",
        "        self.encoder = ResnetEncoder()\n",
        "        self.decoder = Decoder(num_classes)\n",
        "\n",
        "    def forward(self, x):\n",
        "        x = self.encoder(x)\n",
        "        x = self.decoder(x)\n",
        "        return x"
      ]
    },
    {
      "cell_type": "markdown",
      "metadata": {
        "id": "xam3zv7PReFy"
      },
      "source": [
        "### VGG\n",
        "- Pretrained with ImageNet dataset"
      ]
    },
    {
      "cell_type": "code",
      "execution_count": null,
      "metadata": {
        "id": "DxTeMJRBRfsL"
      },
      "outputs": [],
      "source": [
        "# Define the encoder and the decoder\n",
        "class VGGEncoder(nn.Module):\n",
        "    def __init__(self):\n",
        "        super(VGGEncoder, self).__init__()\n",
        "        vgg = models.vgg16(pretrained=True)\n",
        "        self.features = vgg.features\n",
        "\n",
        "    def forward(self, x):\n",
        "        return self.features(x)\n",
        "\n",
        "class Decoder(nn.Module):\n",
        "    def __init__(self, num_classes):\n",
        "        super(Decoder, self).__init__()\n",
        "        self.conv1 = nn.Conv2d(512, 512, kernel_size=3, padding=1)\n",
        "        self.bn1 = nn.BatchNorm2d(512)\n",
        "        self.conv2 = nn.Conv2d(512, 256, kernel_size=3, padding=1)\n",
        "        self.bn2 = nn.BatchNorm2d(256)\n",
        "        self.conv3 = nn.Conv2d(256, 128, kernel_size=3, padding=1)\n",
        "        self.bn3 = nn.BatchNorm2d(128)\n",
        "        self.conv4 = nn.Conv2d(128, 64, kernel_size=3, padding=1)\n",
        "        self.bn4 = nn.BatchNorm2d(64)\n",
        "        self.pool = nn.AdaptiveAvgPool2d((1, 1))\n",
        "        self.fc = nn.Linear(64, num_classes)\n",
        "\n",
        "    def forward(self, x):\n",
        "        x = F.relu(self.bn1(self.conv1(x)))\n",
        "        x = F.relu(self.bn2(self.conv2(x)))\n",
        "        x = F.relu(self.bn3(self.conv3(x)))\n",
        "        x = F.relu(self.bn4(self.conv4(x)))\n",
        "        x = self.pool(x)\n",
        "        x = x.view(x.size(0), -1)\n",
        "        return self.fc(x)\n",
        "\n",
        "# Combine the encoder and decoder into a single model\n",
        "class VGGModel(nn.Module):\n",
        "    def __init__(self, num_classes):\n",
        "        super(VGGModel, self).__init__()\n",
        "        self.encoder = VGGEncoder()\n",
        "        self.decoder = Decoder(num_classes)\n",
        "\n",
        "    def forward(self, x):\n",
        "        x = self.encoder(x)\n",
        "        x = self.decoder(x)\n",
        "        return x"
      ]
    },
    {
      "cell_type": "markdown",
      "metadata": {
        "id": "F8WroEruExux"
      },
      "source": [
        "## Classification"
      ]
    },
    {
      "cell_type": "markdown",
      "metadata": {
        "id": "ON0t4Bw_E4Pu"
      },
      "source": [
        "### 1. Classification using Vanilla Datasaet"
      ]
    },
    {
      "cell_type": "markdown",
      "metadata": {
        "id": "cDx4ecvMKTRY"
      },
      "source": [
        "#### ResNet"
      ]
    },
    {
      "cell_type": "markdown",
      "metadata": {
        "id": "e0OFri93GAio"
      },
      "source": [
        "##### Training"
      ]
    },
    {
      "cell_type": "code",
      "execution_count": null,
      "metadata": {
        "id": "jxIk7yK66qOt"
      },
      "outputs": [],
      "source": [
        "with open(path + 'pickle/train_dataset.pickle', 'rb') as handle:\n",
        "    train_dataset = pickle.load(handle)"
      ]
    },
    {
      "cell_type": "code",
      "execution_count": null,
      "metadata": {
        "id": "D6QnKZTT664H"
      },
      "outputs": [],
      "source": [
        "# Split 80% for training and 20% for testing\n",
        "train_size = int(0.8 * len(train_dataset))\n",
        "test_size = len(train_dataset) - train_size\n",
        "\n",
        "torch.manual_seed(0)\n",
        "train_dataset, test_dataset = random_split(train_dataset, [train_size, test_size])\n",
        "\n",
        "# Create DataLoaders\n",
        "train_loader = DataLoader(train_dataset, batch_size=32, shuffle=True)\n",
        "test_loader = DataLoader(test_dataset, batch_size=32, shuffle=False)"
      ]
    },
    {
      "cell_type": "code",
      "execution_count": null,
      "metadata": {
        "colab": {
          "base_uri": "https://localhost:8080/"
        },
        "id": "zNj5rrjMN412",
        "outputId": "5c44c2d7-f1a9-47a3-fd5f-b5d8b62c92f6"
      },
      "outputs": [
        {
          "output_type": "stream",
          "name": "stderr",
          "text": [
            "/usr/local/lib/python3.10/dist-packages/torchvision/models/_utils.py:208: UserWarning: The parameter 'pretrained' is deprecated since 0.13 and may be removed in the future, please use 'weights' instead.\n",
            "  warnings.warn(\n",
            "/usr/local/lib/python3.10/dist-packages/torchvision/models/_utils.py:223: UserWarning: Arguments other than a weight enum or `None` for 'weights' are deprecated since 0.13 and may be removed in the future. The current behavior is equivalent to passing `weights=ResNet50_Weights.IMAGENET1K_V1`. You can also use `weights=ResNet50_Weights.DEFAULT` to get the most up-to-date weights.\n",
            "  warnings.warn(msg)\n"
          ]
        }
      ],
      "source": [
        "# Define model\n",
        "model = ResNetModel(num_classes=6).to(device)\n",
        "criterion = nn.CrossEntropyLoss()\n",
        "optimizer = torch.optim.Adam(model.parameters())"
      ]
    },
    {
      "cell_type": "code",
      "execution_count": null,
      "metadata": {
        "colab": {
          "base_uri": "https://localhost:8080/"
        },
        "id": "uKjXDJhLGCaB",
        "outputId": "160bf5a9-fb5b-4a64-8d41-57e920f71357"
      },
      "outputs": [
        {
          "output_type": "stream",
          "name": "stdout",
          "text": [
            "Epoch [1/30], Loss: 0.5835\n",
            "Epoch [2/30], Loss: 1.4447\n",
            "Epoch [3/30], Loss: 1.4549\n",
            "Epoch [4/30], Loss: 0.8779\n",
            "Epoch [5/30], Loss: 0.5538\n",
            "Epoch [6/30], Loss: 1.8794\n",
            "Epoch [7/30], Loss: 1.6093\n",
            "Epoch [8/30], Loss: 1.8244\n",
            "Epoch [9/30], Loss: 2.2939\n",
            "Epoch [10/30], Loss: 0.7113\n",
            "Epoch [11/30], Loss: 1.6037\n",
            "Epoch [12/30], Loss: 1.0270\n",
            "Epoch [13/30], Loss: 0.9104\n",
            "Epoch [14/30], Loss: 0.5243\n",
            "Epoch [15/30], Loss: 1.2034\n",
            "Epoch [16/30], Loss: 0.2045\n",
            "Epoch [17/30], Loss: 1.6159\n",
            "Epoch [18/30], Loss: 1.5789\n",
            "Epoch [19/30], Loss: 2.6309\n",
            "Epoch [20/30], Loss: 0.9566\n",
            "Epoch [21/30], Loss: 2.6671\n",
            "Epoch [22/30], Loss: 0.9359\n",
            "Epoch [23/30], Loss: 0.6511\n",
            "Epoch [24/30], Loss: 0.6111\n",
            "Epoch [25/30], Loss: 0.8251\n",
            "Epoch [26/30], Loss: 0.2969\n",
            "Epoch [27/30], Loss: 1.5537\n",
            "Epoch [28/30], Loss: 0.6415\n",
            "Epoch [29/30], Loss: 1.5015\n",
            "Epoch [30/30], Loss: 2.2059\n"
          ]
        }
      ],
      "source": [
        "# Training loop\n",
        "# Batch size is 32\n",
        "num_epochs = 30\n",
        "losses = np.zeros(num_epochs)\n",
        "\n",
        "for epoch in range(num_epochs):\n",
        "    for i, (images, labels) in enumerate(train_loader):\n",
        "        images = images.to(device)\n",
        "        labels = labels.reshape(-1).type(torch.LongTensor).to(device)\n",
        "\n",
        "        # Forward pass\n",
        "        outputs = model(images)\n",
        "        loss = criterion(outputs, labels)\n",
        "\n",
        "        # Backward and optimize\n",
        "        optimizer.zero_grad()\n",
        "        loss.backward()\n",
        "        optimizer.step()\n",
        "\n",
        "    losses[epoch] = loss.item()\n",
        "    print ('Epoch [{}/{}], Loss: {:.4f}'.format(epoch+1, num_epochs, loss.item()))\n",
        "\n",
        "\n",
        "with open(path + 'pickle/vanilla_RN_model.pickle', 'wb') as handle:\n",
        "    pickle.dump(model, handle)\n",
        "with open(path + 'pickle/vanilla_RN_loss.pickle', 'wb') as handle:\n",
        "    pickle.dump(losses, handle)"
      ]
    },
    {
      "cell_type": "code",
      "source": [
        "# Plot Training Loss\n",
        "# Batch size is 32\n",
        "plt.plot(losses)\n",
        "plt.xlabel('Epoch')\n",
        "plt.ylabel('Cross Entropy Loss')\n",
        "plt.title('Vanilla ResNet Model Training Loss');"
      ],
      "metadata": {
        "colab": {
          "base_uri": "https://localhost:8080/",
          "height": 472
        },
        "id": "djPKT_OLjbEV",
        "outputId": "bebc9f3c-7ac0-41aa-aba7-381d8e4937ba"
      },
      "execution_count": null,
      "outputs": [
        {
          "output_type": "display_data",
          "data": {
            "text/plain": [
              "<Figure size 640x480 with 1 Axes>"
            ],
            "image/png": "[encoded data removed]"
          },
          "metadata": {}
        }
      ]
    },
    {
      "cell_type": "markdown",
      "metadata": {
        "id": "NU6H9us1GHJN"
      },
      "source": [
        "##### Testing"
      ]
    },
    {
      "cell_type": "code",
      "source": [
        "with open(path + 'pickle/vanilla_RN_model.pickle', 'rb') as handle:\n",
        "    model = pickle.load(handle)"
      ],
      "metadata": {
        "id": "MYlMV5R3jjQa"
      },
      "execution_count": null,
      "outputs": []
    },
    {
      "cell_type": "code",
      "execution_count": null,
      "metadata": {
        "colab": {
          "base_uri": "https://localhost:8080/"
        },
        "id": "xpD8bWFwGD5_",
        "outputId": "668f9ca3-837e-46b4-82cb-a7804e26006f"
      },
      "outputs": [
        {
          "output_type": "stream",
          "name": "stdout",
          "text": [
            "Accuracy on the test set: 77.27%\n"
          ]
        }
      ],
      "source": [
        "# Batch size is 32\n",
        "model.eval()  # set the model to evaluation mode\n",
        "\n",
        "correct_predictions = 0\n",
        "total_predictions = 0\n",
        "\n",
        "with torch.no_grad():\n",
        "    for i, (images, labels) in enumerate(test_loader):\n",
        "        images = images.to(device)\n",
        "        labels = labels.reshape(-1).type(torch.LongTensor).to(device)\n",
        "\n",
        "        # Forward pass\n",
        "        outputs = model(images)\n",
        "\n",
        "        # Get prediction from max value\n",
        "        _, predicted = torch.max(outputs.data, 1)\n",
        "\n",
        "        total_predictions += labels.size(0)\n",
        "        correct_predictions += (predicted == labels).sum().item()\n",
        "\n",
        "accuracy = correct_predictions / total_predictions * 100\n",
        "print('Accuracy on the test set: {:.2f}%'.format(accuracy))"
      ]
    },
    {
      "cell_type": "markdown",
      "metadata": {
        "id": "hfAryQx3KaR3"
      },
      "source": [
        "#### VGG"
      ]
    },
    {
      "cell_type": "markdown",
      "metadata": {
        "id": "oSWE_BmOKlkZ"
      },
      "source": [
        "##### Training"
      ]
    },
    {
      "cell_type": "code",
      "execution_count": null,
      "metadata": {
        "id": "Fr6GuVOvwVRJ"
      },
      "outputs": [],
      "source": [
        "with open(path + 'pickle/train_dataset.pickle', 'rb') as handle:\n",
        "    train_dataset = pickle.load(handle)"
      ]
    },
    {
      "cell_type": "code",
      "execution_count": null,
      "metadata": {
        "id": "90Yq93U6wVRY"
      },
      "outputs": [],
      "source": [
        "# Split 80% for training and 20% for testing\n",
        "train_size = int(0.8 * len(train_dataset))\n",
        "test_size = len(train_dataset) - train_size\n",
        "\n",
        "torch.manual_seed(0)\n",
        "train_dataset, test_dataset = random_split(train_dataset, [train_size, test_size])\n",
        "\n",
        "# Create DataLoaders\n",
        "train_loader = DataLoader(train_dataset, batch_size=32, shuffle=True)\n",
        "test_loader = DataLoader(test_dataset, batch_size=32, shuffle=False)"
      ]
    },
    {
      "cell_type": "code",
      "execution_count": null,
      "metadata": {
        "colab": {
          "base_uri": "https://localhost:8080/"
        },
        "outputId": "13022c9f-8629-4587-98dc-7dca75747fdf",
        "id": "rmhVZmiNwVRZ"
      },
      "outputs": [
        {
          "output_type": "stream",
          "name": "stderr",
          "text": [
            "/usr/local/lib/python3.10/dist-packages/torchvision/models/_utils.py:208: UserWarning: The parameter 'pretrained' is deprecated since 0.13 and may be removed in the future, please use 'weights' instead.\n",
            "  warnings.warn(\n",
            "/usr/local/lib/python3.10/dist-packages/torchvision/models/_utils.py:223: UserWarning: Arguments other than a weight enum or `None` for 'weights' are deprecated since 0.13 and may be removed in the future. The current behavior is equivalent to passing `weights=VGG16_Weights.IMAGENET1K_V1`. You can also use `weights=VGG16_Weights.DEFAULT` to get the most up-to-date weights.\n",
            "  warnings.warn(msg)\n"
          ]
        }
      ],
      "source": [
        "# Define model\n",
        "model = VGGModel(num_classes=6).to(device)\n",
        "criterion = nn.CrossEntropyLoss()\n",
        "optimizer = torch.optim.Adam(model.parameters())"
      ]
    },
    {
      "cell_type": "code",
      "execution_count": null,
      "metadata": {
        "colab": {
          "base_uri": "https://localhost:8080/"
        },
        "outputId": "b4a242ae-f29f-4208-bf8f-d56bbe6b83a2",
        "id": "UR6FaJLMwVRZ"
      },
      "outputs": [
        {
          "output_type": "stream",
          "name": "stdout",
          "text": [
            "Epoch [1/30], Loss: 1.2100\n",
            "Epoch [2/30], Loss: 1.6699\n",
            "Epoch [3/30], Loss: 2.2965\n",
            "Epoch [4/30], Loss: 1.1234\n",
            "Epoch [5/30], Loss: 0.7553\n",
            "Epoch [6/30], Loss: 1.7209\n",
            "Epoch [7/30], Loss: 0.5006\n",
            "Epoch [8/30], Loss: 1.2734\n",
            "Epoch [9/30], Loss: 1.0240\n",
            "Epoch [10/30], Loss: 1.8028\n",
            "Epoch [11/30], Loss: 1.5777\n",
            "Epoch [12/30], Loss: 0.9700\n",
            "Epoch [13/30], Loss: 0.6100\n",
            "Epoch [14/30], Loss: 1.4552\n",
            "Epoch [15/30], Loss: 2.3289\n",
            "Epoch [16/30], Loss: 0.8816\n",
            "Epoch [17/30], Loss: 0.8311\n",
            "Epoch [18/30], Loss: 0.5279\n",
            "Epoch [19/30], Loss: 1.6057\n",
            "Epoch [20/30], Loss: 0.7101\n",
            "Epoch [21/30], Loss: 0.8695\n",
            "Epoch [22/30], Loss: 1.0373\n",
            "Epoch [23/30], Loss: 0.3493\n",
            "Epoch [24/30], Loss: 0.4629\n",
            "Epoch [25/30], Loss: 0.6119\n",
            "Epoch [26/30], Loss: 1.1666\n",
            "Epoch [27/30], Loss: 0.6665\n",
            "Epoch [28/30], Loss: 1.9473\n",
            "Epoch [29/30], Loss: 0.6243\n",
            "Epoch [30/30], Loss: 1.4307\n"
          ]
        }
      ],
      "source": [
        "# Training loop\n",
        "num_epochs = 30\n",
        "losses = np.zeros(num_epochs)\n",
        "\n",
        "for epoch in range(num_epochs):\n",
        "    for i, (images, labels) in enumerate(train_loader):\n",
        "        images = images.to(device)\n",
        "        labels = labels.reshape(-1).type(torch.LongTensor).to(device)\n",
        "\n",
        "        # Forward pass\n",
        "        outputs = model(images)\n",
        "        loss = criterion(outputs, labels)\n",
        "\n",
        "        # Backward and optimize\n",
        "        optimizer.zero_grad()\n",
        "        loss.backward()\n",
        "        optimizer.step()\n",
        "\n",
        "    losses[epoch] = loss.item()\n",
        "    print ('Epoch [{}/{}], Loss: {:.4f}'.format(epoch+1, num_epochs, loss.item()))\n",
        "\n",
        "\n",
        "with open(path + 'pickle/vanilla_VGG_model.pickle', 'wb') as handle:\n",
        "    pickle.dump(model, handle)\n",
        "with open(path + 'pickle/vanilla_VGG_loss.pickle', 'wb') as handle:\n",
        "    pickle.dump(losses, handle)"
      ]
    },
    {
      "cell_type": "code",
      "source": [
        "# Plot Training Loss\n",
        "plt.plot(losses)\n",
        "plt.xlabel('Epoch')\n",
        "plt.ylabel('Cross Entropy Loss')\n",
        "plt.title('Vanilla VGG Model Training Loss');"
      ],
      "metadata": {
        "colab": {
          "base_uri": "https://localhost:8080/",
          "height": 472
        },
        "id": "xr0jHCif0phk",
        "outputId": "5bceb641-c661-4f9c-dc10-e4b757865d4d"
      },
      "execution_count": null,
      "outputs": [
        {
          "output_type": "display_data",
          "data": {
            "text/plain": [
              "<Figure size 640x480 with 1 Axes>"
            ],
            "image/png": "[encoded data removed]"
          },
          "metadata": {}
        }
      ]
    },
    {
      "cell_type": "markdown",
      "metadata": {
        "id": "95JTqs8iKjW5"
      },
      "source": [
        "##### Testing"
      ]
    },
    {
      "cell_type": "code",
      "execution_count": null,
      "metadata": {
        "id": "sv9tvY5fKhYh",
        "colab": {
          "base_uri": "https://localhost:8080/"
        },
        "outputId": "382facbf-25da-43da-a94b-cdfab9ce0bbd"
      },
      "outputs": [
        {
          "output_type": "stream",
          "name": "stdout",
          "text": [
            "Accuracy on the test set: 36.96%\n"
          ]
        }
      ],
      "source": [
        "model.eval()\n",
        "\n",
        "correct_predictions = 0\n",
        "total_predictions = 0\n",
        "\n",
        "with torch.no_grad():\n",
        "    for i, (images, labels) in enumerate(test_loader):\n",
        "        images = images.to(device)\n",
        "        labels = labels.reshape(-1).type(torch.LongTensor).to(device)\n",
        "\n",
        "        # Forward pass\n",
        "        outputs = model(images)\n",
        "\n",
        "        # Get prediction from max value\n",
        "        _, predicted = torch.max(outputs.data, 1)\n",
        "\n",
        "        total_predictions += labels.size(0)\n",
        "        correct_predictions += (predicted == labels).sum().item()\n",
        "\n",
        "accuracy = correct_predictions / total_predictions * 100\n",
        "print('Accuracy on the test set: {:.2f}%'.format(accuracy))"
      ]
    },
    {
      "cell_type": "markdown",
      "metadata": {
        "id": "YFltOqtkcxsK"
      },
      "source": [
        "### 2. Classification with Data Augmented using Transformations\n",
        "\n"
      ]
    },
    {
      "cell_type": "markdown",
      "metadata": {
        "id": "VmPp4Z6BH3W_"
      },
      "source": [
        "#### Data Augmentation"
      ]
    },
    {
      "cell_type": "code",
      "execution_count": null,
      "metadata": {
        "id": "BEFRFC8CH5nR"
      },
      "outputs": [],
      "source": [
        "data_transform = transforms.Compose([\n",
        "    transforms.ToPILImage(),\n",
        "    transforms.RandomHorizontalFlip(),\n",
        "    transforms.RandomVerticalFlip(),\n",
        "    transforms.RandomRotation(20),\n",
        "    transforms.ToTensor(),\n",
        "    transforms.Normalize(mean=[0.485, 0.456, 0.406], std=[0.229, 0.224, 0.225]),  # ImageNet norms\n",
        "])\n",
        "\n",
        "train_dataset = CustomDataset(input_data, target_data, transform=data_transform)\n",
        "\n",
        "with open(path + 'pickle/train_dataset_transform.pickle', 'wb') as handle:\n",
        "    pickle.dump(train_dataset, handle)"
      ]
    },
    {
      "cell_type": "code",
      "execution_count": null,
      "metadata": {
        "id": "uuABkAJrpHnf"
      },
      "outputs": [],
      "source": [
        "with open(path + 'pickle/train_dataset_transform.pickle', 'rb') as handle:\n",
        "    train_dataset_transform = pickle.load(handle)"
      ]
    },
    {
      "cell_type": "code",
      "source": [
        "# Split 80% for training and 20% for testing\n",
        "train_size = int(0.8 * len(train_dataset_transform))\n",
        "test_size = len(train_dataset_transform) - train_size\n",
        "\n",
        "torch.manual_seed(0)\n",
        "train_data_transform, _ = random_split(train_dataset_transform, [train_size, test_size])\n",
        "\n",
        "# create DataLoader\n",
        "train_loader_transform = DataLoader(train_data_transform, batch_size=32, shuffle=True)"
      ],
      "metadata": {
        "id": "6zsqNcEkp_VL"
      },
      "execution_count": null,
      "outputs": []
    },
    {
      "cell_type": "code",
      "source": [
        "with open(path + 'pickle/train_dataset_transform.pickle', 'rb') as handle:\n",
        "    train_dataset_original = pickle.load(handle)"
      ],
      "metadata": {
        "id": "E2bOc98NpNPf"
      },
      "execution_count": null,
      "outputs": []
    },
    {
      "cell_type": "code",
      "source": [
        "# Split 80% for training and 20% for testing\n",
        "train_size = int(0.8 * len(train_dataset_original))\n",
        "test_size = len(train_dataset_original) - train_size\n",
        "\n",
        "# Split the dataset\n",
        "torch.manual_seed(0)\n",
        "train_data_original, test_data_original = random_split(train_dataset_original, [train_size, test_size])\n",
        "\n",
        "# create DataLoader\n",
        "train_loader_original= DataLoader(train_data_original, batch_size=32, shuffle=True)\n",
        "test_loader_original= DataLoader(test_data_original, batch_size=32, shuffle=False)"
      ],
      "metadata": {
        "id": "rnLjRHPmrEkh"
      },
      "execution_count": null,
      "outputs": []
    },
    {
      "cell_type": "code",
      "source": [
        "def itr_merge(*itrs):\n",
        "    for itr in itrs:\n",
        "        for v in itr:\n",
        "            yield v"
      ],
      "metadata": {
        "id": "hmHK7sfipZ9r"
      },
      "execution_count": null,
      "outputs": []
    },
    {
      "cell_type": "markdown",
      "metadata": {
        "id": "QPOnxX2WKwzD"
      },
      "source": [
        "#### ResNet"
      ]
    },
    {
      "cell_type": "markdown",
      "metadata": {
        "id": "V7Pd4LokKwzS"
      },
      "source": [
        "##### Training"
      ]
    },
    {
      "cell_type": "code",
      "execution_count": null,
      "metadata": {
        "colab": {
          "base_uri": "https://localhost:8080/"
        },
        "outputId": "cfb9b2b4-074b-421e-caab-c0075c20dedd",
        "id": "tP5ivu6HpHnh"
      },
      "outputs": [
        {
          "output_type": "stream",
          "name": "stderr",
          "text": [
            "/usr/local/lib/python3.10/dist-packages/torchvision/models/_utils.py:223: UserWarning: Arguments other than a weight enum or `None` for 'weights' are deprecated since 0.13 and may be removed in the future. The current behavior is equivalent to passing `weights=ResNet50_Weights.IMAGENET1K_V1`. You can also use `weights=ResNet50_Weights.DEFAULT` to get the most up-to-date weights.\n",
            "  warnings.warn(msg)\n",
            "Downloading: \"https://download.pytorch.org/models/resnet50-0676ba61.pth\" to /root/.cache/torch/hub/checkpoints/resnet50-0676ba61.pth\n",
            "100%|██████████| 97.8M/97.8M [00:00<00:00, 219MB/s]\n"
          ]
        }
      ],
      "source": [
        "# Define model\n",
        "model = ResNetModel(num_classes=6).to(device)\n",
        "criterion = nn.CrossEntropyLoss()\n",
        "optimizer = torch.optim.Adam(model.parameters())"
      ]
    },
    {
      "cell_type": "code",
      "execution_count": null,
      "metadata": {
        "colab": {
          "base_uri": "https://localhost:8080/"
        },
        "outputId": "8b1b1495-acae-44fa-b126-545b8177a390",
        "id": "C5HZ9r06pHnh"
      },
      "outputs": [
        {
          "output_type": "stream",
          "name": "stdout",
          "text": [
            "Epoch [1/30], Loss: 2.4152\n",
            "Epoch [2/30], Loss: 1.9121\n",
            "Epoch [3/30], Loss: 1.2010\n",
            "Epoch [4/30], Loss: 2.5597\n",
            "Epoch [5/30], Loss: 2.9012\n",
            "Epoch [6/30], Loss: 1.2534\n",
            "Epoch [7/30], Loss: 1.1565\n",
            "Epoch [8/30], Loss: 1.0861\n",
            "Epoch [9/30], Loss: 2.3627\n",
            "Epoch [10/30], Loss: 0.5720\n",
            "Epoch [11/30], Loss: 0.3645\n",
            "Epoch [12/30], Loss: 1.3886\n",
            "Epoch [13/30], Loss: 1.3987\n",
            "Epoch [14/30], Loss: 1.3040\n",
            "Epoch [15/30], Loss: 1.4466\n",
            "Epoch [16/30], Loss: 0.5002\n",
            "Epoch [17/30], Loss: 2.0628\n",
            "Epoch [18/30], Loss: 1.9555\n",
            "Epoch [19/30], Loss: 0.8560\n",
            "Epoch [20/30], Loss: 1.6170\n",
            "Epoch [21/30], Loss: 0.8625\n",
            "Epoch [22/30], Loss: 1.8246\n",
            "Epoch [23/30], Loss: 1.7012\n",
            "Epoch [24/30], Loss: 0.7827\n",
            "Epoch [25/30], Loss: 0.7420\n",
            "Epoch [26/30], Loss: 2.1797\n",
            "Epoch [27/30], Loss: 0.6430\n",
            "Epoch [28/30], Loss: 0.1581\n",
            "Epoch [29/30], Loss: 1.8329\n",
            "Epoch [30/30], Loss: 2.2177\n"
          ]
        }
      ],
      "source": [
        "# Training loop\n",
        "num_epochs = 30\n",
        "losses = np.zeros(num_epochs)\n",
        "\n",
        "for epoch in range(num_epochs):\n",
        "    for i, (images, labels) in enumerate(itr_merge(train_loader_original, train_loader_transform)):\n",
        "        images = images.to(device)\n",
        "        labels = labels.reshape(-1).type(torch.LongTensor).to(device)\n",
        "\n",
        "        # Forward pass\n",
        "        outputs = model(images)\n",
        "        loss = criterion(outputs, labels)\n",
        "\n",
        "        # Backward and optimize\n",
        "        optimizer.zero_grad()\n",
        "        loss.backward()\n",
        "        optimizer.step()\n",
        "\n",
        "    losses[epoch] = loss.item()\n",
        "    print ('Epoch [{}/{}], Loss: {:.4f}'.format(epoch+1, num_epochs, loss.item()))"
      ]
    },
    {
      "cell_type": "code",
      "source": [
        "with open(path + 'pickle/c_transform_RN_model.pickle', 'wb') as handle:\n",
        "    pickle.dump(model, handle)\n",
        "with open(path + 'pickle/c_transform_RN_loss.pickle', 'wb') as handle:\n",
        "    pickle.dump(losses, handle)"
      ],
      "metadata": {
        "id": "uxaR32U2tMst"
      },
      "execution_count": null,
      "outputs": []
    },
    {
      "cell_type": "code",
      "source": [
        "# Plot Training Loss\n",
        "plt.plot(losses)\n",
        "plt.xlabel('Epoch')\n",
        "plt.ylabel('Cross Entropy Loss')\n",
        "plt.title('Combined Transform Augmented ResNet Model Training Loss');"
      ],
      "metadata": {
        "colab": {
          "base_uri": "https://localhost:8080/",
          "height": 472
        },
        "outputId": "7054ea83-d6bf-4ddf-97d8-10c8594b9db7",
        "id": "B6rVqNhWpHni"
      },
      "execution_count": null,
      "outputs": [
        {
          "output_type": "display_data",
          "data": {
            "text/plain": [
              "<Figure size 640x480 with 1 Axes>"
            ],
            "image/png": "[encoded data removed]"
          },
          "metadata": {}
        }
      ]
    },
    {
      "cell_type": "markdown",
      "metadata": {
        "id": "b2Pxl2OLpHnj"
      },
      "source": [
        "##### Testing"
      ]
    },
    {
      "cell_type": "code",
      "source": [
        "model.eval()\n",
        "\n",
        "correct_predictions = 0\n",
        "total_predictions = 0\n",
        "\n",
        "with torch.no_grad():\n",
        "    for i, (images, labels) in enumerate(test_loader_original):\n",
        "        images = images.to(device)\n",
        "        labels = labels.reshape(-1).type(torch.LongTensor).to(device)\n",
        "\n",
        "        # Forward pass\n",
        "        outputs = model(images)\n",
        "\n",
        "        _, predicted = torch.max(outputs.data, 1)\n",
        "        total_predictions += labels.size(0)\n",
        "        correct_predictions += (predicted == labels).sum().item()\n",
        "\n",
        "accuracy = correct_predictions / total_predictions * 100\n",
        "print('Accuracy on the test set: {:.2f}%'.format(accuracy))"
      ],
      "metadata": {
        "colab": {
          "base_uri": "https://localhost:8080/"
        },
        "id": "shkpAdlnPDle",
        "outputId": "7476e507-33cf-41a0-f6d5-4b46e087d037"
      },
      "execution_count": null,
      "outputs": [
        {
          "output_type": "stream",
          "name": "stdout",
          "text": [
            "Accuracy on the test set: 21.15%\n"
          ]
        }
      ]
    },
    {
      "cell_type": "markdown",
      "metadata": {
        "id": "xE3uNHZNKwzT"
      },
      "source": [
        "#### VGG"
      ]
    },
    {
      "cell_type": "markdown",
      "metadata": {
        "id": "92HbAEIOARuw"
      },
      "source": [
        "##### Training"
      ]
    },
    {
      "cell_type": "code",
      "execution_count": null,
      "metadata": {
        "colab": {
          "base_uri": "https://localhost:8080/"
        },
        "outputId": "9cf81b6b-5406-4b05-a532-834022957586",
        "id": "n9qXvZoIARuw"
      },
      "outputs": [
        {
          "output_type": "stream",
          "name": "stderr",
          "text": [
            "/usr/local/lib/python3.10/dist-packages/torchvision/models/_utils.py:208: UserWarning: The parameter 'pretrained' is deprecated since 0.13 and may be removed in the future, please use 'weights' instead.\n",
            "  warnings.warn(\n",
            "/usr/local/lib/python3.10/dist-packages/torchvision/models/_utils.py:223: UserWarning: Arguments other than a weight enum or `None` for 'weights' are deprecated since 0.13 and may be removed in the future. The current behavior is equivalent to passing `weights=VGG16_Weights.IMAGENET1K_V1`. You can also use `weights=VGG16_Weights.DEFAULT` to get the most up-to-date weights.\n",
            "  warnings.warn(msg)\n",
            "Downloading: \"https://download.pytorch.org/models/vgg16-397923af.pth\" to /root/.cache/torch/hub/checkpoints/vgg16-397923af.pth\n",
            "100%|██████████| 528M/528M [00:01<00:00, 308MB/s]\n"
          ]
        }
      ],
      "source": [
        "# Define model\n",
        "model = VGGModel(num_classes=6).to(device)\n",
        "criterion = nn.CrossEntropyLoss()\n",
        "optimizer = torch.optim.Adam(model.parameters())"
      ]
    },
    {
      "cell_type": "code",
      "execution_count": null,
      "metadata": {
        "colab": {
          "base_uri": "https://localhost:8080/"
        },
        "outputId": "ec1fe193-3fcc-4a1c-ae4c-72d9df9f9ed0",
        "id": "12bPlLrFARuw"
      },
      "outputs": [
        {
          "output_type": "stream",
          "name": "stdout",
          "text": [
            "Epoch [1/30], Loss: 1.6261\n",
            "Epoch [2/30], Loss: 1.7361\n",
            "Epoch [3/30], Loss: 1.1694\n",
            "Epoch [4/30], Loss: 1.0026\n",
            "Epoch [5/30], Loss: 0.9336\n",
            "Epoch [6/30], Loss: 1.0856\n",
            "Epoch [7/30], Loss: 0.5263\n",
            "Epoch [8/30], Loss: 1.2686\n",
            "Epoch [9/30], Loss: 1.6675\n",
            "Epoch [10/30], Loss: 1.0464\n",
            "Epoch [11/30], Loss: 1.9959\n",
            "Epoch [12/30], Loss: 1.5432\n",
            "Epoch [13/30], Loss: 1.5585\n",
            "Epoch [14/30], Loss: 1.2610\n",
            "Epoch [15/30], Loss: 1.4186\n",
            "Epoch [16/30], Loss: 0.9555\n",
            "Epoch [17/30], Loss: 1.0337\n",
            "Epoch [18/30], Loss: 1.4492\n",
            "Epoch [19/30], Loss: 0.9851\n",
            "Epoch [20/30], Loss: 0.5027\n",
            "Epoch [21/30], Loss: 0.9208\n",
            "Epoch [22/30], Loss: 1.5702\n",
            "Epoch [23/30], Loss: 1.3043\n",
            "Epoch [24/30], Loss: 1.4063\n",
            "Epoch [25/30], Loss: 1.3032\n",
            "Epoch [26/30], Loss: 1.0626\n",
            "Epoch [27/30], Loss: 0.3606\n",
            "Epoch [28/30], Loss: 1.2834\n",
            "Epoch [29/30], Loss: 1.2227\n",
            "Epoch [30/30], Loss: 2.0814\n"
          ]
        }
      ],
      "source": [
        "# Training loop\n",
        "num_epochs = 30\n",
        "losses = np.zeros(num_epochs)\n",
        "\n",
        "for epoch in range(num_epochs):\n",
        "    for i, (images, labels) in enumerate(itr_merge(train_loader_original, train_loader_transform)):\n",
        "        images = images.to(device)\n",
        "        labels = labels.reshape(-1).type(torch.LongTensor).to(device)\n",
        "\n",
        "        # Forward pass\n",
        "        outputs = model(images)\n",
        "        loss = criterion(outputs, labels)\n",
        "\n",
        "        # Backward and optimize\n",
        "        optimizer.zero_grad()\n",
        "        loss.backward()\n",
        "        optimizer.step()\n",
        "\n",
        "    losses[epoch] = loss.item()\n",
        "    print ('Epoch [{}/{}], Loss: {:.4f}'.format(epoch+1, num_epochs, loss.item()))"
      ]
    },
    {
      "cell_type": "code",
      "source": [
        "with open(path + 'pickle/c_transform_VGG_model.pickle', 'wb') as handle:\n",
        "    pickle.dump(model, handle)\n",
        "with open(path + 'pickle/c_transform_VGG_loss.pickle', 'wb') as handle:\n",
        "    pickle.dump(losses, handle)"
      ],
      "metadata": {
        "id": "aEcDJ35aARux"
      },
      "execution_count": null,
      "outputs": []
    },
    {
      "cell_type": "code",
      "source": [
        "# Plot Training Loss\n",
        "plt.plot(losses)\n",
        "plt.xlabel('Epoch')\n",
        "plt.ylabel('Cross Entropy Loss')\n",
        "plt.title('Combined Transform Augmented VGG Model Training Loss');"
      ],
      "metadata": {
        "colab": {
          "base_uri": "https://localhost:8080/",
          "height": 472
        },
        "outputId": "8987cba3-029a-4467-e781-2713d6e19030",
        "id": "RuA6wThWARux"
      },
      "execution_count": null,
      "outputs": [
        {
          "output_type": "display_data",
          "data": {
            "text/plain": [
              "<Figure size 640x480 with 1 Axes>"
            ],
            "image/png": "[encoded data removed]"
          },
          "metadata": {}
        }
      ]
    },
    {
      "cell_type": "markdown",
      "metadata": {
        "id": "aI7WR7ieARux"
      },
      "source": [
        "##### Testing"
      ]
    },
    {
      "cell_type": "code",
      "source": [
        "model.eval()\n",
        "\n",
        "correct_predictions = 0\n",
        "total_predictions = 0\n",
        "\n",
        "with torch.no_grad():\n",
        "    for i, (images, labels) in enumerate(test_loader_original):\n",
        "        images = images.to(device)\n",
        "        labels = labels.reshape(-1).type(torch.LongTensor).to(device)\n",
        "\n",
        "        # Forward pass\n",
        "        outputs = model(images)\n",
        "        _, predicted = torch.max(outputs.data, 1)\n",
        "        total_predictions += labels.size(0)\n",
        "        correct_predictions += (predicted == labels).sum().item()\n",
        "\n",
        "accuracy = correct_predictions / total_predictions * 100\n",
        "print('Accuracy on the test set: {:.2f}%'.format(accuracy))"
      ],
      "metadata": {
        "colab": {
          "base_uri": "https://localhost:8080/"
        },
        "outputId": "454df00c-d6c2-48fb-ea49-a7039d59e369",
        "id": "yEeFuwqmARux"
      },
      "execution_count": null,
      "outputs": [
        {
          "output_type": "stream",
          "name": "stdout",
          "text": [
            "Accuracy on the test set: 18.77%\n"
          ]
        }
      ]
    },
    {
      "cell_type": "markdown",
      "metadata": {
        "id": "VKACHNCjQqe_"
      },
      "source": [
        "### 3. Classification using Data Augmented using DCGAN"
      ]
    },
    {
      "cell_type": "markdown",
      "metadata": {
        "id": "xuXjyaANFMBz"
      },
      "source": [
        "#### DCGAN Model"
      ]
    },
    {
      "cell_type": "code",
      "source": [
        "class Generator(nn.Module):\n",
        "    def __init__(self):\n",
        "        super().__init__()\n",
        "\n",
        "        self.main = nn.Sequential(\n",
        "            nn.ConvTranspose2d(noise_channels, 1024, 4, 1, 0, bias=False),\n",
        "            nn.BatchNorm2d(1024),\n",
        "            nn.ReLU(True),\n",
        "            nn.ConvTranspose2d(1024, 512, 4, 2, 1, bias=False),\n",
        "            nn.BatchNorm2d(512),\n",
        "            nn.ReLU(True),\n",
        "            nn.ConvTranspose2d(512, 256, 4, 2, 1, bias=False),\n",
        "            nn.BatchNorm2d(256),\n",
        "            nn.ReLU(True),\n",
        "            nn.ConvTranspose2d(256, 128, 4, 2, 1, bias=False),\n",
        "            nn.BatchNorm2d(128),\n",
        "            nn.ReLU(True),\n",
        "            nn.ConvTranspose2d(128, 64, 4, 2, 1, bias=False),\n",
        "            nn.BatchNorm2d(64),\n",
        "            nn.ReLU(True),\n",
        "            nn.ConvTranspose2d(64, 32, 4, 2, 1, bias=False),\n",
        "            nn.BatchNorm2d(32),\n",
        "            nn.ReLU(True),\n",
        "            nn.ConvTranspose2d(32, 16, 4, 2, 1, bias=False),\n",
        "            nn.BatchNorm2d(16),\n",
        "            nn.ReLU(True),\n",
        "            nn.ConvTranspose2d(16, 3, 4, 2, 1, bias=False),\n",
        "            nn.Tanh()\n",
        "        )\n",
        "\n",
        "    def forward(self, image):\n",
        "        return self.main(image)[:, :, :384, :]\n",
        "\n",
        "\n",
        "class Discriminator(nn.Module):\n",
        "    def __init__(self):\n",
        "        super().__init__()\n",
        "\n",
        "        self.main = nn.Sequential(\n",
        "            nn.Conv2d(3, 16, 4, 2, 1, bias=False),\n",
        "            nn.LeakyReLU(0.2, inplace=True),\n",
        "            nn.Conv2d(16, 32, 4, 2, 1, bias=False),\n",
        "            nn.BatchNorm2d(32),\n",
        "            nn.LeakyReLU(0.2, inplace=True),\n",
        "            nn.Conv2d(32, 64, 4, 2, 1, bias=False),\n",
        "            nn.BatchNorm2d(64),\n",
        "            nn.LeakyReLU(0.2, inplace=True),\n",
        "            nn.Conv2d(64, 128, 4, 2, 1, bias=False),\n",
        "            nn.BatchNorm2d(128),\n",
        "            nn.LeakyReLU(0.2, inplace=True),\n",
        "            nn.Conv2d(128, 256, 4, 2, 1, bias=False),\n",
        "            nn.BatchNorm2d(256),\n",
        "            nn.LeakyReLU(0.2, inplace=True),\n",
        "            nn.Conv2d(256, 512, 4, 2, 1, bias=False),\n",
        "            nn.BatchNorm2d(512),\n",
        "            nn.LeakyReLU(0.2, inplace=True),\n",
        "            nn.Conv2d(512, 1, 4, 1, 0, bias=False),\n",
        "            nn.Sigmoid()\n",
        "        )\n",
        "        self.fc = nn.Linear(15, 1)\n",
        "\n",
        "\n",
        "    def forward(self, image):\n",
        "        output = self.main(image)\n",
        "        output = output.view(output.shape[0], -1)\n",
        "        output = self.fc(output)\n",
        "        output = (output*.5) + 0.5\n",
        "        return output\n"
      ],
      "metadata": {
        "id": "QmSe85fc4aUE"
      },
      "execution_count": null,
      "outputs": []
    },
    {
      "cell_type": "markdown",
      "source": [
        "##### Cardboard"
      ],
      "metadata": {
        "id": "VR4KRWd_n8Ek"
      }
    },
    {
      "cell_type": "code",
      "source": [
        "with open(path + 'pickle/cardboard.pickle', 'rb') as handle:\n",
        "    cardboard_data = pickle.load(handle)"
      ],
      "metadata": {
        "id": "_w4HqJpwV0yS"
      },
      "execution_count": null,
      "outputs": []
    },
    {
      "cell_type": "code",
      "source": [
        "cardboard_data.shape"
      ],
      "metadata": {
        "colab": {
          "base_uri": "https://localhost:8080/"
        },
        "id": "CYfSOhwXV-Gc",
        "outputId": "e919eb9d-944e-47a9-b2d1-d033dff04059"
      },
      "execution_count": null,
      "outputs": [
        {
          "output_type": "execute_result",
          "data": {
            "text/plain": [
              "(403, 384, 512, 3)"
            ]
          },
          "metadata": {},
          "execution_count": 7
        }
      ]
    },
    {
      "cell_type": "code",
      "source": [
        "from torchvision import transforms\n",
        "\n",
        "data_transform = transforms.Compose([\n",
        "    transforms.ToTensor(),\n",
        "])\n",
        "\n",
        "from torch.utils.data import Dataset\n",
        "\n",
        "class CustomDataset(Dataset):\n",
        "    def __init__(self, data, transform=None):\n",
        "        self.data = data\n",
        "        self.transform = transform\n",
        "\n",
        "    def __len__(self):\n",
        "        return len(self.data)\n",
        "\n",
        "    def __getitem__(self, idx):\n",
        "        image = self.data[idx] / 255\n",
        "\n",
        "        if self.transform:\n",
        "            image = self.transform(image)\n",
        "\n",
        "        return image.float()"
      ],
      "metadata": {
        "id": "PDtCi3vLWvNM"
      },
      "execution_count": null,
      "outputs": []
    },
    {
      "cell_type": "code",
      "source": [
        "dataset = CustomDataset(cardboard_data, transform=data_transform)\n",
        "dataloader = DataLoader(dataset, batch_size=32, shuffle=True)"
      ],
      "metadata": {
        "id": "VtZuD_0yXU0e"
      },
      "execution_count": null,
      "outputs": []
    },
    {
      "cell_type": "code",
      "source": [
        "def trainGAN(dataloader, generator, discriminator, optimG, optimD, criterion, epochs, fixed_noise):\n",
        "    img_list = []\n",
        "    iterations = 0\n",
        "    generator_loss = []\n",
        "    discriminator_loss = []\n",
        "\n",
        "    for epoch in range(epochs):\n",
        "        for i, images in enumerate(dataloader):\n",
        "            images = images.to(device)\n",
        "\n",
        "            noise = torch.randn(images.shape[0], noise_channels, 1, 1, device = device)\n",
        "\n",
        "            # Step 1. Loss on real images from discriminator\n",
        "            discriminator.zero_grad()\n",
        "            real_labels = torch.full((images.shape[0], 1), 1., dtype = torch.float, device = device)\n",
        "\n",
        "            outputD_Real = discriminator(images).view(-1, 1)\n",
        "            if outputD_Real.min() < 0:\n",
        "              print('small min: ', outputD_Real.min())\n",
        "              print('max: ', outputD_Real.max())\n",
        "              outputD_Real -= outputD_Real.min()\n",
        "              outputD_Real /= outputD_Real.max()\n",
        "            lossD_Real = criterion(outputD_Real, real_labels)\n",
        "            lossD_Real.backward()\n",
        "\n",
        "            # Step 2. Loss on generated image from discriminator\n",
        "            fake_labels = torch.full((images.shape[0], 1), 0., dtype = torch.float, device = device)\n",
        "\n",
        "            outputG_Fake = generator(noise)\n",
        "\n",
        "            outputD_Fake = discriminator(outputG_Fake.detach()).view(-1, 1)\n",
        "            if outputD_Fake.min() < 0:\n",
        "              print('small min: ', outputD_Fake.min())\n",
        "              print('max: ', outputD_Fake.max())\n",
        "              outputD_Fake -= outputD_Fake.min()\n",
        "              outputD_Fake /= outputD_Fake.max()\n",
        "            lossD_Fake = criterion(outputD_Fake, fake_labels)\n",
        "            lossD_Fake.backward()\n",
        "\n",
        "            lossD = lossD_Real + lossD_Fake\n",
        "\n",
        "            optimD.step()\n",
        "\n",
        "            # Step 3. Loss on generated image from generator\n",
        "            generator.zero_grad()\n",
        "            real_labels = torch.full((images.shape[0], 1), 1., dtype = torch.float, device = device)\n",
        "\n",
        "            outputGD_Fake = discriminator(outputG_Fake).view(-1, 1)\n",
        "            if outputGD_Fake.min() < 0:\n",
        "              print('small min: ', outputGD_Fake.min())\n",
        "              print('max: ', outputGD_Fake.max())\n",
        "              outputGD_Fake -= outputGD_Fake.min()\n",
        "              outputGD_Fake /= outputGD_Fake.max()\n",
        "            lossG = criterion(outputGD_Fake, real_labels)\n",
        "            lossG.backward()\n",
        "\n",
        "            optimG.step()\n",
        "\n",
        "            if i % int(len(dataloader)/5) == 0:\n",
        "                print(f\"Epoch: {epoch} itr: {i}/{len(dataloader)}, DLoss: {round(lossD.item(), 5)}, GLoss: {round(lossG.item(), 5)}, {round(outputD_Real.mean().item(), 5)}, {round(outputD_Fake.mean().item(), 5)}, {round(outputGD_Fake.mean().item(), 5)}\")\n",
        "\n",
        "\n",
        "            generator_loss.append(lossG.item())\n",
        "            discriminator_loss.append(lossD.item())\n",
        "            if iterations % int(len(dataloader)*epochs/10) == 0:\n",
        "                with torch.no_grad():\n",
        "                    generated_samples = generator(fixed_noise).detach().cpu()\n",
        "                    img_list.append(generated_samples)\n",
        "\n",
        "            iterations += 1\n",
        "\n",
        "    return generator_loss, discriminator_loss, img_list"
      ],
      "metadata": {
        "id": "z4yPhnE64aWu"
      },
      "execution_count": null,
      "outputs": []
    },
    {
      "cell_type": "code",
      "source": [
        "noise_channels = 100\n",
        "\n",
        "generator = Generator().to(device)\n",
        "discriminator = Discriminator().to(device)"
      ],
      "metadata": {
        "id": "9sIp7yo_emFG"
      },
      "execution_count": null,
      "outputs": []
    },
    {
      "cell_type": "code",
      "source": [
        "lr = 0.0002\n",
        "beta1 = 0.5\n",
        "epochs = 20\n",
        "\n",
        "optimizerG = optim.Adam(generator.parameters(), lr = lr, betas=(beta1, 0.999))\n",
        "optimizerD = optim.Adam(discriminator.parameters(), lr = lr, betas=(beta1, 0.999))\n",
        "\n",
        "criterion = nn.BCELoss()\n",
        "\n",
        "fixed_noise = torch.randn(64, noise_channels, 1, 1, device=device)\n",
        "\n",
        "G_loss, D_loss, img_list = trainGAN(dataloader, generator, discriminator, optimizerG, optimizerD, criterion, epochs, fixed_noise)\n",
        "\n",
        "\n",
        "# with open(path + 'pickle/DCGAN/cardboard/generator.pickle', 'wb') as handle:\n",
        "#     pickle.dump(generator, handle)\n",
        "# with open(path + 'pickle/DCGAN/cardboard/discriminator.pickle', 'wb') as handle:\n",
        "#     pickle.dump(discriminator, handle)\n",
        "# with open(path + 'pickle/DCGAN/cardboard/G_loss_35.pickle', 'wb') as handle:\n",
        "#     pickle.dump(G_loss, handle)\n",
        "# with open(path + 'pickle/DCGAN/cardboard/D_loss_35.pickle', 'wb') as handle:\n",
        "#     pickle.dump(D_loss, handle)\n",
        "# with open(path + 'pickle/DCGAN/cardboard/img_list_35.pickle', 'wb') as handle:\n",
        "#     pickle.dump(img_list, handle)"
      ],
      "metadata": {
        "colab": {
          "base_uri": "https://localhost:8080/",
          "height": 1000
        },
        "id": "06d6nh8u4aSk",
        "outputId": "faffe5e2-fbbc-4d0c-e543-dcf1be1c8b2f"
      },
      "execution_count": null,
      "outputs": [
        {
          "output_type": "stream",
          "name": "stdout",
          "text": [
            "Epoch: 0 itr: 0/13, DLoss: 1.39015, GLoss: 1.64163, 0.50979, 0.51014, 0.19541\n",
            "Epoch: 0 itr: 2/13, DLoss: 1.38947, GLoss: 1.36536, 0.56206, 0.55118, 0.26111\n",
            "Epoch: 0 itr: 4/13, DLoss: 1.13712, GLoss: 1.29002, 0.61592, 0.47205, 0.27666\n",
            "Epoch: 0 itr: 6/13, DLoss: 1.02361, GLoss: 1.16477, 0.57682, 0.36579, 0.31221\n",
            "Epoch: 0 itr: 8/13, DLoss: 0.77917, GLoss: 1.18596, 0.69913, 0.34046, 0.30546\n",
            "Epoch: 0 itr: 10/13, DLoss: 0.6789, GLoss: 1.19068, 0.75864, 0.33055, 0.30402\n",
            "Epoch: 0 itr: 12/13, DLoss: 0.63652, GLoss: 1.19665, 0.78277, 0.32288, 0.30221\n",
            "Epoch: 1 itr: 0/13, DLoss: 0.59973, GLoss: 1.19619, 0.8025, 0.31583, 0.30235\n",
            "Epoch: 1 itr: 2/13, DLoss: 0.59451, GLoss: 1.2306, 0.80849, 0.31733, 0.29216\n",
            "Epoch: 1 itr: 4/13, DLoss: 0.56543, GLoss: 1.21594, 0.80858, 0.29728, 0.29643\n",
            "Epoch: 1 itr: 6/13, DLoss: 0.55562, GLoss: 1.22116, 0.81463, 0.29569, 0.29489\n",
            "Epoch: 1 itr: 8/13, DLoss: 0.54901, GLoss: 1.22615, 0.81829, 0.29421, 0.29342\n",
            "Epoch: 1 itr: 10/13, DLoss: 0.54636, GLoss: 1.23096, 0.81882, 0.29281, 0.29201\n",
            "Epoch: 1 itr: 12/13, DLoss: 0.54174, GLoss: 1.23545, 0.82115, 0.29156, 0.2907\n",
            "Epoch: 2 itr: 0/13, DLoss: 0.54258, GLoss: 1.23719, 0.82, 0.29115, 0.2902\n",
            "Epoch: 2 itr: 2/13, DLoss: 0.53898, GLoss: 1.2403, 0.82295, 0.29115, 0.2893\n",
            "Epoch: 2 itr: 4/13, DLoss: 0.54274, GLoss: 1.24599, 0.82222, 0.29318, 0.28766\n",
            "Epoch: 2 itr: 6/13, DLoss: 0.53483, GLoss: 1.25305, 0.8233, 0.28851, 0.28563\n",
            "Epoch: 2 itr: 8/13, DLoss: 0.53059, GLoss: 1.25766, 0.82413, 0.2862, 0.28432\n",
            "Epoch: 2 itr: 10/13, DLoss: 0.53539, GLoss: 1.26099, 0.82358, 0.28914, 0.28337\n",
            "Epoch: 2 itr: 12/13, DLoss: 0.52557, GLoss: 1.26995, 0.82458, 0.28301, 0.28084\n",
            "Epoch: 3 itr: 0/13, DLoss: 0.52441, GLoss: 1.27255, 0.82352, 0.28124, 0.28012\n",
            "Epoch: 3 itr: 2/13, DLoss: 0.52168, GLoss: 1.27671, 0.82426, 0.27993, 0.27895\n",
            "Epoch: 3 itr: 4/13, DLoss: 0.52855, GLoss: 1.2796, 0.82507, 0.28556, 0.27815\n",
            "Epoch: 3 itr: 6/13, DLoss: 0.51575, GLoss: 1.28878, 0.82525, 0.2765, 0.27561\n",
            "Epoch: 3 itr: 8/13, DLoss: 0.51397, GLoss: 1.29387, 0.82488, 0.2749, 0.27421\n",
            "Epoch: 3 itr: 10/13, DLoss: 0.51168, GLoss: 1.29888, 0.8252, 0.27352, 0.27284\n",
            "Epoch: 3 itr: 12/13, DLoss: 0.50907, GLoss: 1.30385, 0.82581, 0.27216, 0.27149\n",
            "Epoch: 4 itr: 0/13, DLoss: 0.5076, GLoss: 1.30635, 0.82625, 0.27148, 0.27081\n",
            "Epoch: 4 itr: 2/13, DLoss: 0.50515, GLoss: 1.31132, 0.82675, 0.27014, 0.26946\n",
            "Epoch: 4 itr: 4/13, DLoss: 0.49966, GLoss: 1.31637, 0.83001, 0.26879, 0.26811\n",
            "Epoch: 4 itr: 6/13, DLoss: 0.50125, GLoss: 1.3214, 0.82692, 0.26743, 0.26676\n",
            "Epoch: 4 itr: 8/13, DLoss: 0.49935, GLoss: 1.32637, 0.827, 0.2661, 0.26544\n",
            "Epoch: 4 itr: 10/13, DLoss: 0.49683, GLoss: 1.33137, 0.82758, 0.26478, 0.26411\n",
            "Epoch: 4 itr: 12/13, DLoss: 0.49524, GLoss: 1.33636, 0.82742, 0.26346, 0.2628\n",
            "Epoch: 5 itr: 0/13, DLoss: 0.49446, GLoss: 1.33884, 0.82733, 0.2628, 0.26215\n",
            "Epoch: 5 itr: 2/13, DLoss: 0.49185, GLoss: 1.3438, 0.82802, 0.2615, 0.26085\n",
            "Epoch: 5 itr: 4/13, DLoss: 0.48946, GLoss: 1.34879, 0.82855, 0.2602, 0.25955\n",
            "Epoch: 5 itr: 6/13, DLoss: 0.48752, GLoss: 1.35377, 0.82871, 0.25891, 0.25826\n",
            "Epoch: 5 itr: 8/13, DLoss: 0.4813, GLoss: 1.35887, 0.83266, 0.25762, 0.25695\n",
            "Epoch: 5 itr: 10/13, DLoss: 0.4838, GLoss: 1.36387, 0.82889, 0.25631, 0.25567\n",
            "Epoch: 5 itr: 12/13, DLoss: 0.4818, GLoss: 1.36888, 0.82912, 0.25503, 0.25439\n",
            "Epoch: 6 itr: 0/13, DLoss: 0.48065, GLoss: 1.37134, 0.82937, 0.2544, 0.25377\n",
            "Epoch: 6 itr: 2/13, DLoss: 0.47922, GLoss: 1.37622, 0.82919, 0.25317, 0.25253\n",
            "Epoch: 6 itr: 4/13, DLoss: 0.47253, GLoss: 1.38113, 0.83366, 0.25195, 0.25129\n",
            "Epoch: 6 itr: 6/13, DLoss: 0.47513, GLoss: 1.38548, 0.83008, 0.25092, 0.2502\n",
            "Epoch: 6 itr: 8/13, DLoss: 0.48876, GLoss: 1.39131, 0.83017, 0.26112, 0.24875\n",
            "Epoch: 6 itr: 10/13, DLoss: 0.47216, GLoss: 1.3956, 0.83018, 0.24877, 0.24768\n",
            "Epoch: 6 itr: 12/13, DLoss: 0.48166, GLoss: 1.4017, 0.83021, 0.25589, 0.24618\n",
            "Epoch: 7 itr: 0/13, DLoss: 0.46018, GLoss: 1.40403, 0.83845, 0.2468, 0.24561\n",
            "Epoch: 7 itr: 2/13, DLoss: 0.46783, GLoss: 1.40823, 0.83076, 0.24604, 0.24458\n",
            "Epoch: 7 itr: 4/13, DLoss: 0.46453, GLoss: 1.41501, 0.83085, 0.24362, 0.24292\n",
            "Epoch: 7 itr: 6/13, DLoss: 0.46223, GLoss: 1.42, 0.83135, 0.24234, 0.24171\n",
            "Epoch: 7 itr: 8/13, DLoss: 0.46083, GLoss: 1.42497, 0.83118, 0.24112, 0.24052\n",
            "Epoch: 7 itr: 10/13, DLoss: 0.45853, GLoss: 1.42986, 0.8318, 0.23995, 0.23934\n",
            "Epoch: 7 itr: 12/13, DLoss: 0.45705, GLoss: 1.43466, 0.83178, 0.23881, 0.2382\n",
            "Epoch: 8 itr: 0/13, DLoss: 0.45446, GLoss: 1.43699, 0.83338, 0.23826, 0.23764\n",
            "Epoch: 8 itr: 2/13, DLoss: 0.45275, GLoss: 1.44057, 0.83625, 0.23936, 0.23679\n",
            "Epoch: 8 itr: 4/13, DLoss: 0.45236, GLoss: 1.44808, 0.83221, 0.23562, 0.23502\n",
            "Epoch: 8 itr: 6/13, DLoss: 0.4506, GLoss: 1.45314, 0.83238, 0.23442, 0.23383\n",
            "Epoch: 8 itr: 8/13, DLoss: 0.44387, GLoss: 1.45819, 0.83702, 0.23325, 0.23266\n",
            "Epoch: 8 itr: 10/13, DLoss: 0.44745, GLoss: 1.46334, 0.83244, 0.23205, 0.23146\n",
            "Epoch: 8 itr: 12/13, DLoss: 0.446, GLoss: 1.4684, 0.83236, 0.23088, 0.23029\n",
            "Epoch: 9 itr: 0/13, DLoss: 0.44066, GLoss: 1.47097, 0.83642, 0.2303, 0.2297\n",
            "Epoch: 9 itr: 2/13, DLoss: 0.43693, GLoss: 1.47611, 0.83836, 0.22912, 0.22853\n",
            "Epoch: 9 itr: 4/13, DLoss: 0.43916, GLoss: 1.48119, 0.83488, 0.22795, 0.22737\n",
            "Epoch: 9 itr: 6/13, DLoss: 0.43738, GLoss: 1.48637, 0.83511, 0.22677, 0.22619\n",
            "Epoch: 9 itr: 8/13, DLoss: 0.43593, GLoss: 1.49145, 0.83508, 0.22562, 0.22505\n",
            "Epoch: 9 itr: 10/13, DLoss: 0.43335, GLoss: 1.49653, 0.83599, 0.22448, 0.2239\n",
            "Epoch: 9 itr: 12/13, DLoss: 0.42309, GLoss: 1.50174, 0.84386, 0.22334, 0.22274\n",
            "Epoch: 10 itr: 0/13, DLoss: 0.42909, GLoss: 1.50436, 0.8377, 0.22274, 0.22216\n",
            "Epoch: 10 itr: 2/13, DLoss: 0.41666, GLoss: 1.50971, 0.84743, 0.22158, 0.22097\n",
            "Epoch: 10 itr: 4/13, DLoss: 0.42348, GLoss: 1.515, 0.83987, 0.22039, 0.21981\n",
            "Epoch: 10 itr: 6/13, DLoss: 0.41718, GLoss: 1.52034, 0.84392, 0.21922, 0.21864\n",
            "Epoch: 10 itr: 8/13, DLoss: 0.41393, GLoss: 1.52565, 0.84541, 0.21806, 0.21748\n",
            "Epoch: 10 itr: 10/13, DLoss: 0.40893, GLoss: 1.5311, 0.84836, 0.21689, 0.2163\n",
            "Epoch: 10 itr: 12/13, DLoss: 0.4045, GLoss: 1.53652, 0.85086, 0.21571, 0.21513\n",
            "Epoch: 11 itr: 0/13, DLoss: 0.40319, GLoss: 1.53924, 0.85133, 0.21513, 0.21455\n",
            "Epoch: 11 itr: 2/13, DLoss: 0.39421, GLoss: 1.54478, 0.85801, 0.21396, 0.21336\n",
            "Epoch: 11 itr: 4/13, DLoss: 0.39559, GLoss: 1.55043, 0.85524, 0.21275, 0.21216\n",
            "Epoch: 11 itr: 6/13, DLoss: 0.38834, GLoss: 1.55607, 0.86046, 0.21157, 0.21096\n",
            "Epoch: 11 itr: 8/13, DLoss: 0.38662, GLoss: 1.56183, 0.86057, 0.21037, 0.20975\n",
            "Epoch: 11 itr: 10/13, DLoss: 0.38614, GLoss: 1.56756, 0.85955, 0.20916, 0.20855\n",
            "Epoch: 11 itr: 12/13, DLoss: 0.37811, GLoss: 1.57342, 0.86546, 0.20796, 0.20733\n",
            "Epoch: 12 itr: 0/13, DLoss: 0.38333, GLoss: 1.57633, 0.85988, 0.20734, 0.20673\n",
            "Epoch: 12 itr: 2/13, DLoss: 0.38221, GLoss: 1.58215, 0.85953, 0.20613, 0.20553\n",
            "Epoch: 12 itr: 4/13, DLoss: 0.3734, GLoss: 1.58803, 0.86612, 0.20495, 0.20433\n",
            "Epoch: 12 itr: 6/13, DLoss: 0.37131, GLoss: 1.59388, 0.86663, 0.20378, 0.20314\n",
            "Epoch: 12 itr: 8/13, DLoss: 0.36623, GLoss: 1.59942, 0.87013, 0.20271, 0.20201\n",
            "Epoch: 12 itr: 10/13, DLoss: 0.37671, GLoss: 1.6039, 0.86251, 0.20451, 0.20111\n",
            "Epoch: 12 itr: 12/13, DLoss: 0.36503, GLoss: 1.61318, 0.86785, 0.19987, 0.19925\n",
            "Epoch: 13 itr: 0/13, DLoss: 0.3639, GLoss: 1.61627, 0.86808, 0.19925, 0.19864\n",
            "Epoch: 13 itr: 2/13, DLoss: 0.36134, GLoss: 1.62242, 0.86906, 0.19803, 0.19742\n",
            "Epoch: 13 itr: 4/13, DLoss: 0.35736, GLoss: 1.62859, 0.87126, 0.19682, 0.19621\n",
            "Epoch: 13 itr: 6/13, DLoss: 0.35866, GLoss: 1.6351, 0.86873, 0.19556, 0.19493\n",
            "Epoch: 13 itr: 8/13, DLoss: 0.34519, GLoss: 1.64147, 0.87954, 0.19433, 0.1937\n",
            "Epoch: 13 itr: 10/13, DLoss: 0.3451, GLoss: 1.64806, 0.87831, 0.19307, 0.19242\n",
            "Epoch: 13 itr: 12/13, DLoss: 0.3629, GLoss: 1.65507, 0.86333, 0.19178, 0.19108\n",
            "Epoch: 14 itr: 0/13, DLoss: 0.34943, GLoss: 1.65889, 0.87251, 0.19108, 0.19035\n",
            "Epoch: 14 itr: 2/13, DLoss: 0.34227, GLoss: 1.66617, 0.87673, 0.18966, 0.18897\n"
          ]
        },
        {
          "output_type": "error",
          "ename": "RuntimeError",
          "evalue": "ignored",
          "traceback": [
            "\u001b[0;31m---------------------------------------------------------------------------\u001b[0m",
            "\u001b[0;31mRuntimeError\u001b[0m                              Traceback (most recent call last)",
            "\u001b[0;32m<ipython-input-13-5c05d29c4629>\u001b[0m in \u001b[0;36m<cell line: 18>\u001b[0;34m()\u001b[0m\n\u001b[1;32m     16\u001b[0m \u001b[0;34m\u001b[0m\u001b[0m\n\u001b[1;32m     17\u001b[0m \u001b[0;31m# Train the GAN\u001b[0m\u001b[0;34m\u001b[0m\u001b[0;34m\u001b[0m\u001b[0m\n\u001b[0;32m---> 18\u001b[0;31m \u001b[0mG_loss\u001b[0m\u001b[0;34m,\u001b[0m \u001b[0mD_loss\u001b[0m\u001b[0;34m,\u001b[0m \u001b[0mimg_list\u001b[0m \u001b[0;34m=\u001b[0m \u001b[0mtrainGAN\u001b[0m\u001b[0;34m(\u001b[0m\u001b[0mdataloader\u001b[0m\u001b[0;34m,\u001b[0m \u001b[0mgenerator\u001b[0m\u001b[0;34m,\u001b[0m \u001b[0mdiscriminator\u001b[0m\u001b[0;34m,\u001b[0m \u001b[0moptimizerG\u001b[0m\u001b[0;34m,\u001b[0m \u001b[0moptimizerD\u001b[0m\u001b[0;34m,\u001b[0m \u001b[0mcriterion\u001b[0m\u001b[0;34m,\u001b[0m \u001b[0mepochs\u001b[0m\u001b[0;34m,\u001b[0m \u001b[0mfixed_noise\u001b[0m\u001b[0;34m)\u001b[0m\u001b[0;34m\u001b[0m\u001b[0;34m\u001b[0m\u001b[0m\n\u001b[0m\u001b[1;32m     19\u001b[0m \u001b[0;34m\u001b[0m\u001b[0m\n\u001b[1;32m     20\u001b[0m \u001b[0;34m\u001b[0m\u001b[0m\n",
            "\u001b[0;32m<ipython-input-11-a3984998b3b4>\u001b[0m in \u001b[0;36mtrainGAN\u001b[0;34m(dataloader, generator, discriminator, optimG, optimD, criterion, epochs, fixed_noise)\u001b[0m\n\u001b[1;32m     27\u001b[0m             \u001b[0mfake_labels\u001b[0m \u001b[0;34m=\u001b[0m \u001b[0mtorch\u001b[0m\u001b[0;34m.\u001b[0m\u001b[0mfull\u001b[0m\u001b[0;34m(\u001b[0m\u001b[0;34m(\u001b[0m\u001b[0mimages\u001b[0m\u001b[0;34m.\u001b[0m\u001b[0mshape\u001b[0m\u001b[0;34m[\u001b[0m\u001b[0;36m0\u001b[0m\u001b[0;34m]\u001b[0m\u001b[0;34m,\u001b[0m \u001b[0;36m1\u001b[0m\u001b[0;34m)\u001b[0m\u001b[0;34m,\u001b[0m \u001b[0;36m0.\u001b[0m\u001b[0;34m,\u001b[0m \u001b[0mdtype\u001b[0m \u001b[0;34m=\u001b[0m \u001b[0mtorch\u001b[0m\u001b[0;34m.\u001b[0m\u001b[0mfloat\u001b[0m\u001b[0;34m,\u001b[0m \u001b[0mdevice\u001b[0m \u001b[0;34m=\u001b[0m \u001b[0mdevice\u001b[0m\u001b[0;34m)\u001b[0m\u001b[0;34m\u001b[0m\u001b[0;34m\u001b[0m\u001b[0m\n\u001b[1;32m     28\u001b[0m \u001b[0;34m\u001b[0m\u001b[0m\n\u001b[0;32m---> 29\u001b[0;31m             \u001b[0moutputG_Fake\u001b[0m \u001b[0;34m=\u001b[0m \u001b[0mgenerator\u001b[0m\u001b[0;34m(\u001b[0m\u001b[0mnoise\u001b[0m\u001b[0;34m)\u001b[0m\u001b[0;34m\u001b[0m\u001b[0;34m\u001b[0m\u001b[0m\n\u001b[0m\u001b[1;32m     30\u001b[0m \u001b[0;34m\u001b[0m\u001b[0m\n\u001b[1;32m     31\u001b[0m             \u001b[0moutputD_Fake\u001b[0m \u001b[0;34m=\u001b[0m \u001b[0mdiscriminator\u001b[0m\u001b[0;34m(\u001b[0m\u001b[0moutputG_Fake\u001b[0m\u001b[0;34m.\u001b[0m\u001b[0mdetach\u001b[0m\u001b[0;34m(\u001b[0m\u001b[0;34m)\u001b[0m\u001b[0;34m)\u001b[0m\u001b[0;34m.\u001b[0m\u001b[0mview\u001b[0m\u001b[0;34m(\u001b[0m\u001b[0;34m-\u001b[0m\u001b[0;36m1\u001b[0m\u001b[0;34m,\u001b[0m \u001b[0;36m1\u001b[0m\u001b[0;34m)\u001b[0m\u001b[0;34m\u001b[0m\u001b[0;34m\u001b[0m\u001b[0m\n",
            "\u001b[0;32m/usr/local/lib/python3.10/dist-packages/torch/nn/modules/module.py\u001b[0m in \u001b[0;36m_call_impl\u001b[0;34m(self, *args, **kwargs)\u001b[0m\n\u001b[1;32m   1499\u001b[0m                 \u001b[0;32mor\u001b[0m \u001b[0m_global_backward_pre_hooks\u001b[0m \u001b[0;32mor\u001b[0m \u001b[0m_global_backward_hooks\u001b[0m\u001b[0;34m\u001b[0m\u001b[0;34m\u001b[0m\u001b[0m\n\u001b[1;32m   1500\u001b[0m                 or _global_forward_hooks or _global_forward_pre_hooks):\n\u001b[0;32m-> 1501\u001b[0;31m             \u001b[0;32mreturn\u001b[0m \u001b[0mforward_call\u001b[0m\u001b[0;34m(\u001b[0m\u001b[0;34m*\u001b[0m\u001b[0margs\u001b[0m\u001b[0;34m,\u001b[0m \u001b[0;34m**\u001b[0m\u001b[0mkwargs\u001b[0m\u001b[0;34m)\u001b[0m\u001b[0;34m\u001b[0m\u001b[0;34m\u001b[0m\u001b[0m\n\u001b[0m\u001b[1;32m   1502\u001b[0m         \u001b[0;31m# Do not call functions when jit is used\u001b[0m\u001b[0;34m\u001b[0m\u001b[0;34m\u001b[0m\u001b[0m\n\u001b[1;32m   1503\u001b[0m         \u001b[0mfull_backward_hooks\u001b[0m\u001b[0;34m,\u001b[0m \u001b[0mnon_full_backward_hooks\u001b[0m \u001b[0;34m=\u001b[0m \u001b[0;34m[\u001b[0m\u001b[0;34m]\u001b[0m\u001b[0;34m,\u001b[0m \u001b[0;34m[\u001b[0m\u001b[0;34m]\u001b[0m\u001b[0;34m\u001b[0m\u001b[0;34m\u001b[0m\u001b[0m\n",
            "\u001b[0;32m<ipython-input-5-4adc4bb9ea43>\u001b[0m in \u001b[0;36mforward\u001b[0;34m(self, image)\u001b[0m\n\u001b[1;32m     39\u001b[0m \u001b[0;34m\u001b[0m\u001b[0m\n\u001b[1;32m     40\u001b[0m     \u001b[0;32mdef\u001b[0m \u001b[0mforward\u001b[0m\u001b[0;34m(\u001b[0m\u001b[0mself\u001b[0m\u001b[0;34m,\u001b[0m \u001b[0mimage\u001b[0m\u001b[0;34m)\u001b[0m\u001b[0;34m:\u001b[0m\u001b[0;34m\u001b[0m\u001b[0;34m\u001b[0m\u001b[0m\n\u001b[0;32m---> 41\u001b[0;31m         \u001b[0;32mreturn\u001b[0m \u001b[0mself\u001b[0m\u001b[0;34m.\u001b[0m\u001b[0mmain\u001b[0m\u001b[0;34m(\u001b[0m\u001b[0mimage\u001b[0m\u001b[0;34m)\u001b[0m\u001b[0;34m[\u001b[0m\u001b[0;34m:\u001b[0m\u001b[0;34m,\u001b[0m \u001b[0;34m:\u001b[0m\u001b[0;34m,\u001b[0m \u001b[0;34m:\u001b[0m\u001b[0;36m384\u001b[0m\u001b[0;34m,\u001b[0m \u001b[0;34m:\u001b[0m\u001b[0;34m]\u001b[0m\u001b[0;34m\u001b[0m\u001b[0;34m\u001b[0m\u001b[0m\n\u001b[0m\u001b[1;32m     42\u001b[0m \u001b[0;34m\u001b[0m\u001b[0m\n\u001b[1;32m     43\u001b[0m \u001b[0;34m\u001b[0m\u001b[0m\n",
            "\u001b[0;32m/usr/local/lib/python3.10/dist-packages/torch/nn/modules/module.py\u001b[0m in \u001b[0;36m_call_impl\u001b[0;34m(self, *args, **kwargs)\u001b[0m\n\u001b[1;32m   1499\u001b[0m                 \u001b[0;32mor\u001b[0m \u001b[0m_global_backward_pre_hooks\u001b[0m \u001b[0;32mor\u001b[0m \u001b[0m_global_backward_hooks\u001b[0m\u001b[0;34m\u001b[0m\u001b[0;34m\u001b[0m\u001b[0m\n\u001b[1;32m   1500\u001b[0m                 or _global_forward_hooks or _global_forward_pre_hooks):\n\u001b[0;32m-> 1501\u001b[0;31m             \u001b[0;32mreturn\u001b[0m \u001b[0mforward_call\u001b[0m\u001b[0;34m(\u001b[0m\u001b[0;34m*\u001b[0m\u001b[0margs\u001b[0m\u001b[0;34m,\u001b[0m \u001b[0;34m**\u001b[0m\u001b[0mkwargs\u001b[0m\u001b[0;34m)\u001b[0m\u001b[0;34m\u001b[0m\u001b[0;34m\u001b[0m\u001b[0m\n\u001b[0m\u001b[1;32m   1502\u001b[0m         \u001b[0;31m# Do not call functions when jit is used\u001b[0m\u001b[0;34m\u001b[0m\u001b[0;34m\u001b[0m\u001b[0m\n\u001b[1;32m   1503\u001b[0m         \u001b[0mfull_backward_hooks\u001b[0m\u001b[0;34m,\u001b[0m \u001b[0mnon_full_backward_hooks\u001b[0m \u001b[0;34m=\u001b[0m \u001b[0;34m[\u001b[0m\u001b[0;34m]\u001b[0m\u001b[0;34m,\u001b[0m \u001b[0;34m[\u001b[0m\u001b[0;34m]\u001b[0m\u001b[0;34m\u001b[0m\u001b[0;34m\u001b[0m\u001b[0m\n",
            "\u001b[0;32m/usr/local/lib/python3.10/dist-packages/torch/nn/modules/container.py\u001b[0m in \u001b[0;36mforward\u001b[0;34m(self, input)\u001b[0m\n\u001b[1;32m    215\u001b[0m     \u001b[0;32mdef\u001b[0m \u001b[0mforward\u001b[0m\u001b[0;34m(\u001b[0m\u001b[0mself\u001b[0m\u001b[0;34m,\u001b[0m \u001b[0minput\u001b[0m\u001b[0;34m)\u001b[0m\u001b[0;34m:\u001b[0m\u001b[0;34m\u001b[0m\u001b[0;34m\u001b[0m\u001b[0m\n\u001b[1;32m    216\u001b[0m         \u001b[0;32mfor\u001b[0m \u001b[0mmodule\u001b[0m \u001b[0;32min\u001b[0m \u001b[0mself\u001b[0m\u001b[0;34m:\u001b[0m\u001b[0;34m\u001b[0m\u001b[0;34m\u001b[0m\u001b[0m\n\u001b[0;32m--> 217\u001b[0;31m             \u001b[0minput\u001b[0m \u001b[0;34m=\u001b[0m \u001b[0mmodule\u001b[0m\u001b[0;34m(\u001b[0m\u001b[0minput\u001b[0m\u001b[0;34m)\u001b[0m\u001b[0;34m\u001b[0m\u001b[0;34m\u001b[0m\u001b[0m\n\u001b[0m\u001b[1;32m    218\u001b[0m         \u001b[0;32mreturn\u001b[0m \u001b[0minput\u001b[0m\u001b[0;34m\u001b[0m\u001b[0;34m\u001b[0m\u001b[0m\n\u001b[1;32m    219\u001b[0m \u001b[0;34m\u001b[0m\u001b[0m\n",
            "\u001b[0;32m/usr/local/lib/python3.10/dist-packages/torch/nn/modules/module.py\u001b[0m in \u001b[0;36m_call_impl\u001b[0;34m(self, *args, **kwargs)\u001b[0m\n\u001b[1;32m   1499\u001b[0m                 \u001b[0;32mor\u001b[0m \u001b[0m_global_backward_pre_hooks\u001b[0m \u001b[0;32mor\u001b[0m \u001b[0m_global_backward_hooks\u001b[0m\u001b[0;34m\u001b[0m\u001b[0;34m\u001b[0m\u001b[0m\n\u001b[1;32m   1500\u001b[0m                 or _global_forward_hooks or _global_forward_pre_hooks):\n\u001b[0;32m-> 1501\u001b[0;31m             \u001b[0;32mreturn\u001b[0m \u001b[0mforward_call\u001b[0m\u001b[0;34m(\u001b[0m\u001b[0;34m*\u001b[0m\u001b[0margs\u001b[0m\u001b[0;34m,\u001b[0m \u001b[0;34m**\u001b[0m\u001b[0mkwargs\u001b[0m\u001b[0;34m)\u001b[0m\u001b[0;34m\u001b[0m\u001b[0;34m\u001b[0m\u001b[0m\n\u001b[0m\u001b[1;32m   1502\u001b[0m         \u001b[0;31m# Do not call functions when jit is used\u001b[0m\u001b[0;34m\u001b[0m\u001b[0;34m\u001b[0m\u001b[0m\n\u001b[1;32m   1503\u001b[0m         \u001b[0mfull_backward_hooks\u001b[0m\u001b[0;34m,\u001b[0m \u001b[0mnon_full_backward_hooks\u001b[0m \u001b[0;34m=\u001b[0m \u001b[0;34m[\u001b[0m\u001b[0;34m]\u001b[0m\u001b[0;34m,\u001b[0m \u001b[0;34m[\u001b[0m\u001b[0;34m]\u001b[0m\u001b[0;34m\u001b[0m\u001b[0;34m\u001b[0m\u001b[0m\n",
            "\u001b[0;32m/usr/local/lib/python3.10/dist-packages/torch/nn/modules/batchnorm.py\u001b[0m in \u001b[0;36mforward\u001b[0;34m(self, input)\u001b[0m\n\u001b[1;32m    169\u001b[0m         \u001b[0mused\u001b[0m \u001b[0;32mfor\u001b[0m \u001b[0mnormalization\u001b[0m \u001b[0;34m(\u001b[0m\u001b[0mi\u001b[0m\u001b[0;34m.\u001b[0m\u001b[0me\u001b[0m\u001b[0;34m.\u001b[0m \u001b[0;32min\u001b[0m \u001b[0meval\u001b[0m \u001b[0mmode\u001b[0m \u001b[0mwhen\u001b[0m \u001b[0mbuffers\u001b[0m \u001b[0mare\u001b[0m \u001b[0;32mnot\u001b[0m \u001b[0;32mNone\u001b[0m\u001b[0;34m)\u001b[0m\u001b[0;34m.\u001b[0m\u001b[0;34m\u001b[0m\u001b[0;34m\u001b[0m\u001b[0m\n\u001b[1;32m    170\u001b[0m         \"\"\"\n\u001b[0;32m--> 171\u001b[0;31m         return F.batch_norm(\n\u001b[0m\u001b[1;32m    172\u001b[0m             \u001b[0minput\u001b[0m\u001b[0;34m,\u001b[0m\u001b[0;34m\u001b[0m\u001b[0;34m\u001b[0m\u001b[0m\n\u001b[1;32m    173\u001b[0m             \u001b[0;31m# If buffers are not to be tracked, ensure that they won't be updated\u001b[0m\u001b[0;34m\u001b[0m\u001b[0;34m\u001b[0m\u001b[0m\n",
            "\u001b[0;32m/usr/local/lib/python3.10/dist-packages/torch/nn/functional.py\u001b[0m in \u001b[0;36mbatch_norm\u001b[0;34m(input, running_mean, running_var, weight, bias, training, momentum, eps)\u001b[0m\n\u001b[1;32m   2448\u001b[0m         \u001b[0m_verify_batch_size\u001b[0m\u001b[0;34m(\u001b[0m\u001b[0minput\u001b[0m\u001b[0;34m.\u001b[0m\u001b[0msize\u001b[0m\u001b[0;34m(\u001b[0m\u001b[0;34m)\u001b[0m\u001b[0;34m)\u001b[0m\u001b[0;34m\u001b[0m\u001b[0;34m\u001b[0m\u001b[0m\n\u001b[1;32m   2449\u001b[0m \u001b[0;34m\u001b[0m\u001b[0m\n\u001b[0;32m-> 2450\u001b[0;31m     return torch.batch_norm(\n\u001b[0m\u001b[1;32m   2451\u001b[0m         \u001b[0minput\u001b[0m\u001b[0;34m,\u001b[0m \u001b[0mweight\u001b[0m\u001b[0;34m,\u001b[0m \u001b[0mbias\u001b[0m\u001b[0;34m,\u001b[0m \u001b[0mrunning_mean\u001b[0m\u001b[0;34m,\u001b[0m \u001b[0mrunning_var\u001b[0m\u001b[0;34m,\u001b[0m \u001b[0mtraining\u001b[0m\u001b[0;34m,\u001b[0m \u001b[0mmomentum\u001b[0m\u001b[0;34m,\u001b[0m \u001b[0meps\u001b[0m\u001b[0;34m,\u001b[0m \u001b[0mtorch\u001b[0m\u001b[0;34m.\u001b[0m\u001b[0mbackends\u001b[0m\u001b[0;34m.\u001b[0m\u001b[0mcudnn\u001b[0m\u001b[0;34m.\u001b[0m\u001b[0menabled\u001b[0m\u001b[0;34m\u001b[0m\u001b[0;34m\u001b[0m\u001b[0m\n\u001b[1;32m   2452\u001b[0m     )\n",
            "\u001b[0;31mRuntimeError\u001b[0m: cuDNN error: CUDNN_STATUS_MAPPING_ERROR"
          ]
        }
      ]
    },
    {
      "cell_type": "code",
      "source": [
        "np.save(path + 'pickle/DCGAN/cardboard/img_list_35', img_list[-1])"
      ],
      "metadata": {
        "id": "ulAmIYp0i4Ol"
      },
      "execution_count": null,
      "outputs": []
    },
    {
      "cell_type": "markdown",
      "source": [
        "##### Plastic"
      ],
      "metadata": {
        "id": "fg7eZlVKpCcN"
      }
    },
    {
      "cell_type": "code",
      "source": [
        "with open(path + 'pickle/plastic.pickle', 'rb') as handle:\n",
        "    plastic_data = pickle.load(handle)"
      ],
      "metadata": {
        "id": "em8cQ5LspCcO"
      },
      "execution_count": null,
      "outputs": []
    },
    {
      "cell_type": "code",
      "source": [
        "plastic_data.shape"
      ],
      "metadata": {
        "colab": {
          "base_uri": "https://localhost:8080/"
        },
        "outputId": "6b356b15-c26a-4a00-d56c-907aa1e94c65",
        "id": "wwxioIMSpCcO"
      },
      "execution_count": null,
      "outputs": [
        {
          "output_type": "execute_result",
          "data": {
            "text/plain": [
              "(482, 384, 512, 3)"
            ]
          },
          "metadata": {},
          "execution_count": 15
        }
      ]
    },
    {
      "cell_type": "code",
      "source": [
        "dataset = CustomDataset(plastic_data, transform=data_transform)\n",
        "dataloader = DataLoader(dataset, batch_size=32, shuffle=True)"
      ],
      "metadata": {
        "id": "FwBzsO9dpCcO"
      },
      "execution_count": null,
      "outputs": []
    },
    {
      "cell_type": "code",
      "source": [
        "noise_channels = 100\n",
        "generator = Generator().to(device)\n",
        "discriminator = Discriminator().to(device)"
      ],
      "metadata": {
        "id": "SFAt9bszpCcP"
      },
      "execution_count": null,
      "outputs": []
    },
    {
      "cell_type": "code",
      "source": [
        "lr = 0.0002\n",
        "beta1 = 0.5\n",
        "epochs = 20\n",
        "\n",
        "optimizerG = optim.Adam(generator.parameters(), lr = lr, betas=(beta1, 0.999))\n",
        "optimizerD = optim.Adam(discriminator.parameters(), lr = lr, betas=(beta1, 0.999))\n",
        "\n",
        "criterion = nn.BCELoss()\n",
        "\n",
        "fixed_noise = torch.randn(64, noise_channels, 1, 1, device=device)\n",
        "\n",
        "G_loss, D_loss, img_list = trainGAN(dataloader, generator, discriminator, optimizerG, optimizerD, criterion, epochs, fixed_noise)\n",
        "\n",
        "np.save(path + 'pickle/DCGAN/plastic/img_list_35', img_list[-1])\n",
        "# with open(path + 'pickle/DCGAN/plastic/generator.pickle', 'wb') as handle:\n",
        "#     pickle.dump(generator, handle)\n",
        "# with open(path + 'pickle/DCGAN/plastic/discriminator.pickle', 'wb') as handle:\n",
        "#     pickle.dump(discriminator, handle)\n",
        "# with open(path + 'pickle/DCGAN/plastic/img_list_35.pickle', 'wb') as handle:\n",
        "#     pickle.dump(img_list, handle)\n",
        "# with open(path + 'pickle/DCGAN/plastic/G_loss_35.pickle', 'wb') as handle:\n",
        "#     pickle.dump(G_loss, handle)\n",
        "# with open(path + 'pickle/DCGAN/plastic/D_loss_35.pickle', 'wb') as handle:\n",
        "#     pickle.dump(D_loss, handle)"
      ],
      "metadata": {
        "colab": {
          "base_uri": "https://localhost:8080/"
        },
        "outputId": "4632b433-1c07-40bc-c1d7-f01287aa997a",
        "id": "6MPEV0XwpCcP"
      },
      "execution_count": null,
      "outputs": [
        {
          "output_type": "stream",
          "name": "stdout",
          "text": [
            "Epoch: 0 itr: 0/16, DLoss: 1.45673, GLoss: 1.72796, 0.37232, 0.37105, 0.17964\n",
            "Epoch: 0 itr: 3/16, DLoss: 1.15407, GLoss: 1.50788, 0.54991, 0.42347, 0.22306\n",
            "Epoch: 0 itr: 6/16, DLoss: 0.84024, GLoss: 1.29386, 0.60354, 0.28125, 0.27424\n",
            "Epoch: 0 itr: 9/16, DLoss: 0.75309, GLoss: 1.28713, 0.65572, 0.28035, 0.27607\n",
            "Epoch: 0 itr: 12/16, DLoss: 0.69375, GLoss: 1.28781, 0.69365, 0.27902, 0.27587\n",
            "Epoch: 0 itr: 15/16, DLoss: 0.65779, GLoss: 1.29863, 0.71634, 0.27647, 0.27291\n",
            "Epoch: 1 itr: 0/16, DLoss: 0.65325, GLoss: 1.2996, 0.71803, 0.27487, 0.27264\n",
            "Epoch: 1 itr: 3/16, DLoss: 0.66092, GLoss: 1.30698, 0.71101, 0.27261, 0.27064\n",
            "Epoch: 1 itr: 6/16, DLoss: 0.63064, GLoss: 1.31485, 0.73097, 0.2714, 0.26852\n",
            "Epoch: 1 itr: 9/16, DLoss: 0.63669, GLoss: 1.32352, 0.7251, 0.27005, 0.2662\n",
            "Epoch: 1 itr: 12/16, DLoss: 0.6249, GLoss: 1.33262, 0.73103, 0.26717, 0.26378\n",
            "Epoch: 1 itr: 15/16, DLoss: 0.64872, GLoss: 1.34236, 0.70982, 0.26343, 0.26123\n",
            "Epoch: 2 itr: 0/16, DLoss: 0.59438, GLoss: 1.34273, 0.74909, 0.26291, 0.26113\n",
            "Epoch: 2 itr: 3/16, DLoss: 0.59381, GLoss: 1.35032, 0.74941, 0.26275, 0.25916\n",
            "Epoch: 2 itr: 6/16, DLoss: 0.58462, GLoss: 1.36025, 0.75234, 0.25858, 0.2566\n",
            "Epoch: 2 itr: 9/16, DLoss: 0.57426, GLoss: 1.36748, 0.75782, 0.25653, 0.25475\n",
            "Epoch: 2 itr: 12/16, DLoss: 0.57397, GLoss: 1.37659, 0.75633, 0.25478, 0.25244\n",
            "Epoch: 2 itr: 15/16, DLoss: 0.54813, GLoss: 1.38555, 0.77256, 0.25175, 0.25019\n",
            "Epoch: 3 itr: 0/16, DLoss: 0.55028, GLoss: 1.38702, 0.77079, 0.25119, 0.24982\n",
            "Epoch: 3 itr: 3/16, DLoss: 0.5299, GLoss: 1.39722, 0.78619, 0.25057, 0.24728\n",
            "Epoch: 3 itr: 6/16, DLoss: 0.53065, GLoss: 1.40672, 0.78125, 0.24648, 0.24495\n",
            "Epoch: 3 itr: 9/16, DLoss: 0.52905, GLoss: 1.41645, 0.78171, 0.24546, 0.24257\n",
            "Epoch: 3 itr: 12/16, DLoss: 0.53547, GLoss: 1.42664, 0.77313, 0.24157, 0.24011\n",
            "Epoch: 3 itr: 15/16, DLoss: 0.47559, GLoss: 1.43792, 0.81974, 0.24181, 0.23742\n",
            "Epoch: 4 itr: 0/16, DLoss: 0.49416, GLoss: 1.44057, 0.80192, 0.2384, 0.23679\n",
            "Epoch: 4 itr: 3/16, DLoss: 0.48711, GLoss: 1.45095, 0.8051, 0.23616, 0.23435\n",
            "Epoch: 4 itr: 6/16, DLoss: 0.47519, GLoss: 1.4632, 0.81151, 0.23321, 0.23149\n",
            "Epoch: 4 itr: 9/16, DLoss: 0.47362, GLoss: 1.4739, 0.81046, 0.23121, 0.22903\n",
            "Epoch: 4 itr: 12/16, DLoss: 0.46696, GLoss: 1.48604, 0.81255, 0.22803, 0.22627\n",
            "Epoch: 4 itr: 15/16, DLoss: 0.44214, GLoss: 1.49737, 0.82998, 0.22569, 0.22372\n",
            "Epoch: 5 itr: 0/16, DLoss: 0.45779, GLoss: 1.50104, 0.81744, 0.22565, 0.2229\n",
            "Epoch: 5 itr: 3/16, DLoss: 0.44278, GLoss: 1.51348, 0.82624, 0.22242, 0.22014\n",
            "Epoch: 5 itr: 6/16, DLoss: 0.44332, GLoss: 1.52532, 0.82268, 0.21929, 0.21755\n",
            "Epoch: 5 itr: 9/16, DLoss: 0.42854, GLoss: 1.53753, 0.83234, 0.21712, 0.21491\n",
            "Epoch: 5 itr: 12/16, DLoss: 0.43293, GLoss: 1.54931, 0.82562, 0.21383, 0.2124\n",
            "Epoch: 5 itr: 15/16, DLoss: 0.41969, GLoss: 1.56198, 0.83374, 0.21159, 0.20972\n",
            "Epoch: 6 itr: 0/16, DLoss: 0.4188, GLoss: 1.5658, 0.8333, 0.2102, 0.20892\n",
            "Epoch: 6 itr: 3/16, DLoss: 0.4228, GLoss: 1.57817, 0.83088, 0.21106, 0.20635\n",
            "Epoch: 6 itr: 6/16, DLoss: 0.40885, GLoss: 1.59006, 0.83615, 0.20513, 0.20391\n",
            "Epoch: 6 itr: 9/16, DLoss: 0.40811, GLoss: 1.60254, 0.83435, 0.2028, 0.20138\n",
            "Epoch: 6 itr: 12/16, DLoss: 0.39798, GLoss: 1.61484, 0.83994, 0.20028, 0.19892\n",
            "Epoch: 6 itr: 15/16, DLoss: 0.40192, GLoss: 1.62747, 0.83487, 0.19858, 0.19643\n",
            "Epoch: 7 itr: 0/16, DLoss: 0.3916, GLoss: 1.63103, 0.84213, 0.19719, 0.19573\n",
            "Epoch: 7 itr: 3/16, DLoss: 0.3949, GLoss: 1.64312, 0.83696, 0.19487, 0.19338\n",
            "Epoch: 7 itr: 6/16, DLoss: 0.3887, GLoss: 1.65582, 0.83942, 0.19229, 0.19094\n",
            "Epoch: 7 itr: 9/16, DLoss: 0.38704, GLoss: 1.66822, 0.84004, 0.19139, 0.18858\n",
            "Epoch: 7 itr: 12/16, DLoss: 0.37663, GLoss: 1.68042, 0.84481, 0.18757, 0.1863\n",
            "Epoch: 7 itr: 15/16, DLoss: 0.369, GLoss: 1.69301, 0.84915, 0.18574, 0.18396\n",
            "Epoch: 8 itr: 0/16, DLoss: 0.37189, GLoss: 1.69699, 0.84554, 0.18455, 0.18324\n",
            "Epoch: 8 itr: 3/16, DLoss: 0.36881, GLoss: 1.71031, 0.84898, 0.18535, 0.18081\n",
            "Epoch: 8 itr: 6/16, DLoss: 0.36593, GLoss: 1.72253, 0.84533, 0.17938, 0.17861\n",
            "Epoch: 8 itr: 9/16, DLoss: 0.36086, GLoss: 1.7357, 0.84728, 0.17707, 0.17628\n",
            "Epoch: 8 itr: 12/16, DLoss: 0.35528, GLoss: 1.74815, 0.84978, 0.17483, 0.1741\n",
            "Epoch: 8 itr: 15/16, DLoss: 0.36502, GLoss: 1.76078, 0.84142, 0.17497, 0.17191\n",
            "Epoch: 9 itr: 0/16, DLoss: 0.34908, GLoss: 1.76474, 0.85233, 0.17231, 0.17123\n",
            "Epoch: 9 itr: 3/16, DLoss: 0.34751, GLoss: 1.77727, 0.85113, 0.16981, 0.1691\n",
            "Epoch: 9 itr: 6/16, DLoss: 0.34214, GLoss: 1.78952, 0.85368, 0.16775, 0.16704\n",
            "Epoch: 9 itr: 9/16, DLoss: 0.3561, GLoss: 1.80262, 0.85465, 0.18027, 0.16487\n",
            "Epoch: 9 itr: 12/16, DLoss: 0.33814, GLoss: 1.81548, 0.85254, 0.16345, 0.16276\n",
            "Epoch: 9 itr: 15/16, DLoss: 0.34633, GLoss: 1.82782, 0.84342, 0.16141, 0.16076\n",
            "Epoch: 10 itr: 0/16, DLoss: 0.32722, GLoss: 1.83201, 0.8592, 0.16076, 0.16009\n",
            "Epoch: 10 itr: 3/16, DLoss: 0.32502, GLoss: 1.84481, 0.85903, 0.15874, 0.15806\n",
            "Epoch: 10 itr: 6/16, DLoss: 0.32789, GLoss: 1.85752, 0.85456, 0.15671, 0.15606\n",
            "Epoch: 10 itr: 9/16, DLoss: 0.31213, GLoss: 1.87018, 0.86612, 0.15476, 0.1541\n",
            "Epoch: 10 itr: 12/16, DLoss: 0.3179, GLoss: 1.88122, 0.86, 0.15365, 0.1524\n",
            "Epoch: 10 itr: 15/16, DLoss: 0.29283, GLoss: 1.89648, 0.87877, 0.15081, 0.1501\n",
            "Epoch: 11 itr: 0/16, DLoss: 0.39987, GLoss: 1.89832, 0.7952, 0.15014, 0.14982\n",
            "Epoch: 11 itr: 3/16, DLoss: 0.34064, GLoss: 1.90545, 0.83622, 0.14918, 0.14876\n",
            "Epoch: 11 itr: 6/16, DLoss: 0.32821, GLoss: 1.91539, 0.84557, 0.1478, 0.14728\n",
            "Epoch: 11 itr: 9/16, DLoss: 0.3103, GLoss: 1.92665, 0.85906, 0.1462, 0.14563\n",
            "Epoch: 11 itr: 12/16, DLoss: 0.30457, GLoss: 1.9388, 0.86224, 0.14447, 0.14388\n",
            "Epoch: 11 itr: 15/16, DLoss: 0.32026, GLoss: 1.95114, 0.84786, 0.14265, 0.14211\n",
            "Epoch: 12 itr: 0/16, DLoss: 0.29131, GLoss: 1.95517, 0.87152, 0.14212, 0.14154\n",
            "Epoch: 12 itr: 3/16, DLoss: 0.28555, GLoss: 1.9677, 0.87461, 0.14038, 0.13978\n",
            "Epoch: 12 itr: 6/16, DLoss: 0.28726, GLoss: 1.98053, 0.87173, 0.13861, 0.138\n",
            "Epoch: 12 itr: 9/16, DLoss: 0.27731, GLoss: 1.9946, 0.87812, 0.13683, 0.13607\n",
            "Epoch: 12 itr: 12/16, DLoss: 0.28622, GLoss: 2.00827, 0.8686, 0.13482, 0.13422\n",
            "Epoch: 12 itr: 15/16, DLoss: 0.26118, GLoss: 2.02091, 0.8889, 0.13357, 0.13254\n",
            "Epoch: 13 itr: 0/16, DLoss: 0.29423, GLoss: 2.02792, 0.88651, 0.15924, 0.13161\n",
            "Epoch: 13 itr: 3/16, DLoss: 0.30362, GLoss: 2.04362, 0.88389, 0.16447, 0.12956\n",
            "Epoch: 13 itr: 6/16, DLoss: 0.26298, GLoss: 2.05806, 0.88209, 0.12829, 0.1277\n",
            "Epoch: 13 itr: 9/16, DLoss: 0.25573, GLoss: 2.0721, 0.88665, 0.12651, 0.12592\n",
            "Epoch: 13 itr: 12/16, DLoss: 0.24866, GLoss: 2.08633, 0.89107, 0.12474, 0.12414\n",
            "Epoch: 13 itr: 15/16, DLoss: 0.25326, GLoss: 2.10033, 0.88525, 0.12298, 0.12242\n",
            "Epoch: 14 itr: 0/16, DLoss: 0.24355, GLoss: 2.10508, 0.89325, 0.12242, 0.12184\n",
            "Epoch: 14 itr: 3/16, DLoss: 0.24717, GLoss: 2.11906, 0.88839, 0.1207, 0.12014\n",
            "Epoch: 14 itr: 6/16, DLoss: 0.23938, GLoss: 2.13336, 0.8935, 0.11901, 0.11844\n",
            "Epoch: 14 itr: 9/16, DLoss: 0.2387, GLoss: 2.14781, 0.89245, 0.1173, 0.11674\n",
            "Epoch: 14 itr: 12/16, DLoss: 0.23484, GLoss: 2.16228, 0.89415, 0.11562, 0.11506\n",
            "Epoch: 14 itr: 15/16, DLoss: 0.23586, GLoss: 2.17693, 0.8915, 0.11394, 0.11339\n",
            "Epoch: 15 itr: 0/16, DLoss: 0.22733, GLoss: 2.18182, 0.89858, 0.11339, 0.11284\n",
            "Epoch: 15 itr: 3/16, DLoss: 0.22517, GLoss: 2.19653, 0.89883, 0.11174, 0.11119\n",
            "Epoch: 15 itr: 6/16, DLoss: 0.2255, GLoss: 2.21126, 0.89698, 0.1101, 0.10956\n",
            "Epoch: 15 itr: 9/16, DLoss: 0.21826, GLoss: 2.22615, 0.90176, 0.10849, 0.10794\n",
            "Epoch: 15 itr: 12/16, DLoss: 0.21605, GLoss: 2.24118, 0.9021, 0.10687, 0.10633\n",
            "Epoch: 15 itr: 15/16, DLoss: 0.21487, GLoss: 2.2563, 0.90155, 0.10527, 0.10474\n",
            "Epoch: 16 itr: 0/16, DLoss: 0.21261, GLoss: 2.26135, 0.90306, 0.10474, 0.10421\n",
            "Epoch: 16 itr: 3/16, DLoss: 0.21064, GLoss: 2.27636, 0.90326, 0.10317, 0.10266\n",
            "Epoch: 16 itr: 6/16, DLoss: 0.20777, GLoss: 2.29127, 0.90432, 0.10165, 0.10114\n",
            "Epoch: 16 itr: 9/16, DLoss: 0.20583, GLoss: 2.30626, 0.90455, 0.10013, 0.09963\n",
            "Epoch: 16 itr: 12/16, DLoss: 0.20254, GLoss: 2.32141, 0.90603, 0.09863, 0.09814\n",
            "Epoch: 16 itr: 15/16, DLoss: 0.20113, GLoss: 2.33654, 0.90581, 0.09715, 0.09666\n",
            "Epoch: 17 itr: 0/16, DLoss: 0.20025, GLoss: 2.34158, 0.90611, 0.09666, 0.09618\n",
            "Epoch: 17 itr: 3/16, DLoss: 0.19942, GLoss: 2.35666, 0.90545, 0.09521, 0.09474\n",
            "Epoch: 17 itr: 6/16, DLoss: 0.1957, GLoss: 2.37175, 0.90736, 0.09379, 0.09332\n",
            "Epoch: 17 itr: 9/16, DLoss: 0.1934, GLoss: 2.38673, 0.90804, 0.09239, 0.09193\n",
            "Epoch: 17 itr: 12/16, DLoss: 0.19116, GLoss: 2.40184, 0.9087, 0.09101, 0.09055\n",
            "Epoch: 17 itr: 15/16, DLoss: 0.19129, GLoss: 2.4172, 0.90721, 0.08963, 0.08917\n",
            "Epoch: 18 itr: 0/16, DLoss: 0.18952, GLoss: 2.42226, 0.90838, 0.08917, 0.08872\n",
            "Epoch: 18 itr: 3/16, DLoss: 0.1868, GLoss: 2.43733, 0.90953, 0.08783, 0.08739\n",
            "Epoch: 18 itr: 6/16, DLoss: 0.18399, GLoss: 2.45253, 0.91074, 0.08651, 0.08608\n",
            "Epoch: 18 itr: 9/16, DLoss: 0.18179, GLoss: 2.46771, 0.91144, 0.08521, 0.08478\n",
            "Epoch: 18 itr: 12/16, DLoss: 0.17885, GLoss: 2.48306, 0.91285, 0.08392, 0.08349\n",
            "Epoch: 18 itr: 15/16, DLoss: 0.1775, GLoss: 2.49855, 0.91278, 0.08263, 0.0822\n",
            "Epoch: 19 itr: 0/16, DLoss: 0.17652, GLoss: 2.50371, 0.91326, 0.0822, 0.08178\n",
            "Epoch: 19 itr: 3/16, DLoss: 0.17373, GLoss: 2.51927, 0.91457, 0.08094, 0.08052\n",
            "Epoch: 19 itr: 6/16, DLoss: 0.17248, GLoss: 2.53482, 0.91445, 0.07969, 0.07928\n",
            "Epoch: 19 itr: 9/16, DLoss: 0.17093, GLoss: 2.55049, 0.91464, 0.07845, 0.07804\n",
            "Epoch: 19 itr: 12/16, DLoss: 0.16778, GLoss: 2.5661, 0.91631, 0.07724, 0.07683\n",
            "Epoch: 19 itr: 15/16, DLoss: 0.16592, GLoss: 2.58192, 0.91681, 0.07603, 0.07563\n"
          ]
        }
      ]
    },
    {
      "cell_type": "code",
      "source": [
        "with open(path + 'pickle/DCGAN/plastic/img_list_35.pickle', 'wb') as handle:\n",
        "    pickle.dump(img_list[-1], handle)"
      ],
      "metadata": {
        "id": "5byg_FkepCcP"
      },
      "execution_count": null,
      "outputs": []
    },
    {
      "cell_type": "code",
      "source": [
        "np.save(path + 'pickle/DCGAN/plastic/img_list_35', img_list[-1])"
      ],
      "metadata": {
        "id": "11Y06-Jn0mA-"
      },
      "execution_count": null,
      "outputs": []
    },
    {
      "cell_type": "markdown",
      "source": [
        "##### Trash"
      ],
      "metadata": {
        "id": "DEAci3zGqmtV"
      }
    },
    {
      "cell_type": "code",
      "source": [
        "with open(path + 'pickle/trash.pickle', 'rb') as handle:\n",
        "    trash_data = pickle.load(handle)"
      ],
      "metadata": {
        "id": "mCmzFp6xqmtV"
      },
      "execution_count": null,
      "outputs": []
    },
    {
      "cell_type": "code",
      "source": [
        "trash_data.shape"
      ],
      "metadata": {
        "colab": {
          "base_uri": "https://localhost:8080/"
        },
        "outputId": "ff0eb070-bf27-4711-d2b0-606fc3d8d72a",
        "id": "Njthtns4qmtV"
      },
      "execution_count": null,
      "outputs": [
        {
          "output_type": "execute_result",
          "data": {
            "text/plain": [
              "(137, 384, 512, 3)"
            ]
          },
          "metadata": {},
          "execution_count": 7
        }
      ]
    },
    {
      "cell_type": "code",
      "source": [
        "dataset = CustomDataset(trash_data, transform=data_transform)\n",
        "dataloader = DataLoader(dataset, batch_size=32, shuffle=True)"
      ],
      "metadata": {
        "id": "sGNp8ahkqmtW"
      },
      "execution_count": null,
      "outputs": []
    },
    {
      "cell_type": "code",
      "source": [
        "noise_channels = 100\n",
        "generator = Generator().to(device)\n",
        "discriminator = Discriminator().to(device)"
      ],
      "metadata": {
        "id": "M1fNooHwqmtW"
      },
      "execution_count": null,
      "outputs": []
    },
    {
      "cell_type": "code",
      "source": [
        "lr = 0.0002\n",
        "beta1 = 0.5\n",
        "epochs = 20\n",
        "\n",
        "optimizerG = optim.Adam(generator.parameters(), lr = lr, betas=(beta1, 0.999))\n",
        "optimizerD = optim.Adam(discriminator.parameters(), lr = lr, betas=(beta1, 0.999))\n",
        "\n",
        "criterion = nn.BCELoss()\n",
        "\n",
        "fixed_noise = torch.randn(64, noise_channels, 1, 1, device=device)\n",
        "\n",
        "G_loss, D_loss, img_list = trainGAN(dataloader, generator, discriminator, optimizerG, optimizerD, criterion, epochs, fixed_noise)\n",
        "\n",
        "np.save(path + 'pickle/DCGAN/trash/img_list_35', img_list[-1])\n",
        "# with open(path + 'pickle/DCGAN/trash/generator.pickle', 'wb') as handle:\n",
        "#     pickle.dump(generator, handle)\n",
        "# with open(path + 'pickle/DCGAN/trash/discriminator.pickle', 'wb') as handle:\n",
        "#     pickle.dump(discriminator, handle)\n",
        "# with open(path + 'pickle/DCGAN/trash/img_list_35.pickle', 'wb') as handle:\n",
        "#     pickle.dump(img_list, handle)\n",
        "# with open(path + 'pickle/DCGAN/trash/G_loss_35.pickle', 'wb') as handle:\n",
        "#     pickle.dump(G_loss, handle)\n",
        "# with open(path + 'pickle/DCGAN/trash/D_loss_35.pickle', 'wb') as handle:\n",
        "#     pickle.dump(D_loss, handle)"
      ],
      "metadata": {
        "colab": {
          "base_uri": "https://localhost:8080/"
        },
        "outputId": "ce201581-90ca-4159-8b32-f32d2405cf8c",
        "id": "IghWh-SLqmtW"
      },
      "execution_count": null,
      "outputs": [
        {
          "output_type": "stream",
          "name": "stdout",
          "text": [
            "Epoch: 0 itr: 0/5, DLoss: 1.40528, GLoss: 1.44457, 0.41514, 0.40655, 0.23776\n",
            "Epoch: 0 itr: 1/5, DLoss: 1.08957, GLoss: 1.45103, 0.59772, 0.43204, 0.23575\n",
            "Epoch: 0 itr: 2/5, DLoss: 1.02719, GLoss: 1.45956, 0.59974, 0.39199, 0.23321\n",
            "Epoch: 0 itr: 3/5, DLoss: 0.80027, GLoss: 1.29857, 0.66048, 0.3053, 0.273\n",
            "Epoch: 0 itr: 4/5, DLoss: 0.70057, GLoss: 1.27939, 0.70573, 0.28884, 0.27821\n",
            "Epoch: 1 itr: 0/5, DLoss: 0.59863, GLoss: 1.28159, 0.77264, 0.28333, 0.2776\n",
            "Epoch: 1 itr: 1/5, DLoss: 0.5572, GLoss: 1.28391, 0.80163, 0.28081, 0.27696\n",
            "Epoch: 1 itr: 2/5, DLoss: 0.54177, GLoss: 1.28531, 0.81401, 0.28051, 0.27657\n",
            "Epoch: 1 itr: 3/5, DLoss: 0.55281, GLoss: 1.28716, 0.80431, 0.28089, 0.27606\n",
            "Epoch: 1 itr: 4/5, DLoss: 0.57853, GLoss: 1.29064, 0.78702, 0.2838, 0.2751\n",
            "Epoch: 2 itr: 0/5, DLoss: 0.52226, GLoss: 1.29362, 0.83786, 0.2898, 0.27428\n",
            "Epoch: 2 itr: 1/5, DLoss: 0.5132, GLoss: 1.30139, 0.84683, 0.29119, 0.27215\n",
            "Epoch: 2 itr: 2/5, DLoss: 0.47762, GLoss: 1.30695, 0.86699, 0.28329, 0.27065\n",
            "Epoch: 2 itr: 3/5, DLoss: 0.47364, GLoss: 1.31091, 0.86243, 0.27668, 0.26958\n",
            "Epoch: 2 itr: 4/5, DLoss: 0.43917, GLoss: 1.31618, 0.88786, 0.27286, 0.26816\n",
            "Epoch: 3 itr: 0/5, DLoss: 0.45243, GLoss: 1.31743, 0.8743, 0.27137, 0.26782\n",
            "Epoch: 3 itr: 1/5, DLoss: 0.43814, GLoss: 1.31984, 0.88742, 0.27173, 0.26718\n",
            "Epoch: 3 itr: 2/5, DLoss: 0.44024, GLoss: 1.32491, 0.88837, 0.27403, 0.26583\n",
            "Epoch: 3 itr: 3/5, DLoss: 0.44757, GLoss: 1.32747, 0.87633, 0.26949, 0.26515\n",
            "Epoch: 3 itr: 4/5, DLoss: 0.44254, GLoss: 1.33117, 0.87912, 0.2676, 0.26417\n",
            "Epoch: 4 itr: 0/5, DLoss: 0.41911, GLoss: 1.33246, 0.89732, 0.26619, 0.26383\n",
            "Epoch: 4 itr: 1/5, DLoss: 0.41986, GLoss: 1.33459, 0.89861, 0.26785, 0.26327\n",
            "Epoch: 4 itr: 2/5, DLoss: 0.43639, GLoss: 1.34048, 0.89287, 0.27494, 0.26172\n",
            "Epoch: 4 itr: 3/5, DLoss: 0.40617, GLoss: 1.34383, 0.90364, 0.2622, 0.26084\n",
            "Epoch: 4 itr: 4/5, DLoss: 0.39256, GLoss: 1.34636, 0.91462, 0.26111, 0.26019\n",
            "Epoch: 5 itr: 0/5, DLoss: 0.38908, GLoss: 1.34891, 0.9169, 0.26032, 0.25952\n",
            "Epoch: 5 itr: 1/5, DLoss: 0.40268, GLoss: 1.35145, 0.90424, 0.25962, 0.25887\n",
            "Epoch: 5 itr: 2/5, DLoss: 0.38413, GLoss: 1.35396, 0.91965, 0.25896, 0.25821\n",
            "Epoch: 5 itr: 3/5, DLoss: 0.38933, GLoss: 1.35638, 0.9144, 0.25834, 0.25759\n",
            "Epoch: 5 itr: 4/5, DLoss: 0.38053, GLoss: 1.35857, 0.92152, 0.25788, 0.25703\n",
            "Epoch: 6 itr: 0/5, DLoss: 0.38158, GLoss: 1.35983, 0.92224, 0.25908, 0.25671\n",
            "Epoch: 6 itr: 1/5, DLoss: 0.39795, GLoss: 1.36767, 0.92977, 0.27716, 0.2547\n",
            "Epoch: 6 itr: 2/5, DLoss: 0.3668, GLoss: 1.36899, 0.93056, 0.2551, 0.25436\n",
            "Epoch: 6 itr: 3/5, DLoss: 0.36989, GLoss: 1.37152, 0.92721, 0.25442, 0.25372\n",
            "Epoch: 6 itr: 4/5, DLoss: 0.3634, GLoss: 1.37418, 0.932, 0.25374, 0.25305\n",
            "Epoch: 7 itr: 0/5, DLoss: 0.36227, GLoss: 1.37688, 0.93251, 0.25306, 0.25237\n",
            "Epoch: 7 itr: 1/5, DLoss: 0.35421, GLoss: 1.37957, 0.93891, 0.25239, 0.25169\n",
            "Epoch: 7 itr: 2/5, DLoss: 0.35143, GLoss: 1.38221, 0.94067, 0.25171, 0.25102\n",
            "Epoch: 7 itr: 3/5, DLoss: 0.34837, GLoss: 1.38495, 0.94262, 0.25102, 0.25034\n",
            "Epoch: 7 itr: 4/5, DLoss: 0.35281, GLoss: 1.38762, 0.93779, 0.25036, 0.24967\n",
            "Epoch: 8 itr: 0/5, DLoss: 0.35754, GLoss: 1.39029, 0.93269, 0.24969, 0.249\n",
            "Epoch: 8 itr: 1/5, DLoss: 0.34445, GLoss: 1.39295, 0.94386, 0.24903, 0.24834\n",
            "Epoch: 8 itr: 2/5, DLoss: 0.35289, GLoss: 1.3957, 0.93556, 0.24836, 0.24766\n",
            "Epoch: 8 itr: 3/5, DLoss: 0.34619, GLoss: 1.39827, 0.94062, 0.24772, 0.24702\n",
            "Epoch: 8 itr: 4/5, DLoss: 0.33878, GLoss: 1.40034, 0.94679, 0.24726, 0.24651\n",
            "Epoch: 9 itr: 0/5, DLoss: 0.33098, GLoss: 1.40281, 0.95356, 0.24675, 0.24591\n",
            "Epoch: 9 itr: 1/5, DLoss: 0.33344, GLoss: 1.40465, 0.95282, 0.24801, 0.24545\n",
            "Epoch: 9 itr: 2/5, DLoss: 0.36043, GLoss: 1.4098, 0.94684, 0.26306, 0.24419\n",
            "Epoch: 9 itr: 3/5, DLoss: 0.32662, GLoss: 1.41272, 0.95462, 0.24429, 0.24348\n",
            "Epoch: 9 itr: 4/5, DLoss: 0.32646, GLoss: 1.41556, 0.9538, 0.24349, 0.24279\n",
            "Epoch: 10 itr: 0/5, DLoss: 0.31989, GLoss: 1.41823, 0.95916, 0.24284, 0.24214\n",
            "Epoch: 10 itr: 1/5, DLoss: 0.32496, GLoss: 1.42102, 0.95366, 0.24217, 0.24147\n",
            "Epoch: 10 itr: 2/5, DLoss: 0.32176, GLoss: 1.42381, 0.9557, 0.24148, 0.2408\n",
            "Epoch: 10 itr: 3/5, DLoss: 0.32217, GLoss: 1.42638, 0.95471, 0.24086, 0.24018\n",
            "Epoch: 10 itr: 4/5, DLoss: 0.31898, GLoss: 1.42924, 0.95673, 0.24017, 0.23949\n",
            "Epoch: 11 itr: 0/5, DLoss: 0.31519, GLoss: 1.43162, 0.9597, 0.23963, 0.23892\n",
            "Epoch: 11 itr: 1/5, DLoss: 0.31467, GLoss: 1.43371, 0.95974, 0.23925, 0.23842\n",
            "Epoch: 11 itr: 2/5, DLoss: 0.31556, GLoss: 1.43682, 0.96359, 0.24303, 0.23768\n",
            "Epoch: 11 itr: 3/5, DLoss: 0.32004, GLoss: 1.44113, 0.96266, 0.24567, 0.23666\n",
            "Epoch: 11 itr: 4/5, DLoss: 0.30609, GLoss: 1.44382, 0.96472, 0.23673, 0.23602\n",
            "Epoch: 12 itr: 0/5, DLoss: 0.30413, GLoss: 1.44645, 0.96576, 0.23607, 0.2354\n",
            "Epoch: 12 itr: 1/5, DLoss: 0.30368, GLoss: 1.44915, 0.96539, 0.23543, 0.23477\n",
            "Epoch: 12 itr: 2/5, DLoss: 0.30594, GLoss: 1.45191, 0.96248, 0.23478, 0.23412\n",
            "Epoch: 12 itr: 3/5, DLoss: 0.30056, GLoss: 1.45471, 0.96676, 0.23412, 0.23347\n",
            "Epoch: 12 itr: 4/5, DLoss: 0.3015, GLoss: 1.4575, 0.96503, 0.23347, 0.23282\n",
            "Epoch: 13 itr: 0/5, DLoss: 0.29737, GLoss: 1.46033, 0.96819, 0.23282, 0.23216\n",
            "Epoch: 13 itr: 1/5, DLoss: 0.29461, GLoss: 1.46315, 0.97003, 0.23216, 0.23151\n",
            "Epoch: 13 itr: 2/5, DLoss: 0.29553, GLoss: 1.46598, 0.96832, 0.23151, 0.23085\n",
            "Epoch: 13 itr: 3/5, DLoss: 0.29433, GLoss: 1.46882, 0.96867, 0.23085, 0.2302\n",
            "Epoch: 13 itr: 4/5, DLoss: 0.29388, GLoss: 1.47165, 0.96829, 0.2302, 0.22955\n",
            "Epoch: 14 itr: 0/5, DLoss: 0.2906, GLoss: 1.4745, 0.97062, 0.22955, 0.22889\n",
            "Epoch: 14 itr: 1/5, DLoss: 0.28973, GLoss: 1.47733, 0.97065, 0.2289, 0.22825\n",
            "Epoch: 14 itr: 2/5, DLoss: 0.28718, GLoss: 1.48019, 0.97232, 0.22825, 0.2276\n",
            "Epoch: 14 itr: 3/5, DLoss: 0.28675, GLoss: 1.48304, 0.97191, 0.2276, 0.22695\n",
            "Epoch: 14 itr: 4/5, DLoss: 0.28452, GLoss: 1.4859, 0.97326, 0.22695, 0.2263\n",
            "Epoch: 15 itr: 0/5, DLoss: 0.28391, GLoss: 1.48876, 0.97305, 0.2263, 0.22565\n",
            "Epoch: 15 itr: 1/5, DLoss: 0.28236, GLoss: 1.49161, 0.97374, 0.22566, 0.22501\n",
            "Epoch: 15 itr: 2/5, DLoss: 0.28099, GLoss: 1.49451, 0.97426, 0.22501, 0.22436\n",
            "Epoch: 15 itr: 3/5, DLoss: 0.27893, GLoss: 1.4974, 0.97545, 0.22436, 0.22371\n",
            "Epoch: 15 itr: 4/5, DLoss: 0.27779, GLoss: 1.50031, 0.97574, 0.22371, 0.22306\n",
            "Epoch: 16 itr: 0/5, DLoss: 0.27659, GLoss: 1.50316, 0.97611, 0.22307, 0.22243\n",
            "Epoch: 16 itr: 1/5, DLoss: 0.27679, GLoss: 1.50608, 0.97511, 0.22242, 0.22178\n",
            "Epoch: 16 itr: 2/5, DLoss: 0.27417, GLoss: 1.50898, 0.97686, 0.22178, 0.22114\n",
            "Epoch: 16 itr: 3/5, DLoss: 0.27225, GLoss: 1.51189, 0.97792, 0.22114, 0.22049\n",
            "Epoch: 16 itr: 4/5, DLoss: 0.27313, GLoss: 1.51479, 0.97627, 0.2205, 0.21985\n",
            "Epoch: 17 itr: 0/5, DLoss: 0.27056, GLoss: 1.51769, 0.97797, 0.21986, 0.21922\n",
            "Epoch: 17 itr: 1/5, DLoss: 0.26823, GLoss: 1.52058, 0.97946, 0.21923, 0.21859\n",
            "Epoch: 17 itr: 2/5, DLoss: 0.26791, GLoss: 1.5235, 0.97897, 0.21859, 0.21795\n",
            "Epoch: 17 itr: 3/5, DLoss: 0.26716, GLoss: 1.52626, 0.97897, 0.218, 0.21735\n",
            "Epoch: 17 itr: 4/5, DLoss: 0.26491, GLoss: 1.52871, 0.98057, 0.21752, 0.21681\n",
            "Epoch: 18 itr: 0/5, DLoss: 0.26663, GLoss: 1.53146, 0.98044, 0.21876, 0.21622\n",
            "Epoch: 18 itr: 1/5, DLoss: 0.30338, GLoss: 1.53573, 0.98045, 0.24676, 0.2153\n",
            "Epoch: 18 itr: 2/5, DLoss: 0.26134, GLoss: 1.53869, 0.98128, 0.21529, 0.21466\n",
            "Epoch: 18 itr: 3/5, DLoss: 0.26091, GLoss: 1.54168, 0.98092, 0.21466, 0.21402\n",
            "Epoch: 18 itr: 4/5, DLoss: 0.26054, GLoss: 1.54465, 0.98048, 0.21402, 0.21339\n",
            "Epoch: 19 itr: 0/5, DLoss: 0.25847, GLoss: 1.54764, 0.98172, 0.21339, 0.21275\n",
            "Epoch: 19 itr: 1/5, DLoss: 0.25758, GLoss: 1.55062, 0.9818, 0.21275, 0.21212\n",
            "Epoch: 19 itr: 2/5, DLoss: 0.25635, GLoss: 1.55362, 0.98222, 0.21212, 0.21148\n",
            "Epoch: 19 itr: 3/5, DLoss: 0.25445, GLoss: 1.55663, 0.98329, 0.21148, 0.21085\n",
            "Epoch: 19 itr: 4/5, DLoss: 0.25672, GLoss: 1.55964, 0.98029, 0.21085, 0.21021\n"
          ]
        }
      ]
    },
    {
      "cell_type": "markdown",
      "source": [
        "##### Glass"
      ],
      "metadata": {
        "id": "MkG1FNSRrdIV"
      }
    },
    {
      "cell_type": "code",
      "source": [
        "with open(path + 'pickle/glass.pickle', 'rb') as handle:\n",
        "    glass_data = pickle.load(handle)"
      ],
      "metadata": {
        "id": "uAXce4LbrdIW"
      },
      "execution_count": null,
      "outputs": []
    },
    {
      "cell_type": "code",
      "source": [
        "glass_data.shape"
      ],
      "metadata": {
        "colab": {
          "base_uri": "https://localhost:8080/"
        },
        "outputId": "99e52eb2-8e10-49f8-f476-b8d84887fe5f",
        "id": "yMk07ZdCrdIX"
      },
      "execution_count": null,
      "outputs": [
        {
          "output_type": "execute_result",
          "data": {
            "text/plain": [
              "(501, 384, 512, 3)"
            ]
          },
          "metadata": {},
          "execution_count": 8
        }
      ]
    },
    {
      "cell_type": "code",
      "source": [
        "dataset = CustomDataset(glass_data, transform=data_transform)\n",
        "dataloader = DataLoader(dataset, batch_size=32, shuffle=True)"
      ],
      "metadata": {
        "id": "C8KrJBudrdIY"
      },
      "execution_count": null,
      "outputs": []
    },
    {
      "cell_type": "code",
      "source": [
        "noise_channels = 100\n",
        "generator = Generator().to(device)\n",
        "discriminator = Discriminator().to(device)"
      ],
      "metadata": {
        "id": "Z9lxa_P6rdIZ"
      },
      "execution_count": null,
      "outputs": []
    },
    {
      "cell_type": "code",
      "source": [
        "lr = 0.0002\n",
        "beta1 = 0.5\n",
        "epochs = 20\n",
        "\n",
        "optimizerG = optim.Adam(generator.parameters(), lr = lr, betas=(beta1, 0.999))\n",
        "optimizerD = optim.Adam(discriminator.parameters(), lr = lr, betas=(beta1, 0.999))\n",
        "\n",
        "criterion = nn.BCELoss()\n",
        "\n",
        "fixed_noise = torch.randn(64, noise_channels, 1, 1, device=device)\n",
        "\n",
        "G_loss, D_loss, img_list = trainGAN(dataloader, generator, discriminator, optimizerG, optimizerD, criterion, epochs, fixed_noise)\n",
        "\n",
        "np.save(path + 'pickle/DCGAN/glass/img_list_35', img_list[-1])\n",
        "# with open(path + 'pickle/DCGAN/glass/generator.pickle', 'wb') as handle:\n",
        "#     pickle.dump(generator, handle)\n",
        "# with open(path + 'pickle/DCGAN/glass/discriminator.pickle', 'wb') as handle:\n",
        "#     pickle.dump(discriminator, handle)\n",
        "# with open(path + 'pickle/DCGAN/glass/img_list_35.pickle', 'wb') as handle:\n",
        "#     pickle.dump(img_list, handle)\n",
        "# with open(path + 'pickle/DCGAN/glass/G_loss_35.pickle', 'wb') as handle:\n",
        "#     pickle.dump(G_loss, handle)\n",
        "# with open(path + 'pickle/DCGAN/glass/D_loss_35.pickle', 'wb') as handle:\n",
        "#     pickle.dump(D_loss, handle)"
      ],
      "metadata": {
        "colab": {
          "base_uri": "https://localhost:8080/"
        },
        "outputId": "667f5d77-c618-4e51-9c80-d904320828a9",
        "id": "Lzm_DOSmrdIZ"
      },
      "execution_count": null,
      "outputs": [
        {
          "output_type": "stream",
          "name": "stdout",
          "text": [
            "Epoch: 0 itr: 0/16, DLoss: 1.3961, GLoss: 1.15279, 0.54865, 0.54788, 0.31615\n",
            "Epoch: 0 itr: 3/16, DLoss: 1.30355, GLoss: 0.68041, 0.58804, 0.53733, 0.50641\n",
            "Epoch: 0 itr: 6/16, DLoss: 1.15511, GLoss: 0.68091, 0.6416, 0.50791, 0.50616\n",
            "Epoch: 0 itr: 9/16, DLoss: 1.0379, GLoss: 0.68463, 0.71807, 0.50603, 0.50428\n",
            "Epoch: 0 itr: 12/16, DLoss: 0.97779, GLoss: 0.68911, 0.76407, 0.5073, 0.50202\n",
            "Epoch: 0 itr: 15/16, DLoss: 0.93865, GLoss: 0.6965, 0.78782, 0.50333, 0.49833\n",
            "Epoch: 1 itr: 0/16, DLoss: 0.91825, GLoss: 0.69897, 0.80105, 0.50153, 0.4971\n",
            "Epoch: 1 itr: 3/16, DLoss: 0.89877, GLoss: 0.70547, 0.80915, 0.49679, 0.49388\n",
            "Epoch: 1 itr: 6/16, DLoss: 0.89613, GLoss: 0.71122, 0.80844, 0.49504, 0.49104\n",
            "Epoch: 1 itr: 9/16, DLoss: 0.87191, GLoss: 0.71758, 0.82012, 0.49007, 0.48793\n",
            "Epoch: 1 itr: 12/16, DLoss: 0.87059, GLoss: 0.72318, 0.82029, 0.48943, 0.48521\n",
            "Epoch: 1 itr: 15/16, DLoss: 0.86077, GLoss: 0.72961, 0.81955, 0.48392, 0.4821\n",
            "Epoch: 2 itr: 0/16, DLoss: 0.85789, GLoss: 0.73137, 0.82019, 0.48284, 0.48125\n",
            "Epoch: 2 itr: 3/16, DLoss: 0.85033, GLoss: 0.73758, 0.82831, 0.48405, 0.47827\n",
            "Epoch: 2 itr: 6/16, DLoss: 0.834, GLoss: 0.74259, 0.83209, 0.47794, 0.47588\n",
            "Epoch: 2 itr: 9/16, DLoss: 0.8266, GLoss: 0.74901, 0.8317, 0.47377, 0.47283\n",
            "Epoch: 2 itr: 12/16, DLoss: 0.82363, GLoss: 0.75513, 0.82959, 0.47091, 0.46995\n",
            "Epoch: 2 itr: 15/16, DLoss: 0.82134, GLoss: 0.76121, 0.82711, 0.46805, 0.4671\n",
            "Epoch: 3 itr: 0/16, DLoss: 0.80007, GLoss: 0.76327, 0.84332, 0.4671, 0.46614\n",
            "Epoch: 3 itr: 3/16, DLoss: 0.80543, GLoss: 0.76938, 0.83433, 0.46425, 0.4633\n",
            "Epoch: 3 itr: 6/16, DLoss: 0.80959, GLoss: 0.77551, 0.82657, 0.46141, 0.46047\n",
            "Epoch: 3 itr: 9/16, DLoss: 0.79665, GLoss: 0.78162, 0.83297, 0.45862, 0.45766\n",
            "Epoch: 3 itr: 12/16, DLoss: 0.78635, GLoss: 0.78768, 0.83732, 0.45586, 0.4549\n",
            "Epoch: 3 itr: 15/16, DLoss: 0.77739, GLoss: 0.79371, 0.8406, 0.45313, 0.45216\n",
            "Epoch: 4 itr: 0/16, DLoss: 0.76899, GLoss: 0.79572, 0.84639, 0.45224, 0.45126\n",
            "Epoch: 4 itr: 3/16, DLoss: 0.76216, GLoss: 0.80179, 0.84807, 0.44959, 0.44853\n",
            "Epoch: 4 itr: 6/16, DLoss: 0.76453, GLoss: 0.80781, 0.84226, 0.44706, 0.44583\n",
            "Epoch: 4 itr: 9/16, DLoss: 0.76097, GLoss: 0.81388, 0.8414, 0.44452, 0.44314\n",
            "Epoch: 4 itr: 12/16, DLoss: 0.75576, GLoss: 0.82013, 0.84144, 0.44167, 0.44037\n",
            "Epoch: 4 itr: 15/16, DLoss: 0.7596, GLoss: 0.82634, 0.8358, 0.43998, 0.43765\n",
            "Epoch: 5 itr: 0/16, DLoss: 0.73399, GLoss: 0.82859, 0.8552, 0.43866, 0.43666\n",
            "Epoch: 5 itr: 3/16, DLoss: 0.74066, GLoss: 0.83488, 0.84448, 0.43519, 0.43393\n",
            "Epoch: 5 itr: 6/16, DLoss: 0.73633, GLoss: 0.8413, 0.8448, 0.43296, 0.43115\n",
            "Epoch: 5 itr: 9/16, DLoss: 0.73211, GLoss: 0.84756, 0.84346, 0.4296, 0.42846\n",
            "Epoch: 5 itr: 12/16, DLoss: 0.72013, GLoss: 0.8539, 0.85003, 0.42728, 0.42575\n",
            "Epoch: 5 itr: 15/16, DLoss: 0.71477, GLoss: 0.86012, 0.85015, 0.42435, 0.42311\n",
            "Epoch: 6 itr: 0/16, DLoss: 0.71007, GLoss: 0.86219, 0.85346, 0.4238, 0.42224\n",
            "Epoch: 6 itr: 3/16, DLoss: 0.70068, GLoss: 0.86863, 0.85653, 0.42058, 0.41952\n",
            "Epoch: 6 itr: 6/16, DLoss: 0.69595, GLoss: 0.87502, 0.85899, 0.41946, 0.41685\n",
            "Epoch: 6 itr: 9/16, DLoss: 0.69822, GLoss: 0.88136, 0.85073, 0.41511, 0.41422\n",
            "Epoch: 6 itr: 12/16, DLoss: 0.69256, GLoss: 0.88742, 0.85198, 0.41264, 0.41172\n",
            "Epoch: 6 itr: 15/16, DLoss: 0.68204, GLoss: 0.89405, 0.85705, 0.40988, 0.40899\n",
            "Epoch: 7 itr: 0/16, DLoss: 0.67413, GLoss: 0.89618, 0.86234, 0.409, 0.40813\n",
            "Epoch: 7 itr: 3/16, DLoss: 0.68066, GLoss: 0.90258, 0.8532, 0.40639, 0.40552\n",
            "Epoch: 7 itr: 6/16, DLoss: 0.66814, GLoss: 0.90901, 0.86009, 0.40379, 0.40292\n",
            "Epoch: 7 itr: 9/16, DLoss: 0.6659, GLoss: 0.91548, 0.85826, 0.40119, 0.40033\n",
            "Epoch: 7 itr: 12/16, DLoss: 0.6596, GLoss: 0.92192, 0.85998, 0.39861, 0.39775\n",
            "Epoch: 7 itr: 15/16, DLoss: 0.6521, GLoss: 0.92837, 0.8627, 0.39605, 0.3952\n",
            "Epoch: 8 itr: 0/16, DLoss: 0.65962, GLoss: 0.93052, 0.85519, 0.3952, 0.39435\n",
            "Epoch: 8 itr: 3/16, DLoss: 0.65591, GLoss: 0.93699, 0.85486, 0.39265, 0.3918\n",
            "Epoch: 8 itr: 6/16, DLoss: 0.63777, GLoss: 0.94348, 0.86653, 0.39012, 0.38927\n",
            "Epoch: 8 itr: 9/16, DLoss: 0.63508, GLoss: 0.95001, 0.86531, 0.38758, 0.38674\n",
            "Epoch: 8 itr: 12/16, DLoss: 0.63093, GLoss: 0.95656, 0.86536, 0.38505, 0.38421\n",
            "Epoch: 8 itr: 15/16, DLoss: 0.6262, GLoss: 0.96311, 0.86587, 0.38254, 0.3817\n",
            "Epoch: 9 itr: 0/16, DLoss: 0.6269, GLoss: 0.96529, 0.86417, 0.38171, 0.38087\n",
            "Epoch: 9 itr: 3/16, DLoss: 0.6203, GLoss: 0.97186, 0.86634, 0.37921, 0.37838\n",
            "Epoch: 9 itr: 6/16, DLoss: 0.61559, GLoss: 0.97848, 0.867, 0.37671, 0.37588\n",
            "Epoch: 9 itr: 9/16, DLoss: 0.61292, GLoss: 0.98506, 0.86584, 0.37424, 0.37342\n",
            "Epoch: 9 itr: 12/16, DLoss: 0.61216, GLoss: 0.99157, 0.86329, 0.37182, 0.37099\n",
            "Epoch: 9 itr: 15/16, DLoss: 0.61009, GLoss: 0.99824, 0.86317, 0.37043, 0.36853\n",
            "Epoch: 10 itr: 0/16, DLoss: 0.60128, GLoss: 1.00047, 0.86818, 0.36865, 0.36771\n",
            "Epoch: 10 itr: 3/16, DLoss: 0.59512, GLoss: 1.00706, 0.87005, 0.36613, 0.36529\n",
            "Epoch: 10 itr: 6/16, DLoss: 0.59236, GLoss: 1.01377, 0.86983, 0.36422, 0.36285\n",
            "Epoch: 10 itr: 9/16, DLoss: 0.58926, GLoss: 1.02039, 0.86921, 0.36178, 0.36046\n",
            "Epoch: 10 itr: 12/16, DLoss: 0.58454, GLoss: 1.02715, 0.86939, 0.3589, 0.35803\n",
            "Epoch: 10 itr: 15/16, DLoss: 0.582, GLoss: 1.03385, 0.86905, 0.35702, 0.35563\n",
            "Epoch: 11 itr: 0/16, DLoss: 0.5796, GLoss: 1.03607, 0.86955, 0.35582, 0.35485\n",
            "Epoch: 11 itr: 3/16, DLoss: 0.57548, GLoss: 1.04281, 0.87076, 0.35408, 0.35246\n",
            "Epoch: 11 itr: 6/16, DLoss: 0.57272, GLoss: 1.04953, 0.86895, 0.35092, 0.3501\n",
            "Epoch: 11 itr: 9/16, DLoss: 0.56756, GLoss: 1.05639, 0.87018, 0.3485, 0.34771\n",
            "Epoch: 11 itr: 12/16, DLoss: 0.56185, GLoss: 1.0632, 0.87198, 0.34614, 0.34535\n",
            "Epoch: 11 itr: 15/16, DLoss: 0.56468, GLoss: 1.07, 0.86649, 0.34379, 0.34301\n",
            "Epoch: 12 itr: 0/16, DLoss: 0.55982, GLoss: 1.07227, 0.86962, 0.34301, 0.34223\n",
            "Epoch: 12 itr: 3/16, DLoss: 0.55524, GLoss: 1.07911, 0.87054, 0.34068, 0.3399\n",
            "Epoch: 12 itr: 6/16, DLoss: 0.55227, GLoss: 1.08575, 0.87019, 0.33848, 0.33765\n",
            "Epoch: 12 itr: 9/16, DLoss: 0.54936, GLoss: 1.09273, 0.86956, 0.33607, 0.3353\n",
            "Epoch: 12 itr: 12/16, DLoss: 0.54487, GLoss: 1.09963, 0.87046, 0.33377, 0.333\n",
            "Epoch: 12 itr: 15/16, DLoss: 0.54005, GLoss: 1.10649, 0.87166, 0.33148, 0.33072\n",
            "Epoch: 13 itr: 0/16, DLoss: 0.53781, GLoss: 1.10873, 0.87266, 0.33075, 0.32998\n",
            "Epoch: 13 itr: 3/16, DLoss: 0.5344, GLoss: 1.1155, 0.87269, 0.32848, 0.32775\n",
            "Epoch: 13 itr: 6/16, DLoss: 0.53077, GLoss: 1.12241, 0.87297, 0.32625, 0.32549\n",
            "Epoch: 13 itr: 9/16, DLoss: 0.52729, GLoss: 1.12946, 0.87306, 0.32397, 0.32321\n",
            "Epoch: 13 itr: 12/16, DLoss: 0.52434, GLoss: 1.13658, 0.87267, 0.32168, 0.32092\n",
            "Epoch: 13 itr: 15/16, DLoss: 0.52168, GLoss: 1.14373, 0.87206, 0.31939, 0.31863\n",
            "Epoch: 14 itr: 0/16, DLoss: 0.51967, GLoss: 1.1461, 0.87284, 0.31863, 0.31788\n",
            "Epoch: 14 itr: 3/16, DLoss: 0.51601, GLoss: 1.15329, 0.87312, 0.31635, 0.3156\n",
            "Epoch: 14 itr: 6/16, DLoss: 0.51164, GLoss: 1.16058, 0.87404, 0.31407, 0.3133\n",
            "Epoch: 14 itr: 9/16, DLoss: 0.50875, GLoss: 1.16788, 0.87363, 0.31178, 0.31103\n",
            "Epoch: 14 itr: 12/16, DLoss: 0.50409, GLoss: 1.17524, 0.87484, 0.3095, 0.30875\n",
            "Epoch: 14 itr: 15/16, DLoss: 0.50134, GLoss: 1.18258, 0.87437, 0.30724, 0.30649\n",
            "Epoch: 15 itr: 0/16, DLoss: 0.49958, GLoss: 1.18505, 0.87497, 0.30649, 0.30573\n",
            "Epoch: 15 itr: 3/16, DLoss: 0.49464, GLoss: 1.19268, 0.8764, 0.30418, 0.30341\n",
            "Epoch: 15 itr: 6/16, DLoss: 0.4932, GLoss: 1.20036, 0.87473, 0.30185, 0.30108\n",
            "Epoch: 15 itr: 9/16, DLoss: 0.48755, GLoss: 1.20813, 0.87678, 0.29953, 0.29876\n",
            "Epoch: 15 itr: 12/16, DLoss: 0.48661, GLoss: 1.21568, 0.87474, 0.29725, 0.29651\n",
            "Epoch: 15 itr: 15/16, DLoss: 0.48493, GLoss: 1.2233, 0.87341, 0.295, 0.29426\n",
            "Epoch: 16 itr: 0/16, DLoss: 0.48272, GLoss: 1.22578, 0.87442, 0.29426, 0.29353\n",
            "Epoch: 16 itr: 3/16, DLoss: 0.47451, GLoss: 1.23344, 0.87891, 0.29206, 0.29129\n",
            "Epoch: 16 itr: 6/16, DLoss: 0.47693, GLoss: 1.24136, 0.87395, 0.28975, 0.28899\n",
            "Epoch: 16 itr: 9/16, DLoss: 0.53105, GLoss: 1.24958, 0.88081, 0.33215, 0.28662\n",
            "Epoch: 16 itr: 12/16, DLoss: 0.56079, GLoss: 1.25724, 0.79916, 0.28509, 0.28444\n",
            "Epoch: 16 itr: 15/16, DLoss: 0.5119, GLoss: 1.26391, 0.83644, 0.28318, 0.28255\n",
            "Epoch: 17 itr: 0/16, DLoss: 0.51716, GLoss: 1.26608, 0.83148, 0.28255, 0.28194\n",
            "Epoch: 17 itr: 3/16, DLoss: 0.49098, GLoss: 1.27279, 0.85107, 0.28068, 0.28005\n",
            "Epoch: 17 itr: 6/16, DLoss: 0.48019, GLoss: 1.27971, 0.85798, 0.27877, 0.27812\n",
            "Epoch: 17 itr: 9/16, DLoss: 0.46897, GLoss: 1.28678, 0.86525, 0.27681, 0.27616\n",
            "Epoch: 17 itr: 12/16, DLoss: 0.46496, GLoss: 1.29414, 0.86629, 0.27481, 0.27413\n",
            "Epoch: 17 itr: 15/16, DLoss: 0.4675, GLoss: 1.3017, 0.86188, 0.27275, 0.27207\n",
            "Epoch: 18 itr: 0/16, DLoss: 0.45142, GLoss: 1.30429, 0.8748, 0.27207, 0.27137\n",
            "Epoch: 18 itr: 3/16, DLoss: 0.44364, GLoss: 1.31236, 0.87907, 0.26993, 0.26918\n",
            "Epoch: 18 itr: 6/16, DLoss: 0.43743, GLoss: 1.32066, 0.8818, 0.2677, 0.26696\n",
            "Epoch: 18 itr: 9/16, DLoss: 0.43313, GLoss: 1.32906, 0.88297, 0.26548, 0.26473\n",
            "Epoch: 18 itr: 12/16, DLoss: 0.4316, GLoss: 1.33752, 0.88173, 0.26324, 0.2625\n",
            "Epoch: 18 itr: 15/16, DLoss: 0.42618, GLoss: 1.346, 0.88374, 0.26102, 0.26028\n",
            "Epoch: 19 itr: 0/16, DLoss: 0.4245, GLoss: 1.34887, 0.88432, 0.26028, 0.25953\n",
            "Epoch: 19 itr: 3/16, DLoss: 0.41766, GLoss: 1.35788, 0.88766, 0.25799, 0.25721\n",
            "Epoch: 19 itr: 6/16, DLoss: 0.41441, GLoss: 1.36699, 0.88773, 0.25564, 0.25487\n",
            "Epoch: 19 itr: 9/16, DLoss: 0.41528, GLoss: 1.37612, 0.88427, 0.25332, 0.25256\n",
            "Epoch: 19 itr: 12/16, DLoss: 0.40649, GLoss: 1.38523, 0.8893, 0.25103, 0.25027\n",
            "Epoch: 19 itr: 15/16, DLoss: 0.40652, GLoss: 1.39445, 0.88661, 0.24873, 0.24797\n"
          ]
        }
      ]
    },
    {
      "cell_type": "markdown",
      "source": [
        "##### Metal"
      ],
      "metadata": {
        "id": "2Cr-VgYir4HE"
      }
    },
    {
      "cell_type": "code",
      "source": [
        "with open(path + 'pickle/metal.pickle', 'rb') as handle:\n",
        "    metal_data = pickle.load(handle)"
      ],
      "metadata": {
        "id": "f8IxYuYZr4HF"
      },
      "execution_count": null,
      "outputs": []
    },
    {
      "cell_type": "code",
      "source": [
        "metal_data.shape"
      ],
      "metadata": {
        "colab": {
          "base_uri": "https://localhost:8080/"
        },
        "outputId": "393f481a-96bd-405a-9b9d-faeccec797d8",
        "id": "fFPd57xQr4HG"
      },
      "execution_count": null,
      "outputs": [
        {
          "output_type": "execute_result",
          "data": {
            "text/plain": [
              "(410, 384, 512, 3)"
            ]
          },
          "metadata": {},
          "execution_count": 7
        }
      ]
    },
    {
      "cell_type": "code",
      "source": [
        "dataset = CustomDataset(metal_data, transform=data_transform)\n",
        "dataloader = DataLoader(dataset, batch_size=32, shuffle=True)"
      ],
      "metadata": {
        "id": "J-NEWYnzr4HH"
      },
      "execution_count": null,
      "outputs": []
    },
    {
      "cell_type": "code",
      "source": [
        "noise_channels = 100\n",
        "\n",
        "generator = Generator().to(device)\n",
        "discriminator = Discriminator().to(device)"
      ],
      "metadata": {
        "id": "f_PI9hpmr4HI"
      },
      "execution_count": null,
      "outputs": []
    },
    {
      "cell_type": "code",
      "source": [
        "lr = 0.0002\n",
        "beta1 = 0.5\n",
        "epochs = 20\n",
        "\n",
        "optimizerG = optim.Adam(generator.parameters(), lr = lr, betas=(beta1, 0.999))\n",
        "optimizerD = optim.Adam(discriminator.parameters(), lr = lr, betas=(beta1, 0.999))\n",
        "\n",
        "criterion = nn.BCELoss()\n",
        "\n",
        "fixed_noise = torch.randn(64, noise_channels, 1, 1, device=device)\n",
        "\n",
        "G_loss, D_loss, img_list = trainGAN(dataloader, generator, discriminator, optimizerG, optimizerD, criterion, epochs, fixed_noise)\n",
        "\n",
        "\n",
        "np.save(path + 'pickle/DCGAN/metal/img_list_35', img_list[-1])\n",
        "# with open(path + 'pickle/DCGAN/metal/generator.pickle', 'wb') as handle:\n",
        "#     pickle.dump(generator, handle)\n",
        "# with open(path + 'pickle/DCGAN/metal/discriminator.pickle', 'wb') as handle:\n",
        "#     pickle.dump(discriminator, handle)\n",
        "# with open(path + 'pickle/DCGAN/metal/img_list_35.pickle', 'wb') as handle:\n",
        "#     pickle.dump(img_list, handle)\n",
        "# with open(path + 'pickle/DCGAN/metal/G_loss_35.pickle', 'wb') as handle:\n",
        "#     pickle.dump(G_loss, handle)\n",
        "# with open(path + 'pickle/DCGAN/metal/D_loss_35.pickle', 'wb') as handle:\n",
        "#     pickle.dump(D_loss, handle)"
      ],
      "metadata": {
        "colab": {
          "base_uri": "https://localhost:8080/"
        },
        "outputId": "57c06da2-1a53-4180-d08e-408ebdbd78c8",
        "id": "bDSmmA0Qr4HJ"
      },
      "execution_count": null,
      "outputs": [
        {
          "output_type": "stream",
          "name": "stdout",
          "text": [
            "Epoch: 0 itr: 0/13, DLoss: 1.45667, GLoss: 1.44567, 0.38013, 0.38569, 0.23588\n",
            "Epoch: 0 itr: 2/13, DLoss: 1.27466, GLoss: 1.07764, 0.50517, 0.44223, 0.34085\n",
            "Epoch: 0 itr: 4/13, DLoss: 1.14272, GLoss: 0.96885, 0.55245, 0.41865, 0.37963\n",
            "Epoch: 0 itr: 6/13, DLoss: 1.09182, GLoss: 0.93791, 0.57629, 0.4149, 0.39153\n",
            "Epoch: 0 itr: 8/13, DLoss: 1.06283, GLoss: 0.9236, 0.58326, 0.4049, 0.39709\n",
            "Epoch: 0 itr: 10/13, DLoss: 0.98997, GLoss: 0.91637, 0.62446, 0.40414, 0.39997\n",
            "Epoch: 0 itr: 12/13, DLoss: 0.95336, GLoss: 0.91585, 0.64852, 0.40543, 0.40018\n",
            "Epoch: 1 itr: 0/13, DLoss: 0.93461, GLoss: 0.9159, 0.66105, 0.40559, 0.40016\n",
            "Epoch: 1 itr: 2/13, DLoss: 0.92247, GLoss: 0.91617, 0.66694, 0.40386, 0.40005\n",
            "Epoch: 1 itr: 4/13, DLoss: 0.91329, GLoss: 0.9169, 0.67253, 0.40342, 0.39976\n",
            "Epoch: 1 itr: 6/13, DLoss: 0.90604, GLoss: 0.91894, 0.67605, 0.4022, 0.39894\n",
            "Epoch: 1 itr: 8/13, DLoss: 0.90054, GLoss: 0.91869, 0.67818, 0.40076, 0.39904\n",
            "Epoch: 1 itr: 10/13, DLoss: 0.89724, GLoss: 0.91854, 0.68121, 0.40147, 0.3991\n",
            "Epoch: 1 itr: 12/13, DLoss: 0.89685, GLoss: 0.91996, 0.68254, 0.40243, 0.39853\n",
            "Epoch: 2 itr: 0/13, DLoss: 0.88957, GLoss: 0.92063, 0.68649, 0.40154, 0.39827\n",
            "Epoch: 2 itr: 2/13, DLoss: 0.88313, GLoss: 0.92159, 0.6888, 0.39969, 0.39789\n",
            "Epoch: 2 itr: 4/13, DLoss: 0.87926, GLoss: 0.92077, 0.69141, 0.39964, 0.39821\n",
            "Epoch: 2 itr: 6/13, DLoss: 0.88019, GLoss: 0.92233, 0.69234, 0.401, 0.39759\n",
            "Epoch: 2 itr: 8/13, DLoss: 0.87325, GLoss: 0.92315, 0.69403, 0.3983, 0.39727\n",
            "Epoch: 2 itr: 10/13, DLoss: 0.869, GLoss: 0.92322, 0.69631, 0.39773, 0.39724\n",
            "Epoch: 2 itr: 12/13, DLoss: 0.86876, GLoss: 0.92301, 0.69676, 0.39796, 0.39732\n",
            "Epoch: 3 itr: 0/13, DLoss: 0.86397, GLoss: 0.92306, 0.70038, 0.39818, 0.3973\n",
            "Epoch: 3 itr: 2/13, DLoss: 0.86414, GLoss: 0.92352, 0.70129, 0.39908, 0.39712\n",
            "Epoch: 3 itr: 4/13, DLoss: 0.86018, GLoss: 0.92424, 0.70355, 0.39861, 0.39683\n",
            "Epoch: 3 itr: 6/13, DLoss: 0.85631, GLoss: 0.92485, 0.70526, 0.39774, 0.39659\n",
            "Epoch: 3 itr: 8/13, DLoss: 0.85749, GLoss: 0.92611, 0.70506, 0.3983, 0.39609\n",
            "Epoch: 3 itr: 10/13, DLoss: 0.85276, GLoss: 0.92646, 0.70617, 0.39639, 0.39595\n",
            "Epoch: 3 itr: 12/13, DLoss: 0.85162, GLoss: 0.9265, 0.70692, 0.39636, 0.39594\n",
            "Epoch: 4 itr: 0/13, DLoss: 0.84769, GLoss: 0.92649, 0.70979, 0.39642, 0.39594\n",
            "Epoch: 4 itr: 2/13, DLoss: 0.84537, GLoss: 0.92702, 0.71231, 0.39713, 0.39573\n",
            "Epoch: 4 itr: 4/13, DLoss: 0.84231, GLoss: 0.92766, 0.71373, 0.3965, 0.39548\n",
            "Epoch: 4 itr: 6/13, DLoss: 0.84155, GLoss: 0.92838, 0.71338, 0.39577, 0.39519\n",
            "Epoch: 4 itr: 8/13, DLoss: 0.83703, GLoss: 0.929, 0.71806, 0.39693, 0.39495\n",
            "Epoch: 4 itr: 10/13, DLoss: 0.83167, GLoss: 0.93004, 0.71995, 0.39529, 0.39454\n",
            "Epoch: 4 itr: 12/13, DLoss: 0.83212, GLoss: 0.93045, 0.71893, 0.39474, 0.39438\n",
            "Epoch: 5 itr: 0/13, DLoss: 0.82493, GLoss: 0.93066, 0.72402, 0.39458, 0.39429\n",
            "Epoch: 5 itr: 2/13, DLoss: 0.82658, GLoss: 0.93104, 0.72257, 0.39441, 0.39414\n",
            "Epoch: 5 itr: 4/13, DLoss: 0.82773, GLoss: 0.93139, 0.72168, 0.39441, 0.394\n",
            "Epoch: 5 itr: 6/13, DLoss: 0.82245, GLoss: 0.93176, 0.72557, 0.39442, 0.39386\n",
            "Epoch: 5 itr: 8/13, DLoss: 0.81888, GLoss: 0.93229, 0.72798, 0.39426, 0.39365\n",
            "Epoch: 5 itr: 10/13, DLoss: 0.81432, GLoss: 0.93286, 0.73115, 0.39411, 0.39343\n",
            "Epoch: 5 itr: 12/13, DLoss: 0.81504, GLoss: 0.93351, 0.73088, 0.39431, 0.39317\n",
            "Epoch: 6 itr: 0/13, DLoss: 0.81548, GLoss: 0.934, 0.73012, 0.39396, 0.39298\n",
            "Epoch: 6 itr: 2/13, DLoss: 0.81091, GLoss: 0.9344, 0.73281, 0.39338, 0.39282\n",
            "Epoch: 6 itr: 4/13, DLoss: 0.80909, GLoss: 0.93494, 0.73387, 0.39322, 0.39261\n",
            "Epoch: 6 itr: 6/13, DLoss: 0.80099, GLoss: 0.93573, 0.74002, 0.39329, 0.3923\n",
            "Epoch: 6 itr: 8/13, DLoss: 0.79934, GLoss: 0.9365, 0.74051, 0.39267, 0.392\n",
            "Epoch: 6 itr: 10/13, DLoss: 0.80191, GLoss: 0.93692, 0.73774, 0.39204, 0.39183\n",
            "Epoch: 6 itr: 12/13, DLoss: 0.80179, GLoss: 0.9374, 0.73778, 0.39202, 0.39164\n",
            "Epoch: 7 itr: 0/13, DLoss: 0.79259, GLoss: 0.93769, 0.74452, 0.39187, 0.39153\n",
            "Epoch: 7 itr: 2/13, DLoss: 0.79549, GLoss: 0.93797, 0.74225, 0.39184, 0.39142\n",
            "Epoch: 7 itr: 4/13, DLoss: 0.78669, GLoss: 0.93886, 0.74953, 0.39228, 0.39107\n",
            "Epoch: 7 itr: 6/13, DLoss: 0.78617, GLoss: 0.93947, 0.74862, 0.39131, 0.39083\n",
            "Epoch: 7 itr: 8/13, DLoss: 0.78395, GLoss: 0.94026, 0.74966, 0.39078, 0.39053\n",
            "Epoch: 7 itr: 10/13, DLoss: 0.78933, GLoss: 0.94056, 0.74557, 0.39086, 0.39041\n",
            "Epoch: 7 itr: 12/13, DLoss: 0.78086, GLoss: 0.94136, 0.75321, 0.39178, 0.3901\n",
            "Epoch: 8 itr: 0/13, DLoss: 0.77475, GLoss: 0.94188, 0.75667, 0.39082, 0.38989\n",
            "Epoch: 8 itr: 2/13, DLoss: 0.77814, GLoss: 0.94247, 0.75306, 0.39004, 0.38966\n",
            "Epoch: 8 itr: 4/13, DLoss: 0.77147, GLoss: 0.94299, 0.75787, 0.38981, 0.38946\n",
            "Epoch: 8 itr: 6/13, DLoss: 0.77308, GLoss: 0.94347, 0.75633, 0.38961, 0.38927\n",
            "Epoch: 8 itr: 8/13, DLoss: 0.76786, GLoss: 0.94401, 0.76065, 0.38983, 0.38906\n",
            "Epoch: 8 itr: 10/13, DLoss: 0.7654, GLoss: 0.94481, 0.76203, 0.38939, 0.38875\n",
            "Epoch: 8 itr: 12/13, DLoss: 0.76483, GLoss: 0.94553, 0.7617, 0.38885, 0.38847\n",
            "Epoch: 9 itr: 0/13, DLoss: 0.76237, GLoss: 0.94575, 0.76351, 0.38875, 0.38839\n",
            "Epoch: 9 itr: 2/13, DLoss: 0.76371, GLoss: 0.94626, 0.76211, 0.38848, 0.38819\n",
            "Epoch: 9 itr: 4/13, DLoss: 0.7667, GLoss: 0.94659, 0.75981, 0.3885, 0.38806\n",
            "Epoch: 9 itr: 6/13, DLoss: 0.75, GLoss: 0.9477, 0.77268, 0.38844, 0.38763\n",
            "Epoch: 9 itr: 8/13, DLoss: 0.75047, GLoss: 0.94836, 0.77128, 0.38766, 0.38738\n",
            "Epoch: 9 itr: 10/13, DLoss: 0.75552, GLoss: 0.94878, 0.767, 0.38739, 0.38721\n",
            "Epoch: 9 itr: 12/13, DLoss: 0.74777, GLoss: 0.94932, 0.77288, 0.38729, 0.387\n",
            "Epoch: 10 itr: 0/13, DLoss: 0.73831, GLoss: 0.94952, 0.78028, 0.38727, 0.38693\n",
            "Epoch: 10 itr: 2/13, DLoss: 0.73845, GLoss: 0.94996, 0.78016, 0.38728, 0.38676\n",
            "Epoch: 10 itr: 4/13, DLoss: 0.73648, GLoss: 0.95019, 0.78134, 0.38703, 0.38667\n",
            "Epoch: 10 itr: 6/13, DLoss: 0.74825, GLoss: 1.21821, 0.77968, 0.39291, 0.29576\n",
            "Epoch: 10 itr: 8/13, DLoss: 0.90383, GLoss: 1.30035, 0.77634, 0.47815, 0.27249\n",
            "Epoch: 10 itr: 10/13, DLoss: 0.73978, GLoss: 1.13589, 0.76648, 0.37701, 0.32126\n",
            "Epoch: 10 itr: 12/13, DLoss: 0.85599, GLoss: 0.80359, 0.77128, 0.44913, 0.44772\n",
            "Epoch: 11 itr: 0/13, DLoss: 0.86698, GLoss: 0.80711, 0.76149, 0.448, 0.44614\n",
            "Epoch: 11 itr: 2/13, DLoss: 0.85076, GLoss: 0.81349, 0.76913, 0.44471, 0.44331\n",
            "Epoch: 11 itr: 4/13, DLoss: 0.84254, GLoss: 0.81905, 0.77186, 0.4421, 0.44085\n",
            "Epoch: 11 itr: 6/13, DLoss: 0.83756, GLoss: 0.82403, 0.77257, 0.43984, 0.43866\n",
            "Epoch: 11 itr: 8/13, DLoss: 0.83207, GLoss: 0.82872, 0.77396, 0.43776, 0.43661\n",
            "Epoch: 11 itr: 10/13, DLoss: 0.8251, GLoss: 0.8331, 0.77674, 0.43583, 0.4347\n",
            "Epoch: 11 itr: 12/13, DLoss: 0.81183, GLoss: 0.83739, 0.78461, 0.43399, 0.43284\n",
            "Epoch: 12 itr: 0/13, DLoss: 0.81463, GLoss: 0.83968, 0.78127, 0.4331, 0.43185\n",
            "Epoch: 12 itr: 2/13, DLoss: 0.81391, GLoss: 0.84415, 0.77928, 0.43134, 0.42992\n",
            "Epoch: 12 itr: 4/13, DLoss: 0.79756, GLoss: 0.84886, 0.78999, 0.42966, 0.4279\n",
            "Epoch: 12 itr: 6/13, DLoss: 0.79744, GLoss: 0.85411, 0.78776, 0.42799, 0.42566\n",
            "Epoch: 12 itr: 8/13, DLoss: 0.79058, GLoss: 0.85748, 0.79116, 0.4265, 0.42423\n",
            "Epoch: 12 itr: 10/13, DLoss: 0.79119, GLoss: 0.85973, 0.78878, 0.42517, 0.42328\n",
            "Epoch: 12 itr: 12/13, DLoss: 0.79627, GLoss: 0.8601, 0.78336, 0.42411, 0.42312\n",
            "Epoch: 13 itr: 0/13, DLoss: 0.77872, GLoss: 0.86128, 0.79641, 0.42348, 0.42262\n",
            "Epoch: 13 itr: 2/13, DLoss: 0.77995, GLoss: 0.8645, 0.79349, 0.42209, 0.42126\n",
            "Epoch: 13 itr: 4/13, DLoss: 0.7685, GLoss: 0.86788, 0.80065, 0.42067, 0.41984\n",
            "Epoch: 13 itr: 6/13, DLoss: 0.76416, GLoss: 0.87101, 0.80227, 0.41934, 0.41853\n",
            "Epoch: 13 itr: 8/13, DLoss: 0.76754, GLoss: 0.87433, 0.79776, 0.41798, 0.41714\n",
            "Epoch: 13 itr: 10/13, DLoss: 0.76253, GLoss: 0.8779, 0.7999, 0.41664, 0.41565\n",
            "Epoch: 13 itr: 12/13, DLoss: 0.76746, GLoss: 0.8815, 0.79411, 0.41532, 0.41416\n",
            "Epoch: 14 itr: 0/13, DLoss: 0.74814, GLoss: 0.88327, 0.80871, 0.41465, 0.41343\n",
            "Epoch: 14 itr: 2/13, DLoss: 0.75599, GLoss: 0.88759, 0.80061, 0.41332, 0.41165\n",
            "Epoch: 14 itr: 4/13, DLoss: 0.60517, GLoss: 1.24566, 0.80814, 0.32419, 0.28776\n",
            "Epoch: 14 itr: 6/13, DLoss: 0.52056, GLoss: 1.47439, 0.79816, 0.25517, 0.22892\n",
            "Epoch: 14 itr: 8/13, DLoss: 0.48444, GLoss: 1.48683, 0.79928, 0.22904, 0.22609\n",
            "Epoch: 14 itr: 10/13, DLoss: 0.4713, GLoss: 1.50478, 0.80513, 0.22452, 0.22207\n",
            "Epoch: 14 itr: 12/13, DLoss: 0.47311, GLoss: 1.52254, 0.79928, 0.22029, 0.21816\n",
            "Epoch: 15 itr: 0/13, DLoss: 0.45361, GLoss: 1.5313, 0.81296, 0.21832, 0.21625\n",
            "Epoch: 15 itr: 2/13, DLoss: 0.45808, GLoss: 1.54812, 0.80551, 0.21454, 0.21265\n",
            "Epoch: 15 itr: 4/13, DLoss: 0.44803, GLoss: 1.56448, 0.80999, 0.211, 0.2092\n",
            "Epoch: 15 itr: 6/13, DLoss: 0.44266, GLoss: 1.58045, 0.81086, 0.2076, 0.20588\n",
            "Epoch: 15 itr: 8/13, DLoss: 0.43761, GLoss: 1.59603, 0.8116, 0.20435, 0.2027\n",
            "Epoch: 15 itr: 10/13, DLoss: 0.43537, GLoss: 1.61117, 0.81031, 0.20123, 0.19965\n",
            "Epoch: 15 itr: 12/13, DLoss: 0.43406, GLoss: 1.62603, 0.80829, 0.19822, 0.19671\n",
            "Epoch: 16 itr: 0/13, DLoss: 0.42012, GLoss: 1.63338, 0.81812, 0.19677, 0.19527\n",
            "Epoch: 16 itr: 2/13, DLoss: 0.4166, GLoss: 1.64798, 0.81813, 0.1939, 0.19244\n",
            "Epoch: 16 itr: 4/13, DLoss: 0.40486, GLoss: 1.66245, 0.82485, 0.1911, 0.18967\n",
            "Epoch: 16 itr: 6/13, DLoss: 0.4025, GLoss: 1.67675, 0.82403, 0.18837, 0.18698\n",
            "Epoch: 16 itr: 8/13, DLoss: 0.41084, GLoss: 1.69086, 0.81466, 0.18572, 0.18436\n",
            "Epoch: 16 itr: 10/13, DLoss: 0.39972, GLoss: 1.70479, 0.82108, 0.18314, 0.18181\n",
            "Epoch: 16 itr: 12/13, DLoss: 0.39403, GLoss: 1.71871, 0.82323, 0.18062, 0.1793\n",
            "Epoch: 17 itr: 0/13, DLoss: 0.38554, GLoss: 1.7257, 0.82892, 0.17937, 0.17805\n",
            "Epoch: 17 itr: 2/13, DLoss: 0.38482, GLoss: 1.7396, 0.82705, 0.1769, 0.17559\n",
            "Epoch: 17 itr: 4/13, DLoss: 0.37644, GLoss: 1.75342, 0.83154, 0.17447, 0.17318\n",
            "Epoch: 17 itr: 6/13, DLoss: 0.3725, GLoss: 1.76718, 0.83244, 0.17211, 0.17081\n",
            "Epoch: 17 itr: 8/13, DLoss: 0.36586, GLoss: 1.78098, 0.83556, 0.16977, 0.16847\n",
            "Epoch: 17 itr: 10/13, DLoss: 0.36944, GLoss: 1.79475, 0.83034, 0.16748, 0.16617\n",
            "Epoch: 17 itr: 12/13, DLoss: 0.36755, GLoss: 1.80847, 0.82975, 0.16524, 0.1639\n",
            "Epoch: 18 itr: 0/13, DLoss: 0.35538, GLoss: 1.81544, 0.83866, 0.16413, 0.16277\n",
            "Epoch: 18 itr: 2/13, DLoss: 0.36207, GLoss: 1.82934, 0.83091, 0.16187, 0.16052\n",
            "Epoch: 18 itr: 4/13, DLoss: 0.34672, GLoss: 1.8433, 0.8414, 0.15963, 0.15829\n",
            "Epoch: 18 itr: 6/13, DLoss: 0.34239, GLoss: 1.85734, 0.84284, 0.15745, 0.15609\n",
            "Epoch: 18 itr: 8/13, DLoss: 0.34767, GLoss: 1.87144, 0.8364, 0.15526, 0.1539\n",
            "Epoch: 18 itr: 10/13, DLoss: 0.33849, GLoss: 1.8855, 0.84179, 0.15305, 0.15175\n",
            "Epoch: 18 itr: 12/13, DLoss: 0.33727, GLoss: 1.89956, 0.84079, 0.15095, 0.14964\n",
            "Epoch: 19 itr: 0/13, DLoss: 0.33144, GLoss: 1.90668, 0.84459, 0.1499, 0.14857\n",
            "Epoch: 19 itr: 2/13, DLoss: 0.33477, GLoss: 1.9209, 0.83977, 0.14773, 0.14647\n",
            "Epoch: 19 itr: 4/13, DLoss: 0.32714, GLoss: 1.93509, 0.84401, 0.14562, 0.14441\n",
            "Epoch: 19 itr: 6/13, DLoss: 0.32257, GLoss: 1.94934, 0.84582, 0.14355, 0.14237\n",
            "Epoch: 19 itr: 8/13, DLoss: 0.3155, GLoss: 1.9637, 0.84977, 0.14156, 0.14034\n",
            "Epoch: 19 itr: 10/13, DLoss: 0.3152, GLoss: 1.97812, 0.8481, 0.13954, 0.13833\n",
            "Epoch: 19 itr: 12/13, DLoss: 0.31213, GLoss: 1.99265, 0.84919, 0.13801, 0.13633\n"
          ]
        }
      ]
    },
    {
      "cell_type": "markdown",
      "source": [
        "##### Paper"
      ],
      "metadata": {
        "id": "YVXu-ijztB_l"
      }
    },
    {
      "cell_type": "code",
      "source": [
        "with open(path + 'pickle/paper.pickle', 'rb') as handle:\n",
        "    paper_data = pickle.load(handle)"
      ],
      "metadata": {
        "id": "IP4PEchmtB_m"
      },
      "execution_count": null,
      "outputs": []
    },
    {
      "cell_type": "code",
      "source": [
        "paper_data.shape"
      ],
      "metadata": {
        "colab": {
          "base_uri": "https://localhost:8080/"
        },
        "outputId": "36340705-d85b-4e1a-afdb-18dec7f043e2",
        "id": "st8i2QwjtB_n"
      },
      "execution_count": null,
      "outputs": [
        {
          "output_type": "execute_result",
          "data": {
            "text/plain": [
              "(594, 384, 512, 3)"
            ]
          },
          "metadata": {},
          "execution_count": 7
        }
      ]
    },
    {
      "cell_type": "code",
      "source": [
        "dataset = CustomDataset(paper_data, transform=data_transform)\n",
        "dataloader = DataLoader(dataset, batch_size=32, shuffle=True)"
      ],
      "metadata": {
        "id": "lXhI_ClOtB_o"
      },
      "execution_count": null,
      "outputs": []
    },
    {
      "cell_type": "code",
      "source": [
        "noise_channels = 100\n",
        "\n",
        "generator = Generator().to(device)\n",
        "discriminator = Discriminator().to(device)"
      ],
      "metadata": {
        "id": "b7IhQP14tB_p"
      },
      "execution_count": null,
      "outputs": []
    },
    {
      "cell_type": "code",
      "source": [
        "lr = 0.0002\n",
        "beta1 = 0.5\n",
        "epochs = 35\n",
        "\n",
        "optimizerG = optim.Adam(generator.parameters(), lr = lr, betas=(beta1, 0.999))\n",
        "optimizerD = optim.Adam(discriminator.parameters(), lr = lr, betas=(beta1, 0.999))\n",
        "\n",
        "criterion = nn.BCELoss()\n",
        "\n",
        "fixed_noise = torch.randn(64, noise_channels, 1, 1, device=device)\n",
        "\n",
        "G_loss, D_loss, img_list = trainGAN(dataloader, generator, discriminator, optimizerG, optimizerD, criterion, epochs, fixed_noise)\n",
        "\n",
        "\n",
        "with open(path + 'pickle/DCGAN/paper/generator.pickle', 'wb') as handle:\n",
        "    pickle.dump(generator, handle)\n",
        "with open(path + 'pickle/DCGAN/paper/discriminator.pickle', 'wb') as handle:\n",
        "    pickle.dump(discriminator, handle)\n",
        "with open(path + 'pickle/DCGAN/paper/img_list_35.pickle', 'wb') as handle:\n",
        "    pickle.dump(img_list, handle)\n",
        "with open(path + 'pickle/DCGAN/paper/G_loss_35.pickle', 'wb') as handle:\n",
        "    pickle.dump(G_loss, handle)\n",
        "with open(path + 'pickle/DCGAN/paper/D_loss_35.pickle', 'wb') as handle:\n",
        "    pickle.dump(D_loss, handle)"
      ],
      "metadata": {
        "colab": {
          "base_uri": "https://localhost:8080/",
          "height": 633
        },
        "outputId": "0dff1e99-b88d-40ec-fb73-09dfa3652b77",
        "id": "wKy4xwtxtB_q"
      },
      "execution_count": null,
      "outputs": [
        {
          "output_type": "stream",
          "name": "stdout",
          "text": [
            "Epoch: 0 itr: 0/19, DLoss: 1.49748, GLoss: 0.98333, 0.65803, 0.65886, 0.37434\n",
            "Epoch: 0 itr: 3/19, DLoss: 0.9349, GLoss: 0.80509, 0.79475, 0.50146, 0.44712\n",
            "Epoch: 0 itr: 6/19, DLoss: 0.78434, GLoss: 0.79244, 0.89475, 0.48777, 0.45277\n"
          ]
        },
        {
          "output_type": "error",
          "ename": "RuntimeError",
          "evalue": "ignored",
          "traceback": [
            "\u001b[0;31m---------------------------------------------------------------------------\u001b[0m",
            "\u001b[0;31mRuntimeError\u001b[0m                              Traceback (most recent call last)",
            "\u001b[0;32m<ipython-input-12-69823700d383>\u001b[0m in \u001b[0;36m<cell line: 18>\u001b[0;34m()\u001b[0m\n\u001b[1;32m     16\u001b[0m \u001b[0;34m\u001b[0m\u001b[0m\n\u001b[1;32m     17\u001b[0m \u001b[0;31m# Train the GAN\u001b[0m\u001b[0;34m\u001b[0m\u001b[0;34m\u001b[0m\u001b[0m\n\u001b[0;32m---> 18\u001b[0;31m \u001b[0mG_loss\u001b[0m\u001b[0;34m,\u001b[0m \u001b[0mD_loss\u001b[0m\u001b[0;34m,\u001b[0m \u001b[0mimg_list\u001b[0m \u001b[0;34m=\u001b[0m \u001b[0mtrainGAN\u001b[0m\u001b[0;34m(\u001b[0m\u001b[0mdataloader\u001b[0m\u001b[0;34m,\u001b[0m \u001b[0mgenerator\u001b[0m\u001b[0;34m,\u001b[0m \u001b[0mdiscriminator\u001b[0m\u001b[0;34m,\u001b[0m \u001b[0moptimizerG\u001b[0m\u001b[0;34m,\u001b[0m \u001b[0moptimizerD\u001b[0m\u001b[0;34m,\u001b[0m \u001b[0mcriterion\u001b[0m\u001b[0;34m,\u001b[0m \u001b[0mepochs\u001b[0m\u001b[0;34m,\u001b[0m \u001b[0mfixed_noise\u001b[0m\u001b[0;34m)\u001b[0m\u001b[0;34m\u001b[0m\u001b[0;34m\u001b[0m\u001b[0m\n\u001b[0m\u001b[1;32m     19\u001b[0m \u001b[0;34m\u001b[0m\u001b[0m\n\u001b[1;32m     20\u001b[0m \u001b[0;34m\u001b[0m\u001b[0m\n",
            "\u001b[0;32m<ipython-input-10-a3984998b3b4>\u001b[0m in \u001b[0;36mtrainGAN\u001b[0;34m(dataloader, generator, discriminator, optimG, optimD, criterion, epochs, fixed_noise)\u001b[0m\n\u001b[1;32m     22\u001b[0m               \u001b[0moutputD_Real\u001b[0m \u001b[0;34m/=\u001b[0m \u001b[0moutputD_Real\u001b[0m\u001b[0;34m.\u001b[0m\u001b[0mmax\u001b[0m\u001b[0;34m(\u001b[0m\u001b[0;34m)\u001b[0m\u001b[0;34m\u001b[0m\u001b[0;34m\u001b[0m\u001b[0m\n\u001b[1;32m     23\u001b[0m             \u001b[0mlossD_Real\u001b[0m \u001b[0;34m=\u001b[0m \u001b[0mcriterion\u001b[0m\u001b[0;34m(\u001b[0m\u001b[0moutputD_Real\u001b[0m\u001b[0;34m,\u001b[0m \u001b[0mreal_labels\u001b[0m\u001b[0;34m)\u001b[0m\u001b[0;34m\u001b[0m\u001b[0;34m\u001b[0m\u001b[0m\n\u001b[0;32m---> 24\u001b[0;31m             \u001b[0mlossD_Real\u001b[0m\u001b[0;34m.\u001b[0m\u001b[0mbackward\u001b[0m\u001b[0;34m(\u001b[0m\u001b[0;34m)\u001b[0m\u001b[0;34m\u001b[0m\u001b[0;34m\u001b[0m\u001b[0m\n\u001b[0m\u001b[1;32m     25\u001b[0m \u001b[0;34m\u001b[0m\u001b[0m\n\u001b[1;32m     26\u001b[0m             \u001b[0;31m# Step 2. Loss on generated image from discriminator\u001b[0m\u001b[0;34m\u001b[0m\u001b[0;34m\u001b[0m\u001b[0m\n",
            "\u001b[0;32m/usr/local/lib/python3.10/dist-packages/torch/_tensor.py\u001b[0m in \u001b[0;36mbackward\u001b[0;34m(self, gradient, retain_graph, create_graph, inputs)\u001b[0m\n\u001b[1;32m    485\u001b[0m                 \u001b[0minputs\u001b[0m\u001b[0;34m=\u001b[0m\u001b[0minputs\u001b[0m\u001b[0;34m,\u001b[0m\u001b[0;34m\u001b[0m\u001b[0;34m\u001b[0m\u001b[0m\n\u001b[1;32m    486\u001b[0m             )\n\u001b[0;32m--> 487\u001b[0;31m         torch.autograd.backward(\n\u001b[0m\u001b[1;32m    488\u001b[0m             \u001b[0mself\u001b[0m\u001b[0;34m,\u001b[0m \u001b[0mgradient\u001b[0m\u001b[0;34m,\u001b[0m \u001b[0mretain_graph\u001b[0m\u001b[0;34m,\u001b[0m \u001b[0mcreate_graph\u001b[0m\u001b[0;34m,\u001b[0m \u001b[0minputs\u001b[0m\u001b[0;34m=\u001b[0m\u001b[0minputs\u001b[0m\u001b[0;34m\u001b[0m\u001b[0;34m\u001b[0m\u001b[0m\n\u001b[1;32m    489\u001b[0m         )\n",
            "\u001b[0;32m/usr/local/lib/python3.10/dist-packages/torch/autograd/__init__.py\u001b[0m in \u001b[0;36mbackward\u001b[0;34m(tensors, grad_tensors, retain_graph, create_graph, grad_variables, inputs)\u001b[0m\n\u001b[1;32m    198\u001b[0m     \u001b[0;31m# some Python versions print out the first line of a multi-line function\u001b[0m\u001b[0;34m\u001b[0m\u001b[0;34m\u001b[0m\u001b[0m\n\u001b[1;32m    199\u001b[0m     \u001b[0;31m# calls in the traceback and some print out the last line\u001b[0m\u001b[0;34m\u001b[0m\u001b[0;34m\u001b[0m\u001b[0m\n\u001b[0;32m--> 200\u001b[0;31m     Variable._execution_engine.run_backward(  # Calls into the C++ engine to run the backward pass\n\u001b[0m\u001b[1;32m    201\u001b[0m         \u001b[0mtensors\u001b[0m\u001b[0;34m,\u001b[0m \u001b[0mgrad_tensors_\u001b[0m\u001b[0;34m,\u001b[0m \u001b[0mretain_graph\u001b[0m\u001b[0;34m,\u001b[0m \u001b[0mcreate_graph\u001b[0m\u001b[0;34m,\u001b[0m \u001b[0minputs\u001b[0m\u001b[0;34m,\u001b[0m\u001b[0;34m\u001b[0m\u001b[0;34m\u001b[0m\u001b[0m\n\u001b[1;32m    202\u001b[0m         allow_unreachable=True, accumulate_grad=True)  # Calls into the C++ engine to run the backward pass\n",
            "\u001b[0;31mRuntimeError\u001b[0m: CUDA error: device-side assert triggered\nCUDA kernel errors might be asynchronously reported at some other API call, so the stacktrace below might be incorrect.\nFor debugging consider passing CUDA_LAUNCH_BLOCKING=1.\nCompile with `TORCH_USE_CUDA_DSA` to enable device-side assertions.\n"
          ]
        }
      ]
    },
    {
      "cell_type": "markdown",
      "source": [
        "#### Combine Data"
      ],
      "metadata": {
        "id": "QKpphs52ttrw"
      }
    },
    {
      "cell_type": "code",
      "source": [
        "with open(path + 'pickle/DCGAN/cardboard/img_list_35.pickle', 'rb') as handle:\n",
        "    cardboard_data = pickle.load(handle)\n",
        "glass_data = np.load(path + 'pickle/DCGAN/glass/img_list_35.npy')\n",
        "metal_data = np.load(path + 'pickle/DCGAN/metal/img_list_35.npy')\n",
        "with open(path + 'pickle/DCGAN/paper/img_list_30.pickle', 'rb') as handle:\n",
        "    paper_data = pickle.load(handle)\n",
        "with open(path + 'pickle/DCGAN/plastic/img_list_35.pickle', 'rb') as handle:\n",
        "    plastic_data = pickle.load(handle)\n",
        "trash_data = np.load(path + 'pickle/DCGAN/trash/img_list_35.npy')"
      ],
      "metadata": {
        "id": "0m0Vjufc4aLB"
      },
      "execution_count": null,
      "outputs": []
    },
    {
      "cell_type": "code",
      "source": [
        "l1 = torch.full((64, 1), 0., dtype = torch.float, device = device)\n",
        "l2 = torch.full((64, 1), 1., dtype = torch.float, device = device)\n",
        "l3 = torch.full((64, 1), 2., dtype = torch.float, device = device)\n",
        "l4 = torch.full((64, 1), 3., dtype = torch.float, device = device)\n",
        "l5 = torch.full((64, 1), 4., dtype = torch.float, device = device)\n",
        "l6 = torch.full((64, 1), 5., dtype = torch.float, device = device)"
      ],
      "metadata": {
        "id": "k76vuCPzvxvR"
      },
      "execution_count": null,
      "outputs": []
    },
    {
      "cell_type": "code",
      "source": [
        "DCGAN_labels = torch.cat((l1,l2,l3,l4,l5,l6), 0)\n",
        "DCGAN_data = torch.cat((cardboard_data[-1],torch.from_numpy(glass_data),torch.from_numpy(metal_data),paper_data[-1],plastic_data,torch.from_numpy(trash_data)), 0)"
      ],
      "metadata": {
        "id": "2p6uh_1QwWFq"
      },
      "execution_count": null,
      "outputs": []
    },
    {
      "cell_type": "code",
      "source": [
        "class DCGANDataset(Dataset):\n",
        "    def __init__(self, data, target, transform=None):\n",
        "        self.data = data.float()\n",
        "        self.target = target.float()\n",
        "        self.transform = transform\n",
        "\n",
        "    def __getitem__(self, index):\n",
        "        x = self.data[index]*2.5\n",
        "        y = self.target[index]\n",
        "\n",
        "        if self.transform:\n",
        "            x = self.transform(x)\n",
        "\n",
        "        return x, y\n",
        "\n",
        "    def __len__(self):\n",
        "        return len(self.data)\n",
        "\n",
        "DCGAN_train_dataset = DCGANDataset(DCGAN_data, DCGAN_labels)"
      ],
      "metadata": {
        "id": "S99Hko0M2CaP"
      },
      "execution_count": null,
      "outputs": []
    },
    {
      "cell_type": "code",
      "source": [
        "with open(path + 'pickle/DCGAN_train_dataset.pickle', 'wb') as handle:\n",
        "  pickle.dump(DCGAN_train_dataset, handle)"
      ],
      "metadata": {
        "id": "kzoOgDii-OPd"
      },
      "execution_count": null,
      "outputs": []
    },
    {
      "cell_type": "code",
      "source": [
        "with open(path + 'pickle/DCGAN_train_dataset.pickle', 'rb') as handle:\n",
        "    DCGAN_train_dataset = pickle.load(handle)"
      ],
      "metadata": {
        "id": "_z8PbSbR-eZr"
      },
      "execution_count": null,
      "outputs": []
    },
    {
      "cell_type": "code",
      "source": [
        "# Split 80% for training and 20% for testing\n",
        "train_size = int(0.8 * len(DCGAN_train_dataset))\n",
        "test_size = len(DCGAN_train_dataset) - train_size\n",
        "\n",
        "torch.manual_seed(0)\n",
        "train_data_DCGAN, _ = random_split(DCGAN_train_dataset, [train_size, test_size])\n",
        "\n",
        "# create DataLoader\n",
        "train_loader_DCGAN = DataLoader(train_data_DCGAN, batch_size=32, shuffle=True)"
      ],
      "metadata": {
        "id": "GjlNb1Hw5EC6"
      },
      "execution_count": null,
      "outputs": []
    },
    {
      "cell_type": "code",
      "source": [
        "with open(path + 'pickle/train_dataset.pickle', 'rb') as handle:\n",
        "    train_dataset_original = pickle.load(handle)"
      ],
      "metadata": {
        "id": "YoI7Gs2_5EC7"
      },
      "execution_count": null,
      "outputs": []
    },
    {
      "cell_type": "code",
      "source": [
        "# Split 80% for training and 20% for testing\n",
        "train_size = int(0.8 * len(train_dataset_original))\n",
        "test_size = len(train_dataset_original) - train_size\n",
        "\n",
        "torch.manual_seed(0)\n",
        "train_data_original, test_data_original = random_split(train_dataset_original, [train_size, test_size])\n",
        "\n",
        "# create DataLoader\n",
        "train_loader_original= DataLoader(train_data_original, batch_size=32, shuffle=True)\n",
        "test_loader_original= DataLoader(test_data_original, batch_size=32, shuffle=False)"
      ],
      "metadata": {
        "id": "swBKPw4U5EC7"
      },
      "execution_count": null,
      "outputs": []
    },
    {
      "cell_type": "code",
      "source": [
        "def itr_merge(*itrs):\n",
        "    for itr in itrs:\n",
        "        for v in itr:\n",
        "            yield v"
      ],
      "metadata": {
        "id": "amBrf9-25EC8"
      },
      "execution_count": null,
      "outputs": []
    },
    {
      "cell_type": "markdown",
      "metadata": {
        "id": "QFbXq-PEK0HM"
      },
      "source": [
        "#### ResNet"
      ]
    },
    {
      "cell_type": "markdown",
      "source": [
        "##### Training"
      ],
      "metadata": {
        "id": "lIKVceo87RSg"
      }
    },
    {
      "cell_type": "code",
      "execution_count": null,
      "metadata": {
        "id": "rwuekWni7Ji1",
        "colab": {
          "base_uri": "https://localhost:8080/"
        },
        "outputId": "fe0780fe-c1a3-4a06-d4e5-2d03547d95fe"
      },
      "outputs": [
        {
          "output_type": "stream",
          "name": "stderr",
          "text": [
            "/usr/local/lib/python3.10/dist-packages/torchvision/models/_utils.py:208: UserWarning: The parameter 'pretrained' is deprecated since 0.13 and may be removed in the future, please use 'weights' instead.\n",
            "  warnings.warn(\n",
            "/usr/local/lib/python3.10/dist-packages/torchvision/models/_utils.py:223: UserWarning: Arguments other than a weight enum or `None` for 'weights' are deprecated since 0.13 and may be removed in the future. The current behavior is equivalent to passing `weights=ResNet50_Weights.IMAGENET1K_V1`. You can also use `weights=ResNet50_Weights.DEFAULT` to get the most up-to-date weights.\n",
            "  warnings.warn(msg)\n"
          ]
        }
      ],
      "source": [
        "# Define model\n",
        "model = ResNetModel(num_classes=6).to(device)\n",
        "criterion = nn.CrossEntropyLoss()\n",
        "optimizer = torch.optim.Adam(model.parameters())"
      ]
    },
    {
      "cell_type": "code",
      "execution_count": null,
      "metadata": {
        "id": "ZqgcWWES7Ji2",
        "colab": {
          "base_uri": "https://localhost:8080/"
        },
        "outputId": "a052a7e1-5de3-4625-8d9a-a88d021f3ddb"
      },
      "outputs": [
        {
          "output_type": "stream",
          "name": "stdout",
          "text": [
            "Epoch [1/20], Loss: 1.2235\n",
            "Epoch [2/20], Loss: 1.3542\n",
            "Epoch [3/20], Loss: 1.2668\n",
            "Epoch [4/20], Loss: 1.0980\n",
            "Epoch [5/20], Loss: 0.6985\n",
            "Epoch [6/20], Loss: 1.0199\n",
            "Epoch [7/20], Loss: 0.5636\n",
            "Epoch [8/20], Loss: 1.5346\n",
            "Epoch [9/20], Loss: 0.6757\n",
            "Epoch [10/20], Loss: 0.3339\n",
            "Epoch [11/20], Loss: 0.1334\n",
            "Epoch [12/20], Loss: 0.2936\n",
            "Epoch [13/20], Loss: 0.1607\n",
            "Epoch [14/20], Loss: 0.5958\n",
            "Epoch [15/20], Loss: 0.3449\n",
            "Epoch [16/20], Loss: 1.3287\n",
            "Epoch [17/20], Loss: 0.2311\n",
            "Epoch [18/20], Loss: 0.8356\n",
            "Epoch [19/20], Loss: 0.3082\n",
            "Epoch [20/20], Loss: 0.3413\n"
          ]
        }
      ],
      "source": [
        "# Training loop\n",
        "num_epochs = 20\n",
        "losses = np.zeros(num_epochs)\n",
        "\n",
        "for epoch in range(num_epochs):\n",
        "    for i, (images, labels) in enumerate(itr_merge(train_loader_original, train_loader_DCGAN)):\n",
        "        images = images.to(device)\n",
        "        labels = labels.reshape(-1).type(torch.LongTensor).to(device)\n",
        "\n",
        "        # Forward pass\n",
        "        outputs = model(images)\n",
        "        loss = criterion(outputs, labels)\n",
        "\n",
        "        # Backward and optimize\n",
        "        optimizer.zero_grad()\n",
        "        loss.backward()\n",
        "        optimizer.step()\n",
        "\n",
        "    losses[epoch] = loss.item()\n",
        "    print ('Epoch [{}/{}], Loss: {:.4f}'.format(epoch+1, num_epochs, loss.item()))"
      ]
    },
    {
      "cell_type": "code",
      "source": [
        "with open(path + 'pickle/c_DCGAN_RN_model.pickle_new', 'wb') as handle:\n",
        "    pickle.dump(model, handle)\n",
        "with open(path + 'pickle/c_DCGAN_RN_loss.pickle_new', 'wb') as handle:\n",
        "    pickle.dump(losses, handle)"
      ],
      "metadata": {
        "id": "SRZ46DGP7Ji2"
      },
      "execution_count": null,
      "outputs": []
    },
    {
      "cell_type": "code",
      "source": [
        "# Plot Training Loss\n",
        "plt.plot(losses)\n",
        "plt.xlabel('Epoch')\n",
        "plt.ylabel('Cross Entropy Loss')\n",
        "plt.title('Combined DCGAN Augmented ResNet Model Training Loss');"
      ],
      "metadata": {
        "id": "uC4si6QU7Ji3",
        "colab": {
          "base_uri": "https://localhost:8080/",
          "height": 472
        },
        "outputId": "8fc378b7-235e-4316-ca94-182d139802fd"
      },
      "execution_count": null,
      "outputs": [
        {
          "output_type": "display_data",
          "data": {
            "text/plain": [
              "<Figure size 640x480 with 1 Axes>"
            ],
            "image/png": "[encoded data removed]"
          },
          "metadata": {}
        }
      ]
    },
    {
      "cell_type": "markdown",
      "metadata": {
        "id": "0rA_U5iB7Ji3"
      },
      "source": [
        "##### Testing"
      ]
    },
    {
      "cell_type": "code",
      "source": [
        "model.eval()\n",
        "\n",
        "correct_predictions = 0\n",
        "total_predictions = 0\n",
        "\n",
        "with torch.no_grad():\n",
        "    for i, (images, labels) in enumerate(test_loader_original):\n",
        "        images = images.to(device)\n",
        "        labels = labels.reshape(-1).type(torch.LongTensor).to(device)\n",
        "\n",
        "        # Forward pass\n",
        "        outputs = model(images)\n",
        "\n",
        "        _, predicted = torch.max(outputs.data, 1)\n",
        "        total_predictions += labels.size(0)\n",
        "        correct_predictions += (predicted == labels).sum().item()\n",
        "\n",
        "accuracy = correct_predictions / total_predictions * 100\n",
        "print('Accuracy on the test set: {:.2f}%'.format(accuracy))"
      ],
      "metadata": {
        "id": "eEe5RSFP7Ji4",
        "colab": {
          "base_uri": "https://localhost:8080/"
        },
        "outputId": "c1086345-e580-427e-8f00-3af619bb75a2"
      },
      "execution_count": null,
      "outputs": [
        {
          "output_type": "stream",
          "name": "stdout",
          "text": [
            "Accuracy on the test set: 17.00%\n"
          ]
        }
      ]
    },
    {
      "cell_type": "markdown",
      "metadata": {
        "id": "9ZQkMrG2K0H0"
      },
      "source": [
        "#### VGG"
      ]
    },
    {
      "cell_type": "markdown",
      "source": [
        "##### Training"
      ],
      "metadata": {
        "id": "gq2Q65-KZwvD"
      }
    },
    {
      "cell_type": "code",
      "execution_count": null,
      "metadata": {
        "colab": {
          "base_uri": "https://localhost:8080/"
        },
        "outputId": "e9678d28-5a1d-45bc-9363-d73ca2960aee",
        "id": "wasgHFi2ZwvD"
      },
      "outputs": [
        {
          "output_type": "stream",
          "name": "stderr",
          "text": [
            "/usr/local/lib/python3.10/dist-packages/torchvision/models/_utils.py:223: UserWarning: Arguments other than a weight enum or `None` for 'weights' are deprecated since 0.13 and may be removed in the future. The current behavior is equivalent to passing `weights=VGG16_Weights.IMAGENET1K_V1`. You can also use `weights=VGG16_Weights.DEFAULT` to get the most up-to-date weights.\n",
            "  warnings.warn(msg)\n"
          ]
        }
      ],
      "source": [
        "# Define model\n",
        "model = VGGModel(num_classes=6).to(device)\n",
        "criterion = nn.CrossEntropyLoss()\n",
        "optimizer = torch.optim.Adam(model.parameters())"
      ]
    },
    {
      "cell_type": "code",
      "execution_count": null,
      "metadata": {
        "colab": {
          "base_uri": "https://localhost:8080/"
        },
        "outputId": "75fdd890-bedb-4520-b2be-8ba992b899d4",
        "id": "RaCHS0yjZwvD"
      },
      "outputs": [
        {
          "output_type": "stream",
          "name": "stdout",
          "text": [
            "Epoch [1/10], Loss: 1.3619\n",
            "Epoch [2/10], Loss: 0.9223\n",
            "Epoch [3/10], Loss: 1.2727\n",
            "Epoch [4/10], Loss: 0.7904\n",
            "Epoch [5/10], Loss: 1.6325\n",
            "Epoch [6/10], Loss: 0.6814\n",
            "Epoch [7/10], Loss: 1.0637\n",
            "Epoch [8/10], Loss: 0.9995\n",
            "Epoch [9/10], Loss: 0.5033\n",
            "Epoch [10/10], Loss: 0.5795\n"
          ]
        }
      ],
      "source": [
        "# Training loop\n",
        "num_epochs = 10\n",
        "losses = np.zeros(num_epochs)\n",
        "\n",
        "for epoch in range(num_epochs):\n",
        "    for i, (images, labels) in enumerate(itr_merge(train_loader_original, train_loader_DCGAN)):\n",
        "        images = images.to(device)\n",
        "        labels = labels.reshape(-1).type(torch.LongTensor).to(device)\n",
        "\n",
        "        # Forward pass\n",
        "        outputs = model(images)\n",
        "        loss = criterion(outputs, labels)\n",
        "\n",
        "        # Backward and optimize\n",
        "        optimizer.zero_grad()\n",
        "        loss.backward()\n",
        "        optimizer.step()\n",
        "\n",
        "    losses[epoch] = loss.item()\n",
        "    print ('Epoch [{}/{}], Loss: {:.4f}'.format(epoch+1, num_epochs, loss.item()))"
      ]
    },
    {
      "cell_type": "code",
      "source": [
        "with open(path + 'pickle/c_DCGAN_VGG_model.pickle_new', 'wb') as handle:\n",
        "    pickle.dump(model, handle)\n",
        "with open(path + 'pickle/c_DCGAN_VGG_loss.pickle_new', 'wb') as handle:\n",
        "    pickle.dump(losses, handle)"
      ],
      "metadata": {
        "id": "C0w2YclfZwvD"
      },
      "execution_count": null,
      "outputs": []
    },
    {
      "cell_type": "code",
      "source": [
        "# Plot Training Loss\n",
        "plt.plot(losses)\n",
        "plt.xlabel('Epoch')\n",
        "plt.ylabel('Cross Entropy Loss')\n",
        "plt.title('Combined DCGAN Augmented VGG Model Training Loss');"
      ],
      "metadata": {
        "colab": {
          "base_uri": "https://localhost:8080/",
          "height": 472
        },
        "outputId": "d0cb896a-14ac-443d-ab22-50a86e1a6000",
        "id": "fdMqk6gRZwvD"
      },
      "execution_count": null,
      "outputs": [
        {
          "output_type": "display_data",
          "data": {
            "text/plain": [
              "<Figure size 640x480 with 1 Axes>"
            ],
            "image/png": "[encoded data removed]"
          },
          "metadata": {}
        }
      ]
    },
    {
      "cell_type": "markdown",
      "metadata": {
        "id": "10d1i7FGZwvD"
      },
      "source": [
        "##### Testing"
      ]
    },
    {
      "cell_type": "code",
      "source": [
        "model.eval()\n",
        "\n",
        "correct_predictions = 0\n",
        "total_predictions = 0\n",
        "\n",
        "with torch.no_grad():\n",
        "    for i, (images, labels) in enumerate(test_loader_original):\n",
        "        images = images.to(device)\n",
        "        labels = labels.reshape(-1).type(torch.LongTensor).to(device)\n",
        "\n",
        "        # Forward pass\n",
        "        outputs = model(images)\n",
        "\n",
        "        _, predicted = torch.max(outputs.data, 1)\n",
        "        total_predictions += labels.size(0)\n",
        "        correct_predictions += (predicted == labels).sum().item()\n",
        "\n",
        "accuracy = correct_predictions / total_predictions * 100\n",
        "print('Accuracy on the test set: {:.2f}%'.format(accuracy))"
      ],
      "metadata": {
        "colab": {
          "base_uri": "https://localhost:8080/"
        },
        "outputId": "d270e460-0c39-45e2-9b55-9ff6a1a8dd90",
        "id": "KebTzUCaZwvD"
      },
      "execution_count": null,
      "outputs": [
        {
          "output_type": "stream",
          "name": "stdout",
          "text": [
            "Accuracy on the test set: 34.98%\n"
          ]
        }
      ]
    },
    {
      "cell_type": "markdown",
      "source": [
        "#### DCGAN Loss Plots"
      ],
      "metadata": {
        "id": "AuX3BMB_73L6"
      }
    },
    {
      "cell_type": "code",
      "source": [
        "with open(path + 'pickle/DCGAN/metal/D_loss_35.pickle', 'rb') as handle:\n",
        "    metalD = pickle.load(handle)\n",
        "with open(path + 'pickle/DCGAN/metal/G_loss_35.pickle', 'rb') as handle:\n",
        "    metalG = pickle.load(handle)"
      ],
      "metadata": {
        "id": "M7IPkOgdJxEt"
      },
      "execution_count": null,
      "outputs": []
    },
    {
      "cell_type": "code",
      "source": [
        "plt.plot(metalG)\n",
        "plt.plot(metalD)\n",
        "plt.title('DCGAN Loss: Metal')\n",
        "plt.legend(['Generator','Discriminator'])\n",
        "plt.xlabel('Epoch')\n",
        "plt.ylabel('Loss');"
      ],
      "metadata": {
        "colab": {
          "base_uri": "https://localhost:8080/",
          "height": 472
        },
        "id": "7cb3Vc2tJxCw",
        "outputId": "4abd2ec4-ab5c-40b9-b38f-1e358eed5342"
      },
      "execution_count": null,
      "outputs": [
        {
          "output_type": "display_data",
          "data": {
            "text/plain": [
              "<Figure size 640x480 with 1 Axes>"
            ],
            "image/png": "[encoded data removed]"
          },
          "metadata": {}
        }
      ]
    },
    {
      "cell_type": "code",
      "source": [
        "with open(path + 'pickle/DCGAN/cardboard/D_loss_35.pickle', 'rb') as handle:\n",
        "    metalD = pickle.load(handle)\n",
        "with open(path + 'pickle/DCGAN/cardboard/G_loss_35.pickle', 'rb') as handle:\n",
        "    metalG = pickle.load(handle)"
      ],
      "metadata": {
        "id": "zv0nTUhNK0Ql"
      },
      "execution_count": null,
      "outputs": []
    },
    {
      "cell_type": "code",
      "source": [
        "plt.plot(metalG)\n",
        "plt.plot(metalD)\n",
        "plt.title('DCGAN Loss: Cardboard')\n",
        "plt.legend(['Generator','Discriminator'])\n",
        "plt.xlabel('Epoch')\n",
        "plt.ylabel('Loss');"
      ],
      "metadata": {
        "colab": {
          "base_uri": "https://localhost:8080/",
          "height": 472
        },
        "outputId": "391e4b61-7c56-4b9b-c524-eae30f4ffc13",
        "id": "WEIMu0ynK0Q0"
      },
      "execution_count": null,
      "outputs": [
        {
          "output_type": "display_data",
          "data": {
            "text/plain": [
              "<Figure size 640x480 with 1 Axes>"
            ],
            "image/png": "[encoded data removed]"
          },
          "metadata": {}
        }
      ]
    },
    {
      "cell_type": "code",
      "source": [
        "with open(path + 'pickle/DCGAN/glass/D_loss_35.pickle', 'rb') as handle:\n",
        "    metalD = pickle.load(handle)\n",
        "with open(path + 'pickle/DCGAN/glass/G_loss_35.pickle', 'rb') as handle:\n",
        "    metalG = pickle.load(handle)"
      ],
      "metadata": {
        "id": "F5uzOlY6K0X0"
      },
      "execution_count": null,
      "outputs": []
    },
    {
      "cell_type": "code",
      "source": [
        "plt.plot(metalG)\n",
        "plt.plot(metalD)\n",
        "plt.title('DCGAN Loss: Glass')\n",
        "plt.legend(['Generator','Discriminator'])\n",
        "plt.xlabel('Epoch')\n",
        "plt.ylabel('Loss');"
      ],
      "metadata": {
        "colab": {
          "base_uri": "https://localhost:8080/",
          "height": 472
        },
        "outputId": "24dd2302-15e8-4e44-8321-968ce17accf4",
        "id": "MrYQP_SZK0X0"
      },
      "execution_count": null,
      "outputs": [
        {
          "output_type": "display_data",
          "data": {
            "text/plain": [
              "<Figure size 640x480 with 1 Axes>"
            ],
            "image/png": "[encoded data removed]"
          },
          "metadata": {}
        }
      ]
    },
    {
      "cell_type": "code",
      "source": [
        "with open(path + 'pickle/DCGAN/paper/D_loss_30.pickle', 'rb') as handle:\n",
        "    metalD = pickle.load(handle)\n",
        "with open(path + 'pickle/DCGAN/paper/G_loss_30.pickle', 'rb') as handle:\n",
        "    metalG = pickle.load(handle)"
      ],
      "metadata": {
        "id": "bdiV3JcgK0bj"
      },
      "execution_count": null,
      "outputs": []
    },
    {
      "cell_type": "code",
      "source": [
        "plt.plot(metalG)\n",
        "plt.plot(metalD)\n",
        "plt.title('DCGAN Loss: Paper')\n",
        "plt.legend(['Generator','Discriminator'])\n",
        "plt.xlabel('Epoch')\n",
        "plt.ylabel('Loss');"
      ],
      "metadata": {
        "colab": {
          "base_uri": "https://localhost:8080/",
          "height": 472
        },
        "outputId": "a0b46242-e156-4e95-f7b1-c7aeab2e6d66",
        "id": "eKsiz5jKK0bj"
      },
      "execution_count": null,
      "outputs": [
        {
          "output_type": "display_data",
          "data": {
            "text/plain": [
              "<Figure size 640x480 with 1 Axes>"
            ],
            "image/png": "[encoded data removed]"
          },
          "metadata": {}
        }
      ]
    },
    {
      "cell_type": "code",
      "source": [
        "with open(path + 'pickle/DCGAN/plastic/D_loss_35.pickle', 'rb') as handle:\n",
        "    metalD = pickle.load(handle)\n",
        "with open(path + 'pickle/DCGAN/plastic/G_loss_35.pickle', 'rb') as handle:\n",
        "    metalG = pickle.load(handle)"
      ],
      "metadata": {
        "id": "8zo4D3mBK03Q"
      },
      "execution_count": null,
      "outputs": []
    },
    {
      "cell_type": "code",
      "source": [
        "plt.plot(metalG)\n",
        "plt.plot(metalD)\n",
        "plt.title('DCGAN Loss: Plastic')\n",
        "plt.legend(['Generator','Discriminator'])\n",
        "plt.xlabel('Epoch')\n",
        "plt.ylabel('Loss');"
      ],
      "metadata": {
        "colab": {
          "base_uri": "https://localhost:8080/",
          "height": 472
        },
        "outputId": "c1731c5f-aa32-41bd-c097-bacbb367b430",
        "id": "XbD8XNBMK03Q"
      },
      "execution_count": null,
      "outputs": [
        {
          "output_type": "display_data",
          "data": {
            "text/plain": [
              "<Figure size 640x480 with 1 Axes>"
            ],
            "image/png": "[encoded data removed]"
          },
          "metadata": {}
        }
      ]
    },
    {
      "cell_type": "code",
      "source": [
        "with open(path + 'pickle/DCGAN/trash/D_loss_35.pickle', 'rb') as handle:\n",
        "    metalD = pickle.load(handle)\n",
        "with open(path + 'pickle/DCGAN/trash/G_loss_35.pickle', 'rb') as handle:\n",
        "    metalG = pickle.load(handle)"
      ],
      "metadata": {
        "id": "pTLMfFwqK08O"
      },
      "execution_count": null,
      "outputs": []
    },
    {
      "cell_type": "code",
      "source": [
        "plt.plot(metalG)\n",
        "plt.plot(metalD)\n",
        "plt.title('DCGAN Loss: Trash')\n",
        "plt.legend(['Generator','Discriminator'])\n",
        "plt.xlabel('Epoch')\n",
        "plt.ylabel('Loss');"
      ],
      "metadata": {
        "colab": {
          "base_uri": "https://localhost:8080/",
          "height": 472
        },
        "outputId": "18876dbc-9551-4e4b-d8f8-293eee3da5fe",
        "id": "LiZYGRN1K08P"
      },
      "execution_count": null,
      "outputs": [
        {
          "output_type": "display_data",
          "data": {
            "text/plain": [
              "<Figure size 640x480 with 1 Axes>"
            ],
            "image/png": "[encoded data removed]"
          },
          "metadata": {}
        }
      ]
    }
  ],
  "metadata": {
    "accelerator": "GPU",
    "colab": {
      "machine_shape": "hm",
      "provenance": [],
      "toc_visible": true,
      "gpuType": "T4"
    },
    "kernelspec": {
      "display_name": "Python 3",
      "name": "python3"
    },
    "language_info": {
      "name": "python"
    }
  },
  "nbformat": 4,
  "nbformat_minor": 0
}